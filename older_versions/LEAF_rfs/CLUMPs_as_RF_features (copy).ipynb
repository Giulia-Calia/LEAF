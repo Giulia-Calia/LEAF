{
 "cells": [
  {
   "cell_type": "code",
   "execution_count": 2,
   "id": "4f6cf180",
   "metadata": {},
   "outputs": [],
   "source": [
    "import pandas as pd\n",
    "import numpy as np\n",
    "import sklearn as skl \n",
    "import plotly.graph_objects as go\n",
    "import plotly.express as px\n",
    "import plotly.figure_factory as ff\n",
    "from scipy.stats import ttest_ind\n",
    "from sklearn.decomposition import PCA\n",
    "from Bio import SeqIO"
   ]
  },
  {
   "cell_type": "markdown",
   "id": "7b5f1346",
   "metadata": {},
   "source": [
    "# Inputs"
   ]
  },
  {
   "cell_type": "code",
   "execution_count": 3,
   "id": "2b59c381",
   "metadata": {},
   "outputs": [
    {
     "ename": "FileNotFoundError",
     "evalue": "[Errno 2] No such file or directory: '../demo/phyto_VAL_MOnSTER_results/clustering_and_CLUMPs/df_CLUMPs_in_eff_val.tsv'",
     "output_type": "error",
     "traceback": [
      "\u001b[0;31m---------------------------------------------------------------------------\u001b[0m",
      "\u001b[0;31mFileNotFoundError\u001b[0m                         Traceback (most recent call last)",
      "Input \u001b[0;32mIn [3]\u001b[0m, in \u001b[0;36m<module>\u001b[0;34m\u001b[0m\n\u001b[1;32m      1\u001b[0m \u001b[38;5;66;03m# import clumps counts of eff, non-eff dataset\u001b[39;00m\n\u001b[0;32m----> 2\u001b[0m clumps_in_eff \u001b[38;5;241m=\u001b[39m \u001b[43mpd\u001b[49m\u001b[38;5;241;43m.\u001b[39;49m\u001b[43mread_csv\u001b[49m\u001b[43m(\u001b[49m\u001b[38;5;124;43m\"\u001b[39;49m\u001b[38;5;124;43m../demo/phyto_VAL_MOnSTER_results/clustering_and_CLUMPs/df_CLUMPs_in_eff_val.tsv\u001b[39;49m\u001b[38;5;124;43m\"\u001b[39;49m\u001b[43m,\u001b[49m\n\u001b[1;32m      3\u001b[0m \u001b[43m                           \u001b[49m\u001b[43msep\u001b[49m\u001b[38;5;241;43m=\u001b[39;49m\u001b[38;5;124;43m\"\u001b[39;49m\u001b[38;5;124;43m,\u001b[39;49m\u001b[38;5;124;43m\"\u001b[39;49m\u001b[43m)\u001b[49m\n\u001b[1;32m      4\u001b[0m clumps_in_noneff \u001b[38;5;241m=\u001b[39m pd\u001b[38;5;241m.\u001b[39mread_csv(\u001b[38;5;124m\"\u001b[39m\u001b[38;5;124m../demo/phyto_MOnSTER_results/clustering_and_CLUMPs/df_CLUMPs_in_non_eff_val.tsv\u001b[39m\u001b[38;5;124m\"\u001b[39m,\n\u001b[1;32m      5\u001b[0m                               sep\u001b[38;5;241m=\u001b[39m\u001b[38;5;124m\"\u001b[39m\u001b[38;5;124m,\u001b[39m\u001b[38;5;124m\"\u001b[39m)\n",
      "File \u001b[0;32m~/.local/lib/python3.8/site-packages/pandas/util/_decorators.py:311\u001b[0m, in \u001b[0;36mdeprecate_nonkeyword_arguments.<locals>.decorate.<locals>.wrapper\u001b[0;34m(*args, **kwargs)\u001b[0m\n\u001b[1;32m    305\u001b[0m \u001b[38;5;28;01mif\u001b[39;00m \u001b[38;5;28mlen\u001b[39m(args) \u001b[38;5;241m>\u001b[39m num_allow_args:\n\u001b[1;32m    306\u001b[0m     warnings\u001b[38;5;241m.\u001b[39mwarn(\n\u001b[1;32m    307\u001b[0m         msg\u001b[38;5;241m.\u001b[39mformat(arguments\u001b[38;5;241m=\u001b[39marguments),\n\u001b[1;32m    308\u001b[0m         \u001b[38;5;167;01mFutureWarning\u001b[39;00m,\n\u001b[1;32m    309\u001b[0m         stacklevel\u001b[38;5;241m=\u001b[39mstacklevel,\n\u001b[1;32m    310\u001b[0m     )\n\u001b[0;32m--> 311\u001b[0m \u001b[38;5;28;01mreturn\u001b[39;00m \u001b[43mfunc\u001b[49m\u001b[43m(\u001b[49m\u001b[38;5;241;43m*\u001b[39;49m\u001b[43margs\u001b[49m\u001b[43m,\u001b[49m\u001b[43m \u001b[49m\u001b[38;5;241;43m*\u001b[39;49m\u001b[38;5;241;43m*\u001b[39;49m\u001b[43mkwargs\u001b[49m\u001b[43m)\u001b[49m\n",
      "File \u001b[0;32m~/.local/lib/python3.8/site-packages/pandas/io/parsers/readers.py:680\u001b[0m, in \u001b[0;36mread_csv\u001b[0;34m(filepath_or_buffer, sep, delimiter, header, names, index_col, usecols, squeeze, prefix, mangle_dupe_cols, dtype, engine, converters, true_values, false_values, skipinitialspace, skiprows, skipfooter, nrows, na_values, keep_default_na, na_filter, verbose, skip_blank_lines, parse_dates, infer_datetime_format, keep_date_col, date_parser, dayfirst, cache_dates, iterator, chunksize, compression, thousands, decimal, lineterminator, quotechar, quoting, doublequote, escapechar, comment, encoding, encoding_errors, dialect, error_bad_lines, warn_bad_lines, on_bad_lines, delim_whitespace, low_memory, memory_map, float_precision, storage_options)\u001b[0m\n\u001b[1;32m    665\u001b[0m kwds_defaults \u001b[38;5;241m=\u001b[39m _refine_defaults_read(\n\u001b[1;32m    666\u001b[0m     dialect,\n\u001b[1;32m    667\u001b[0m     delimiter,\n\u001b[0;32m   (...)\u001b[0m\n\u001b[1;32m    676\u001b[0m     defaults\u001b[38;5;241m=\u001b[39m{\u001b[38;5;124m\"\u001b[39m\u001b[38;5;124mdelimiter\u001b[39m\u001b[38;5;124m\"\u001b[39m: \u001b[38;5;124m\"\u001b[39m\u001b[38;5;124m,\u001b[39m\u001b[38;5;124m\"\u001b[39m},\n\u001b[1;32m    677\u001b[0m )\n\u001b[1;32m    678\u001b[0m kwds\u001b[38;5;241m.\u001b[39mupdate(kwds_defaults)\n\u001b[0;32m--> 680\u001b[0m \u001b[38;5;28;01mreturn\u001b[39;00m \u001b[43m_read\u001b[49m\u001b[43m(\u001b[49m\u001b[43mfilepath_or_buffer\u001b[49m\u001b[43m,\u001b[49m\u001b[43m \u001b[49m\u001b[43mkwds\u001b[49m\u001b[43m)\u001b[49m\n",
      "File \u001b[0;32m~/.local/lib/python3.8/site-packages/pandas/io/parsers/readers.py:575\u001b[0m, in \u001b[0;36m_read\u001b[0;34m(filepath_or_buffer, kwds)\u001b[0m\n\u001b[1;32m    572\u001b[0m _validate_names(kwds\u001b[38;5;241m.\u001b[39mget(\u001b[38;5;124m\"\u001b[39m\u001b[38;5;124mnames\u001b[39m\u001b[38;5;124m\"\u001b[39m, \u001b[38;5;28;01mNone\u001b[39;00m))\n\u001b[1;32m    574\u001b[0m \u001b[38;5;66;03m# Create the parser.\u001b[39;00m\n\u001b[0;32m--> 575\u001b[0m parser \u001b[38;5;241m=\u001b[39m \u001b[43mTextFileReader\u001b[49m\u001b[43m(\u001b[49m\u001b[43mfilepath_or_buffer\u001b[49m\u001b[43m,\u001b[49m\u001b[43m \u001b[49m\u001b[38;5;241;43m*\u001b[39;49m\u001b[38;5;241;43m*\u001b[39;49m\u001b[43mkwds\u001b[49m\u001b[43m)\u001b[49m\n\u001b[1;32m    577\u001b[0m \u001b[38;5;28;01mif\u001b[39;00m chunksize \u001b[38;5;129;01mor\u001b[39;00m iterator:\n\u001b[1;32m    578\u001b[0m     \u001b[38;5;28;01mreturn\u001b[39;00m parser\n",
      "File \u001b[0;32m~/.local/lib/python3.8/site-packages/pandas/io/parsers/readers.py:933\u001b[0m, in \u001b[0;36mTextFileReader.__init__\u001b[0;34m(self, f, engine, **kwds)\u001b[0m\n\u001b[1;32m    930\u001b[0m     \u001b[38;5;28mself\u001b[39m\u001b[38;5;241m.\u001b[39moptions[\u001b[38;5;124m\"\u001b[39m\u001b[38;5;124mhas_index_names\u001b[39m\u001b[38;5;124m\"\u001b[39m] \u001b[38;5;241m=\u001b[39m kwds[\u001b[38;5;124m\"\u001b[39m\u001b[38;5;124mhas_index_names\u001b[39m\u001b[38;5;124m\"\u001b[39m]\n\u001b[1;32m    932\u001b[0m \u001b[38;5;28mself\u001b[39m\u001b[38;5;241m.\u001b[39mhandles: IOHandles \u001b[38;5;241m|\u001b[39m \u001b[38;5;28;01mNone\u001b[39;00m \u001b[38;5;241m=\u001b[39m \u001b[38;5;28;01mNone\u001b[39;00m\n\u001b[0;32m--> 933\u001b[0m \u001b[38;5;28mself\u001b[39m\u001b[38;5;241m.\u001b[39m_engine \u001b[38;5;241m=\u001b[39m \u001b[38;5;28;43mself\u001b[39;49m\u001b[38;5;241;43m.\u001b[39;49m\u001b[43m_make_engine\u001b[49m\u001b[43m(\u001b[49m\u001b[43mf\u001b[49m\u001b[43m,\u001b[49m\u001b[43m \u001b[49m\u001b[38;5;28;43mself\u001b[39;49m\u001b[38;5;241;43m.\u001b[39;49m\u001b[43mengine\u001b[49m\u001b[43m)\u001b[49m\n",
      "File \u001b[0;32m~/.local/lib/python3.8/site-packages/pandas/io/parsers/readers.py:1217\u001b[0m, in \u001b[0;36mTextFileReader._make_engine\u001b[0;34m(self, f, engine)\u001b[0m\n\u001b[1;32m   1213\u001b[0m     mode \u001b[38;5;241m=\u001b[39m \u001b[38;5;124m\"\u001b[39m\u001b[38;5;124mrb\u001b[39m\u001b[38;5;124m\"\u001b[39m\n\u001b[1;32m   1214\u001b[0m \u001b[38;5;66;03m# error: No overload variant of \"get_handle\" matches argument types\u001b[39;00m\n\u001b[1;32m   1215\u001b[0m \u001b[38;5;66;03m# \"Union[str, PathLike[str], ReadCsvBuffer[bytes], ReadCsvBuffer[str]]\"\u001b[39;00m\n\u001b[1;32m   1216\u001b[0m \u001b[38;5;66;03m# , \"str\", \"bool\", \"Any\", \"Any\", \"Any\", \"Any\", \"Any\"\u001b[39;00m\n\u001b[0;32m-> 1217\u001b[0m \u001b[38;5;28mself\u001b[39m\u001b[38;5;241m.\u001b[39mhandles \u001b[38;5;241m=\u001b[39m \u001b[43mget_handle\u001b[49m\u001b[43m(\u001b[49m\u001b[43m  \u001b[49m\u001b[38;5;66;43;03m# type: ignore[call-overload]\u001b[39;49;00m\n\u001b[1;32m   1218\u001b[0m \u001b[43m    \u001b[49m\u001b[43mf\u001b[49m\u001b[43m,\u001b[49m\n\u001b[1;32m   1219\u001b[0m \u001b[43m    \u001b[49m\u001b[43mmode\u001b[49m\u001b[43m,\u001b[49m\n\u001b[1;32m   1220\u001b[0m \u001b[43m    \u001b[49m\u001b[43mencoding\u001b[49m\u001b[38;5;241;43m=\u001b[39;49m\u001b[38;5;28;43mself\u001b[39;49m\u001b[38;5;241;43m.\u001b[39;49m\u001b[43moptions\u001b[49m\u001b[38;5;241;43m.\u001b[39;49m\u001b[43mget\u001b[49m\u001b[43m(\u001b[49m\u001b[38;5;124;43m\"\u001b[39;49m\u001b[38;5;124;43mencoding\u001b[39;49m\u001b[38;5;124;43m\"\u001b[39;49m\u001b[43m,\u001b[49m\u001b[43m \u001b[49m\u001b[38;5;28;43;01mNone\u001b[39;49;00m\u001b[43m)\u001b[49m\u001b[43m,\u001b[49m\n\u001b[1;32m   1221\u001b[0m \u001b[43m    \u001b[49m\u001b[43mcompression\u001b[49m\u001b[38;5;241;43m=\u001b[39;49m\u001b[38;5;28;43mself\u001b[39;49m\u001b[38;5;241;43m.\u001b[39;49m\u001b[43moptions\u001b[49m\u001b[38;5;241;43m.\u001b[39;49m\u001b[43mget\u001b[49m\u001b[43m(\u001b[49m\u001b[38;5;124;43m\"\u001b[39;49m\u001b[38;5;124;43mcompression\u001b[39;49m\u001b[38;5;124;43m\"\u001b[39;49m\u001b[43m,\u001b[49m\u001b[43m \u001b[49m\u001b[38;5;28;43;01mNone\u001b[39;49;00m\u001b[43m)\u001b[49m\u001b[43m,\u001b[49m\n\u001b[1;32m   1222\u001b[0m \u001b[43m    \u001b[49m\u001b[43mmemory_map\u001b[49m\u001b[38;5;241;43m=\u001b[39;49m\u001b[38;5;28;43mself\u001b[39;49m\u001b[38;5;241;43m.\u001b[39;49m\u001b[43moptions\u001b[49m\u001b[38;5;241;43m.\u001b[39;49m\u001b[43mget\u001b[49m\u001b[43m(\u001b[49m\u001b[38;5;124;43m\"\u001b[39;49m\u001b[38;5;124;43mmemory_map\u001b[39;49m\u001b[38;5;124;43m\"\u001b[39;49m\u001b[43m,\u001b[49m\u001b[43m \u001b[49m\u001b[38;5;28;43;01mFalse\u001b[39;49;00m\u001b[43m)\u001b[49m\u001b[43m,\u001b[49m\n\u001b[1;32m   1223\u001b[0m \u001b[43m    \u001b[49m\u001b[43mis_text\u001b[49m\u001b[38;5;241;43m=\u001b[39;49m\u001b[43mis_text\u001b[49m\u001b[43m,\u001b[49m\n\u001b[1;32m   1224\u001b[0m \u001b[43m    \u001b[49m\u001b[43merrors\u001b[49m\u001b[38;5;241;43m=\u001b[39;49m\u001b[38;5;28;43mself\u001b[39;49m\u001b[38;5;241;43m.\u001b[39;49m\u001b[43moptions\u001b[49m\u001b[38;5;241;43m.\u001b[39;49m\u001b[43mget\u001b[49m\u001b[43m(\u001b[49m\u001b[38;5;124;43m\"\u001b[39;49m\u001b[38;5;124;43mencoding_errors\u001b[39;49m\u001b[38;5;124;43m\"\u001b[39;49m\u001b[43m,\u001b[49m\u001b[43m \u001b[49m\u001b[38;5;124;43m\"\u001b[39;49m\u001b[38;5;124;43mstrict\u001b[39;49m\u001b[38;5;124;43m\"\u001b[39;49m\u001b[43m)\u001b[49m\u001b[43m,\u001b[49m\n\u001b[1;32m   1225\u001b[0m \u001b[43m    \u001b[49m\u001b[43mstorage_options\u001b[49m\u001b[38;5;241;43m=\u001b[39;49m\u001b[38;5;28;43mself\u001b[39;49m\u001b[38;5;241;43m.\u001b[39;49m\u001b[43moptions\u001b[49m\u001b[38;5;241;43m.\u001b[39;49m\u001b[43mget\u001b[49m\u001b[43m(\u001b[49m\u001b[38;5;124;43m\"\u001b[39;49m\u001b[38;5;124;43mstorage_options\u001b[39;49m\u001b[38;5;124;43m\"\u001b[39;49m\u001b[43m,\u001b[49m\u001b[43m \u001b[49m\u001b[38;5;28;43;01mNone\u001b[39;49;00m\u001b[43m)\u001b[49m\u001b[43m,\u001b[49m\n\u001b[1;32m   1226\u001b[0m \u001b[43m\u001b[49m\u001b[43m)\u001b[49m\n\u001b[1;32m   1227\u001b[0m \u001b[38;5;28;01massert\u001b[39;00m \u001b[38;5;28mself\u001b[39m\u001b[38;5;241m.\u001b[39mhandles \u001b[38;5;129;01mis\u001b[39;00m \u001b[38;5;129;01mnot\u001b[39;00m \u001b[38;5;28;01mNone\u001b[39;00m\n\u001b[1;32m   1228\u001b[0m f \u001b[38;5;241m=\u001b[39m \u001b[38;5;28mself\u001b[39m\u001b[38;5;241m.\u001b[39mhandles\u001b[38;5;241m.\u001b[39mhandle\n",
      "File \u001b[0;32m~/.local/lib/python3.8/site-packages/pandas/io/common.py:789\u001b[0m, in \u001b[0;36mget_handle\u001b[0;34m(path_or_buf, mode, encoding, compression, memory_map, is_text, errors, storage_options)\u001b[0m\n\u001b[1;32m    784\u001b[0m \u001b[38;5;28;01melif\u001b[39;00m \u001b[38;5;28misinstance\u001b[39m(handle, \u001b[38;5;28mstr\u001b[39m):\n\u001b[1;32m    785\u001b[0m     \u001b[38;5;66;03m# Check whether the filename is to be opened in binary mode.\u001b[39;00m\n\u001b[1;32m    786\u001b[0m     \u001b[38;5;66;03m# Binary mode does not support 'encoding' and 'newline'.\u001b[39;00m\n\u001b[1;32m    787\u001b[0m     \u001b[38;5;28;01mif\u001b[39;00m ioargs\u001b[38;5;241m.\u001b[39mencoding \u001b[38;5;129;01mand\u001b[39;00m \u001b[38;5;124m\"\u001b[39m\u001b[38;5;124mb\u001b[39m\u001b[38;5;124m\"\u001b[39m \u001b[38;5;129;01mnot\u001b[39;00m \u001b[38;5;129;01min\u001b[39;00m ioargs\u001b[38;5;241m.\u001b[39mmode:\n\u001b[1;32m    788\u001b[0m         \u001b[38;5;66;03m# Encoding\u001b[39;00m\n\u001b[0;32m--> 789\u001b[0m         handle \u001b[38;5;241m=\u001b[39m \u001b[38;5;28;43mopen\u001b[39;49m\u001b[43m(\u001b[49m\n\u001b[1;32m    790\u001b[0m \u001b[43m            \u001b[49m\u001b[43mhandle\u001b[49m\u001b[43m,\u001b[49m\n\u001b[1;32m    791\u001b[0m \u001b[43m            \u001b[49m\u001b[43mioargs\u001b[49m\u001b[38;5;241;43m.\u001b[39;49m\u001b[43mmode\u001b[49m\u001b[43m,\u001b[49m\n\u001b[1;32m    792\u001b[0m \u001b[43m            \u001b[49m\u001b[43mencoding\u001b[49m\u001b[38;5;241;43m=\u001b[39;49m\u001b[43mioargs\u001b[49m\u001b[38;5;241;43m.\u001b[39;49m\u001b[43mencoding\u001b[49m\u001b[43m,\u001b[49m\n\u001b[1;32m    793\u001b[0m \u001b[43m            \u001b[49m\u001b[43merrors\u001b[49m\u001b[38;5;241;43m=\u001b[39;49m\u001b[43merrors\u001b[49m\u001b[43m,\u001b[49m\n\u001b[1;32m    794\u001b[0m \u001b[43m            \u001b[49m\u001b[43mnewline\u001b[49m\u001b[38;5;241;43m=\u001b[39;49m\u001b[38;5;124;43m\"\u001b[39;49m\u001b[38;5;124;43m\"\u001b[39;49m\u001b[43m,\u001b[49m\n\u001b[1;32m    795\u001b[0m \u001b[43m        \u001b[49m\u001b[43m)\u001b[49m\n\u001b[1;32m    796\u001b[0m     \u001b[38;5;28;01melse\u001b[39;00m:\n\u001b[1;32m    797\u001b[0m         \u001b[38;5;66;03m# Binary mode\u001b[39;00m\n\u001b[1;32m    798\u001b[0m         handle \u001b[38;5;241m=\u001b[39m \u001b[38;5;28mopen\u001b[39m(handle, ioargs\u001b[38;5;241m.\u001b[39mmode)\n",
      "\u001b[0;31mFileNotFoundError\u001b[0m: [Errno 2] No such file or directory: '../demo/phyto_VAL_MOnSTER_results/clustering_and_CLUMPs/df_CLUMPs_in_eff_val.tsv'"
     ]
    }
   ],
   "source": [
    "# import clumps counts of eff, non-eff dataset\n",
    "clumps_in_eff = pd.read_csv(\"../demo/phyto_VAL_MOnSTER_results/clustering_and_CLUMPs/df_CLUMPs_in_eff_val.tsv\",\n",
    "                           sep=\",\")\n",
    "clumps_in_noneff = pd.read_csv(\"../demo/phyto_MOnSTER_results/clustering_and_CLUMPs/df_CLUMPs_in_non_eff_val.tsv\",\n",
    "                              sep=\",\")\n"
   ]
  },
  {
   "cell_type": "markdown",
   "id": "e52c2d08",
   "metadata": {},
   "source": [
    "# CLUMPs EFFECTORS"
   ]
  },
  {
   "cell_type": "code",
   "execution_count": 5,
   "id": "1fa8e260",
   "metadata": {},
   "outputs": [
    {
     "data": {
      "text/html": [
       "<div>\n",
       "<style scoped>\n",
       "    .dataframe tbody tr th:only-of-type {\n",
       "        vertical-align: middle;\n",
       "    }\n",
       "\n",
       "    .dataframe tbody tr th {\n",
       "        vertical-align: top;\n",
       "    }\n",
       "\n",
       "    .dataframe thead th {\n",
       "        text-align: right;\n",
       "    }\n",
       "</style>\n",
       "<table border=\"1\" class=\"dataframe\">\n",
       "  <thead>\n",
       "    <tr style=\"text-align: right;\">\n",
       "      <th></th>\n",
       "      <th>CLUMP0</th>\n",
       "      <th>CLUMP1</th>\n",
       "      <th>CLUMP2</th>\n",
       "      <th>CLUMP3</th>\n",
       "      <th>CLUMP4</th>\n",
       "      <th>CLUMP5</th>\n",
       "      <th>CLUMP6</th>\n",
       "      <th>CLUMP7</th>\n",
       "      <th>CLUMP8</th>\n",
       "      <th>CLUMP9</th>\n",
       "      <th>CLUMP10</th>\n",
       "      <th>name</th>\n",
       "    </tr>\n",
       "  </thead>\n",
       "  <tbody>\n",
       "    <tr>\n",
       "      <th>SAP11_A0A7M3UQ93</th>\n",
       "      <td>7</td>\n",
       "      <td>0</td>\n",
       "      <td>1</td>\n",
       "      <td>1</td>\n",
       "      <td>1</td>\n",
       "      <td>2</td>\n",
       "      <td>0</td>\n",
       "      <td>1</td>\n",
       "      <td>0</td>\n",
       "      <td>0</td>\n",
       "      <td>0</td>\n",
       "      <td>SAP11_A0A7M3UQ93</td>\n",
       "    </tr>\n",
       "    <tr>\n",
       "      <th>SAP11_A0A895HT12</th>\n",
       "      <td>7</td>\n",
       "      <td>0</td>\n",
       "      <td>1</td>\n",
       "      <td>1</td>\n",
       "      <td>1</td>\n",
       "      <td>2</td>\n",
       "      <td>0</td>\n",
       "      <td>1</td>\n",
       "      <td>0</td>\n",
       "      <td>0</td>\n",
       "      <td>0</td>\n",
       "      <td>SAP11_A0A895HT12</td>\n",
       "    </tr>\n",
       "    <tr>\n",
       "      <th>SAP11_A0A1V0PKN0</th>\n",
       "      <td>7</td>\n",
       "      <td>0</td>\n",
       "      <td>1</td>\n",
       "      <td>1</td>\n",
       "      <td>1</td>\n",
       "      <td>2</td>\n",
       "      <td>0</td>\n",
       "      <td>1</td>\n",
       "      <td>0</td>\n",
       "      <td>0</td>\n",
       "      <td>0</td>\n",
       "      <td>SAP11_A0A1V0PKN0</td>\n",
       "    </tr>\n",
       "    <tr>\n",
       "      <th>SAP11_A0A4Y5R0G3</th>\n",
       "      <td>7</td>\n",
       "      <td>0</td>\n",
       "      <td>1</td>\n",
       "      <td>1</td>\n",
       "      <td>1</td>\n",
       "      <td>2</td>\n",
       "      <td>0</td>\n",
       "      <td>1</td>\n",
       "      <td>0</td>\n",
       "      <td>0</td>\n",
       "      <td>0</td>\n",
       "      <td>SAP11_A0A4Y5R0G3</td>\n",
       "    </tr>\n",
       "    <tr>\n",
       "      <th>SAP11_A0A7H9SKF2</th>\n",
       "      <td>7</td>\n",
       "      <td>0</td>\n",
       "      <td>1</td>\n",
       "      <td>1</td>\n",
       "      <td>1</td>\n",
       "      <td>2</td>\n",
       "      <td>0</td>\n",
       "      <td>1</td>\n",
       "      <td>0</td>\n",
       "      <td>0</td>\n",
       "      <td>0</td>\n",
       "      <td>SAP11_A0A7H9SKF2</td>\n",
       "    </tr>\n",
       "    <tr>\n",
       "      <th>...</th>\n",
       "      <td>...</td>\n",
       "      <td>...</td>\n",
       "      <td>...</td>\n",
       "      <td>...</td>\n",
       "      <td>...</td>\n",
       "      <td>...</td>\n",
       "      <td>...</td>\n",
       "      <td>...</td>\n",
       "      <td>...</td>\n",
       "      <td>...</td>\n",
       "      <td>...</td>\n",
       "      <td>...</td>\n",
       "    </tr>\n",
       "    <tr>\n",
       "      <th>PHYL1_A0A0A8JCY8</th>\n",
       "      <td>0</td>\n",
       "      <td>1</td>\n",
       "      <td>1</td>\n",
       "      <td>0</td>\n",
       "      <td>0</td>\n",
       "      <td>1</td>\n",
       "      <td>0</td>\n",
       "      <td>0</td>\n",
       "      <td>1</td>\n",
       "      <td>1</td>\n",
       "      <td>0</td>\n",
       "      <td>PHYL1_A0A0A8JCY8</td>\n",
       "    </tr>\n",
       "    <tr>\n",
       "      <th>PHYL1_A0A0A8JCY1</th>\n",
       "      <td>1</td>\n",
       "      <td>1</td>\n",
       "      <td>1</td>\n",
       "      <td>1</td>\n",
       "      <td>0</td>\n",
       "      <td>1</td>\n",
       "      <td>0</td>\n",
       "      <td>0</td>\n",
       "      <td>1</td>\n",
       "      <td>1</td>\n",
       "      <td>0</td>\n",
       "      <td>PHYL1_A0A0A8JCY1</td>\n",
       "    </tr>\n",
       "    <tr>\n",
       "      <th>PHYL1_A0A0A8JCG5</th>\n",
       "      <td>1</td>\n",
       "      <td>1</td>\n",
       "      <td>1</td>\n",
       "      <td>1</td>\n",
       "      <td>0</td>\n",
       "      <td>1</td>\n",
       "      <td>0</td>\n",
       "      <td>0</td>\n",
       "      <td>1</td>\n",
       "      <td>1</td>\n",
       "      <td>0</td>\n",
       "      <td>PHYL1_A0A0A8JCG5</td>\n",
       "    </tr>\n",
       "    <tr>\n",
       "      <th>TENGU_Q2NJV8</th>\n",
       "      <td>1</td>\n",
       "      <td>0</td>\n",
       "      <td>0</td>\n",
       "      <td>0</td>\n",
       "      <td>0</td>\n",
       "      <td>0</td>\n",
       "      <td>0</td>\n",
       "      <td>0</td>\n",
       "      <td>1</td>\n",
       "      <td>0</td>\n",
       "      <td>0</td>\n",
       "      <td>TENGU_Q2NJV8</td>\n",
       "    </tr>\n",
       "    <tr>\n",
       "      <th>PHYL1_A0A7G1GCL4</th>\n",
       "      <td>0</td>\n",
       "      <td>0</td>\n",
       "      <td>0</td>\n",
       "      <td>1</td>\n",
       "      <td>0</td>\n",
       "      <td>0</td>\n",
       "      <td>0</td>\n",
       "      <td>0</td>\n",
       "      <td>1</td>\n",
       "      <td>1</td>\n",
       "      <td>1</td>\n",
       "      <td>PHYL1_A0A7G1GCL4</td>\n",
       "    </tr>\n",
       "  </tbody>\n",
       "</table>\n",
       "<p>88 rows × 12 columns</p>\n",
       "</div>"
      ],
      "text/plain": [
       "                  CLUMP0  CLUMP1  CLUMP2  CLUMP3  CLUMP4  CLUMP5  CLUMP6  \\\n",
       "SAP11_A0A7M3UQ93       7       0       1       1       1       2       0   \n",
       "SAP11_A0A895HT12       7       0       1       1       1       2       0   \n",
       "SAP11_A0A1V0PKN0       7       0       1       1       1       2       0   \n",
       "SAP11_A0A4Y5R0G3       7       0       1       1       1       2       0   \n",
       "SAP11_A0A7H9SKF2       7       0       1       1       1       2       0   \n",
       "...                  ...     ...     ...     ...     ...     ...     ...   \n",
       "PHYL1_A0A0A8JCY8       0       1       1       0       0       1       0   \n",
       "PHYL1_A0A0A8JCY1       1       1       1       1       0       1       0   \n",
       "PHYL1_A0A0A8JCG5       1       1       1       1       0       1       0   \n",
       "TENGU_Q2NJV8           1       0       0       0       0       0       0   \n",
       "PHYL1_A0A7G1GCL4       0       0       0       1       0       0       0   \n",
       "\n",
       "                  CLUMP7  CLUMP8  CLUMP9  CLUMP10              name  \n",
       "SAP11_A0A7M3UQ93       1       0       0        0  SAP11_A0A7M3UQ93  \n",
       "SAP11_A0A895HT12       1       0       0        0  SAP11_A0A895HT12  \n",
       "SAP11_A0A1V0PKN0       1       0       0        0  SAP11_A0A1V0PKN0  \n",
       "SAP11_A0A4Y5R0G3       1       0       0        0  SAP11_A0A4Y5R0G3  \n",
       "SAP11_A0A7H9SKF2       1       0       0        0  SAP11_A0A7H9SKF2  \n",
       "...                  ...     ...     ...      ...               ...  \n",
       "PHYL1_A0A0A8JCY8       0       1       1        0  PHYL1_A0A0A8JCY8  \n",
       "PHYL1_A0A0A8JCY1       0       1       1        0  PHYL1_A0A0A8JCY1  \n",
       "PHYL1_A0A0A8JCG5       0       1       1        0  PHYL1_A0A0A8JCG5  \n",
       "TENGU_Q2NJV8           0       1       0        0      TENGU_Q2NJV8  \n",
       "PHYL1_A0A7G1GCL4       0       1       1        1  PHYL1_A0A7G1GCL4  \n",
       "\n",
       "[88 rows x 12 columns]"
      ]
     },
     "execution_count": 5,
     "metadata": {},
     "output_type": "execute_result"
    }
   ],
   "source": [
    "\n",
    "\n",
    "# clumps per eff \n",
    "clumps_per_eff = {}\n",
    "for p in clumps_in_eff[\"seq_id\"]:\n",
    "    clumps_per_eff[p] = [0] * len(np.unique(clumps_in_eff[\"CLUMP\"]))\n",
    "    act_df = clumps_in_eff[clumps_in_eff[\"seq_id\"] == p]\n",
    "    act_index = list(act_df.index)\n",
    "    i = 0\n",
    "    for c in act_df[\"CLUMP\"]:\n",
    "        clumps_per_eff[p][c] = act_df[\"0\"].loc[act_index[i]]\n",
    "        i += 1\n",
    "clumps_feature_eff = pd.DataFrame(clumps_per_eff).transpose()\n",
    "clumps_feature_eff.columns = [f\"CLUMP{c}\" for c in clumps_feature_eff]\n",
    "clumps_feature_eff[\"name\"] = clumps_feature_eff.index\n",
    "clumps_feature_eff.to_csv(\"../demo/phyto_MOnSTER_results/clustering_and_CLUMPs/CLUMPs_as_feature_eff.tsv\",\n",
    "                             sep=\"\\t\",\n",
    "                             index=False)\n",
    "clumps_feature_eff"
   ]
  },
  {
   "cell_type": "markdown",
   "id": "da4ea660",
   "metadata": {},
   "source": [
    "# CLUMPs NON-EFFECTORS"
   ]
  },
  {
   "cell_type": "code",
   "execution_count": 6,
   "id": "fc74b9d3",
   "metadata": {},
   "outputs": [
    {
     "data": {
      "text/html": [
       "<div>\n",
       "<style scoped>\n",
       "    .dataframe tbody tr th:only-of-type {\n",
       "        vertical-align: middle;\n",
       "    }\n",
       "\n",
       "    .dataframe tbody tr th {\n",
       "        vertical-align: top;\n",
       "    }\n",
       "\n",
       "    .dataframe thead th {\n",
       "        text-align: right;\n",
       "    }\n",
       "</style>\n",
       "<table border=\"1\" class=\"dataframe\">\n",
       "  <thead>\n",
       "    <tr style=\"text-align: right;\">\n",
       "      <th></th>\n",
       "      <th>CLUMP0</th>\n",
       "      <th>CLUMP1</th>\n",
       "      <th>CLUMP2</th>\n",
       "      <th>CLUMP3</th>\n",
       "      <th>CLUMP4</th>\n",
       "      <th>CLUMP5</th>\n",
       "      <th>CLUMP6</th>\n",
       "      <th>CLUMP7</th>\n",
       "      <th>CLUMP8</th>\n",
       "      <th>CLUMP9</th>\n",
       "      <th>CLUMP10</th>\n",
       "      <th>name</th>\n",
       "    </tr>\n",
       "  </thead>\n",
       "  <tbody>\n",
       "    <tr>\n",
       "      <th>sp|B3QZH0|RPOB_PHYMT</th>\n",
       "      <td>7</td>\n",
       "      <td>0</td>\n",
       "      <td>0</td>\n",
       "      <td>1</td>\n",
       "      <td>2</td>\n",
       "      <td>2</td>\n",
       "      <td>1</td>\n",
       "      <td>1</td>\n",
       "      <td>0</td>\n",
       "      <td>0</td>\n",
       "      <td>0</td>\n",
       "      <td>B3QZH0</td>\n",
       "    </tr>\n",
       "    <tr>\n",
       "      <th>sp|Q2NJZ2|SYFB_AYWBP</th>\n",
       "      <td>0</td>\n",
       "      <td>0</td>\n",
       "      <td>0</td>\n",
       "      <td>4</td>\n",
       "      <td>2</td>\n",
       "      <td>6</td>\n",
       "      <td>1</td>\n",
       "      <td>0</td>\n",
       "      <td>0</td>\n",
       "      <td>0</td>\n",
       "      <td>0</td>\n",
       "      <td>Q2NJZ2</td>\n",
       "    </tr>\n",
       "    <tr>\n",
       "      <th>sp|Q2NJ16|RPOC_AYWBP</th>\n",
       "      <td>5</td>\n",
       "      <td>0</td>\n",
       "      <td>0</td>\n",
       "      <td>2</td>\n",
       "      <td>1</td>\n",
       "      <td>5</td>\n",
       "      <td>0</td>\n",
       "      <td>1</td>\n",
       "      <td>2</td>\n",
       "      <td>0</td>\n",
       "      <td>0</td>\n",
       "      <td>Q2NJ16</td>\n",
       "    </tr>\n",
       "    <tr>\n",
       "      <th>sp|B3R0L6|DNAA_PHYMT</th>\n",
       "      <td>5</td>\n",
       "      <td>0</td>\n",
       "      <td>1</td>\n",
       "      <td>0</td>\n",
       "      <td>0</td>\n",
       "      <td>1</td>\n",
       "      <td>0</td>\n",
       "      <td>2</td>\n",
       "      <td>0</td>\n",
       "      <td>0</td>\n",
       "      <td>0</td>\n",
       "      <td>B3R0L6</td>\n",
       "    </tr>\n",
       "    <tr>\n",
       "      <th>sp|Q2NJ15|RPOB_AYWBP</th>\n",
       "      <td>5</td>\n",
       "      <td>0</td>\n",
       "      <td>0</td>\n",
       "      <td>0</td>\n",
       "      <td>2</td>\n",
       "      <td>2</td>\n",
       "      <td>1</td>\n",
       "      <td>0</td>\n",
       "      <td>2</td>\n",
       "      <td>0</td>\n",
       "      <td>0</td>\n",
       "      <td>Q2NJ15</td>\n",
       "    </tr>\n",
       "    <tr>\n",
       "      <th>...</th>\n",
       "      <td>...</td>\n",
       "      <td>...</td>\n",
       "      <td>...</td>\n",
       "      <td>...</td>\n",
       "      <td>...</td>\n",
       "      <td>...</td>\n",
       "      <td>...</td>\n",
       "      <td>...</td>\n",
       "      <td>...</td>\n",
       "      <td>...</td>\n",
       "      <td>...</td>\n",
       "      <td>...</td>\n",
       "    </tr>\n",
       "    <tr>\n",
       "      <th>sp|B1VA77|RRF_PHYAS</th>\n",
       "      <td>0</td>\n",
       "      <td>0</td>\n",
       "      <td>0</td>\n",
       "      <td>1</td>\n",
       "      <td>0</td>\n",
       "      <td>0</td>\n",
       "      <td>0</td>\n",
       "      <td>0</td>\n",
       "      <td>0</td>\n",
       "      <td>0</td>\n",
       "      <td>0</td>\n",
       "      <td>B1VA77</td>\n",
       "    </tr>\n",
       "    <tr>\n",
       "      <th>sp|Q2NIM2|RL31_AYWBP</th>\n",
       "      <td>0</td>\n",
       "      <td>0</td>\n",
       "      <td>0</td>\n",
       "      <td>1</td>\n",
       "      <td>0</td>\n",
       "      <td>0</td>\n",
       "      <td>0</td>\n",
       "      <td>0</td>\n",
       "      <td>0</td>\n",
       "      <td>0</td>\n",
       "      <td>0</td>\n",
       "      <td>Q2NIM2</td>\n",
       "    </tr>\n",
       "    <tr>\n",
       "      <th>sp|Q2NIW6|RL5_AYWBP</th>\n",
       "      <td>0</td>\n",
       "      <td>0</td>\n",
       "      <td>0</td>\n",
       "      <td>1</td>\n",
       "      <td>0</td>\n",
       "      <td>0</td>\n",
       "      <td>0</td>\n",
       "      <td>0</td>\n",
       "      <td>0</td>\n",
       "      <td>0</td>\n",
       "      <td>0</td>\n",
       "      <td>Q2NIW6</td>\n",
       "    </tr>\n",
       "    <tr>\n",
       "      <th>sp|Q2NIM3|RL28_AYWBP</th>\n",
       "      <td>0</td>\n",
       "      <td>0</td>\n",
       "      <td>0</td>\n",
       "      <td>1</td>\n",
       "      <td>0</td>\n",
       "      <td>0</td>\n",
       "      <td>0</td>\n",
       "      <td>0</td>\n",
       "      <td>0</td>\n",
       "      <td>0</td>\n",
       "      <td>0</td>\n",
       "      <td>Q2NIM3</td>\n",
       "    </tr>\n",
       "    <tr>\n",
       "      <th>sp|B3R0E3|GPDA_PHYMT</th>\n",
       "      <td>0</td>\n",
       "      <td>0</td>\n",
       "      <td>0</td>\n",
       "      <td>1</td>\n",
       "      <td>0</td>\n",
       "      <td>0</td>\n",
       "      <td>0</td>\n",
       "      <td>0</td>\n",
       "      <td>0</td>\n",
       "      <td>0</td>\n",
       "      <td>0</td>\n",
       "      <td>B3R0E3</td>\n",
       "    </tr>\n",
       "  </tbody>\n",
       "</table>\n",
       "<p>248 rows × 12 columns</p>\n",
       "</div>"
      ],
      "text/plain": [
       "                      CLUMP0  CLUMP1  CLUMP2  CLUMP3  CLUMP4  CLUMP5  CLUMP6  \\\n",
       "sp|B3QZH0|RPOB_PHYMT       7       0       0       1       2       2       1   \n",
       "sp|Q2NJZ2|SYFB_AYWBP       0       0       0       4       2       6       1   \n",
       "sp|Q2NJ16|RPOC_AYWBP       5       0       0       2       1       5       0   \n",
       "sp|B3R0L6|DNAA_PHYMT       5       0       1       0       0       1       0   \n",
       "sp|Q2NJ15|RPOB_AYWBP       5       0       0       0       2       2       1   \n",
       "...                      ...     ...     ...     ...     ...     ...     ...   \n",
       "sp|B1VA77|RRF_PHYAS        0       0       0       1       0       0       0   \n",
       "sp|Q2NIM2|RL31_AYWBP       0       0       0       1       0       0       0   \n",
       "sp|Q2NIW6|RL5_AYWBP        0       0       0       1       0       0       0   \n",
       "sp|Q2NIM3|RL28_AYWBP       0       0       0       1       0       0       0   \n",
       "sp|B3R0E3|GPDA_PHYMT       0       0       0       1       0       0       0   \n",
       "\n",
       "                      CLUMP7  CLUMP8  CLUMP9  CLUMP10    name  \n",
       "sp|B3QZH0|RPOB_PHYMT       1       0       0        0  B3QZH0  \n",
       "sp|Q2NJZ2|SYFB_AYWBP       0       0       0        0  Q2NJZ2  \n",
       "sp|Q2NJ16|RPOC_AYWBP       1       2       0        0  Q2NJ16  \n",
       "sp|B3R0L6|DNAA_PHYMT       2       0       0        0  B3R0L6  \n",
       "sp|Q2NJ15|RPOB_AYWBP       0       2       0        0  Q2NJ15  \n",
       "...                      ...     ...     ...      ...     ...  \n",
       "sp|B1VA77|RRF_PHYAS        0       0       0        0  B1VA77  \n",
       "sp|Q2NIM2|RL31_AYWBP       0       0       0        0  Q2NIM2  \n",
       "sp|Q2NIW6|RL5_AYWBP        0       0       0        0  Q2NIW6  \n",
       "sp|Q2NIM3|RL28_AYWBP       0       0       0        0  Q2NIM3  \n",
       "sp|B3R0E3|GPDA_PHYMT       0       0       0        0  B3R0E3  \n",
       "\n",
       "[248 rows x 12 columns]"
      ]
     },
     "execution_count": 6,
     "metadata": {},
     "output_type": "execute_result"
    }
   ],
   "source": [
    "# clumps per non eff \n",
    "clumps_per_noneff = {}\n",
    "for p in clumps_in_noneff[\"seq_id\"]:\n",
    "    clumps_per_noneff[p] = [0] * len(np.unique(clumps_in_eff[\"CLUMP\"]))\n",
    "    act_df = clumps_in_noneff[clumps_in_noneff[\"seq_id\"] == p]\n",
    "    act_index = list(act_df.index)\n",
    "    i = 0\n",
    "    for c in act_df[\"CLUMP\"]:\n",
    "        clumps_per_noneff[p][c] = act_df[\"0\"].loc[act_index[i]]\n",
    "        i += 1\n",
    "clumps_feature_noneff = pd.DataFrame(clumps_per_noneff).transpose()\n",
    "clumps_feature_noneff.columns = [f\"CLUMP{c}\" for c in clumps_feature_noneff]\n",
    "clumps_feature_noneff[\"name\"] = [ i.split(\"|\")[1] for i in list(clumps_feature_noneff.index)]\n",
    "clumps_feature_noneff.to_csv(\"../demo/phyto_MOnSTER_results/clustering_and_CLUMPs/CLUMPs_as_feature_noneff.tsv\",\n",
    "                             sep=\"\\t\",\n",
    "                             index=False)\n",
    "clumps_feature_noneff"
   ]
  },
  {
   "cell_type": "markdown",
   "id": "3155727c",
   "metadata": {},
   "source": [
    "# CLUMPs EFF + NON EFF"
   ]
  },
  {
   "cell_type": "code",
   "execution_count": 28,
   "id": "f4f9365d",
   "metadata": {},
   "outputs": [],
   "source": [
    "clumps_feature_eff[\"name\"] = [\"effector\"] * len(clumps_feature_eff)\n",
    "clumps_feature_noneff[\"name\"] = [\"non_effector\"] * len(clumps_feature_noneff)\n",
    "clumps_feature_eff_noneff = pd.concat([clumps_feature_eff, clumps_feature_noneff], axis=0, join=\"inner\")\n",
    "clumps_feature_eff_noneff.reset_index(drop=True, inplace=True)\n"
   ]
  },
  {
   "cell_type": "markdown",
   "id": "dea06dbf",
   "metadata": {},
   "source": [
    "# CLUMPs VALIDATION SET "
   ]
  },
  {
   "cell_type": "code",
   "execution_count": 22,
   "id": "86e7ce31",
   "metadata": {},
   "outputs": [
    {
     "ename": "KeyError",
     "evalue": "'tr|A0A1Q1NH89|A0A1Q1NH89_9MOLU'",
     "output_type": "error",
     "traceback": [
      "\u001b[0;31m---------------------------------------------------------------------------\u001b[0m",
      "\u001b[0;31mKeyError\u001b[0m                                  Traceback (most recent call last)",
      "Input \u001b[0;32mIn [22]\u001b[0m, in \u001b[0;36m<module>\u001b[0;34m\u001b[0m\n\u001b[1;32m     42\u001b[0m     occ_val_eff[tmp_record_id] \u001b[38;5;241m=\u001b[39m {}\n\u001b[1;32m     43\u001b[0m \u001b[38;5;28;01melse\u001b[39;00m:\n\u001b[0;32m---> 44\u001b[0m     \u001b[38;5;28;01mif\u001b[39;00m \u001b[38;5;28mstr\u001b[39m(record\u001b[38;5;241m.\u001b[39mseq) \u001b[38;5;129;01mnot\u001b[39;00m \u001b[38;5;129;01min\u001b[39;00m \u001b[38;5;28mlist\u001b[39m(\u001b[43mocc_val_eff\u001b[49m\u001b[43m[\u001b[49m\u001b[43mtmp_record_id\u001b[49m\u001b[43m]\u001b[49m\u001b[38;5;241m.\u001b[39mkeys()):\n\u001b[1;32m     45\u001b[0m         occ_val_eff[tmp_record_id][\u001b[38;5;28mstr\u001b[39m(record\u001b[38;5;241m.\u001b[39mseq)] \u001b[38;5;241m=\u001b[39m \u001b[38;5;241m1\u001b[39m\n\u001b[1;32m     46\u001b[0m     \u001b[38;5;28;01melse\u001b[39;00m:\n",
      "\u001b[0;31mKeyError\u001b[0m: 'tr|A0A1Q1NH89|A0A1Q1NH89_9MOLU'"
     ]
    }
   ],
   "source": [
    "# training list of motifs\n",
    "mot_train = pd.read_csv(\"/home/giulia/Workspace/PhytoPhD/effectors_analysis/MONSTER_PROMOCA_FEM_Giulia/MOnSTER/data/datasets/phyto_motifs_no_prof.txt\",\n",
    "                       header=None)\n",
    "mot_val = pd.read_csv(\"/home/giulia/Workspace/PhytoPhD/effectors_analysis/classification/prediction_tools/pred_dataset_validazione20230117/val_eff_motifs20230117.txt\",\n",
    "                       header=None)\n",
    "\n",
    "# obtain the training motifs in the validation set\n",
    "intersect_train_val = list(set(list(mot_train[0])).intersection(list(mot_val[0])))\n",
    "motifs_train_to_clump = pd.read_csv(\"/home/giulia/Workspace/PhytoPhD/effectors_analysis/MONSTER_PROMOCA_FEM_Giulia/MOnSTER/demo/phyto_MOnSTER_results/clustering_and_CLUMPs/df_motifs_CLUMPs.tsv\",\n",
    "                                   sep=\",\", header=0)\n",
    "\n",
    "# motifs of training set present in validation set and corresponding training clump\n",
    "val_clump_df = motifs_train_to_clump[motifs_train_to_clump[\"motif\"].isin(intersect_train_val)]\n",
    "# print(val_clump_df)\n",
    "\n",
    "\n",
    "fasta_val_eff = SeqIO.parse(\"/home/giulia/Workspace/PhytoPhD/effectors_analysis/dataset_validazione20221110/uniprot_eff_putative_eff_TRULY_NEVER_SEEN_RF20221115.fasta\",\n",
    "                           \"fasta\")\n",
    "fasta_val_noneff = SeqIO.parse(\"/home/giulia/Workspace/PhytoPhD/effectors_analysis/dataset_validazione20221110/val20221109_sel_neg.fasta\",\n",
    "                              \"fasta\")\n",
    "fasta_val_neg_ids = pd.read_csv(\"/home/giulia/Workspace/PhytoPhD/effectors_analysis/dataset_validazione20221110/subset100_val20221109_ids_random.txt\",\n",
    "                           header=None)\n",
    "\n",
    "# select 100 non effector proteins from ids seleted before \n",
    "noneff_val_seq = {}\n",
    "\n",
    "for record in fasta_val_noneff:\n",
    "    if record.id in list(fasta_val_neg_ids[0]):\n",
    "        noneff_val_seq[record.id] = record.seq\n",
    "    else:\n",
    "        pass\n",
    "    \n",
    "# parse prosite to count occurrences of each clump \n",
    "prosite_val_eff = SeqIO.parse(\"/home/giulia/Workspace/PhytoPhD/effectors_analysis/classification/prediction_tools/pred_dataset_validazione20230117/prosite_val_eff_truly_never_seen20221115.fasta\",\n",
    "                         \"fasta\")\n",
    "tmp_record_id = \"\"\n",
    "occ_val_eff = {}\n",
    "val_eff_number = 0\n",
    "for record in prosite_val_eff:\n",
    "    val_eff_number += 1\n",
    "    if tmp_record_id != str(record.id.split(\"/\")[0]):\n",
    "        occ_val_eff[tmp_record_id] = {}\n",
    "    else:\n",
    "        if str(record.seq) not in list(occ_val_eff[tmp_record_id].keys()):\n",
    "            occ_val_eff[tmp_record_id][str(record.seq)] = 1\n",
    "        else:\n",
    "            occ_val_eff[tmp_record_id][str(record.seq)] += 1\n",
    "\n",
    "    tmp_record_id = str(record.id.split(\"/\")[0])\n",
    "\n",
    "\n",
    "\n",
    "\n",
    "clumps_occ_val = dict(zip([\"CLUMP0\", 'CLUMP1', 'CLUMP2', 'CLUMP3', 'CLUMP4', 'CLUMP5', 'CLUMP6',\n",
    "       'CLUMP7', 'CLUMP8', 'CLUMP9', 'CLUMP10'], [[0]* val_eff_number] * 11))\n",
    "# print(clumps_occ_val)\n",
    "    \n",
    "print(occ_val_eff)"
   ]
  },
  {
   "cell_type": "code",
   "execution_count": 81,
   "id": "15f81e48",
   "metadata": {},
   "outputs": [
    {
     "name": "stdout",
     "output_type": "stream",
     "text": [
      "     Unnamed: 0     motif  CLUMP\n",
      "1             1       TLK      1\n",
      "4             4      TLEE      3\n",
      "6             6       SLK      1\n",
      "9             9      NFTI      6\n",
      "11           11      SDPE      8\n",
      "12           12      TESE      4\n",
      "14           14      NYSE      9\n",
      "15           15      TLKD      1\n",
      "16           16  RDDEDDKY     10\n",
      "18           18      SEKE      4\n",
      "21           21      NSTR      7\n",
      "24           24      STRD      7\n",
      "25           25      TNID     11\n",
      "28           28      SITD     11\n",
      "30           30       TEK      4\n",
      "33           33       SSK      2\n",
      "35           35    GLQGSI     12\n",
      "37           37      NNSV     11\n",
      "41           41      NKTL     11\n",
      "43           43      SNND      7\n",
      "46           46      SSSE      2\n",
      "47           47      TEKE      4\n",
      "48           48      NITN     11\n",
      "49           49      KKGS      8\n",
      "50           50      TIEE      3\n",
      "54           54       TFK      9\n",
      "59           59      NATK      8\n",
      "62           62       STK      2\n",
      "63           63    GTSENQ      8\n",
      "68           68      KKNT      5\n",
      "69           69       STR      2\n",
      "70           70      TFSD      9\n",
      "71           71      SNDE      4\n",
      "73           73      KGKK      5\n",
      "74           74      NLTI     12\n",
      "80           80      NLTD     11\n",
      "83           83       TTK      2\n",
      "85           85      TRDD      4\n",
      "86           86      KKIT      1\n",
      "88           88      NYSI      6\n",
      "90           90       SYK      9\n",
      "94           94       SKK      5\n",
      "98           98      NGTR      8\n",
      "101         101       SEK      4\n",
      "102         102       SSR      2\n",
      "103         103       TER      4\n",
      "106         106      NITD     11\n",
      "107         107      SEED      4\n",
      "108         108       TYK      9\n",
      "111         111      TERE      4\n",
      "112         112       TKK      5\n",
      "114         114       SQK      7\n",
      "115         115      SIEE      3\n",
      "117         117      TKKD      5\n",
      "    motif  CLUMP                                 seq_id\n",
      "0    NYSE      9   tr|A0A1Q1NH89|A0A1Q1NH89_9MOLU/68-71\n",
      "1    KKGS      8  tr|A0A1Q1NH89|A0A1Q1NH89_9MOLU/99-102\n",
      "2     SEK      4   tr|A0A1Q1NH89|A0A1Q1NH89_9MOLU/45-47\n",
      "3     TTK      2   tr|A0A1Q1NH89|A0A1Q1NH89_9MOLU/51-53\n",
      "4     TKK      5   tr|A0A1Q1NH89|A0A1Q1NH89_9MOLU/52-54\n",
      "..    ...    ...                                    ...\n",
      "260  TERE      4   tr|A0A7G1GCL5|A0A7G1GCL5_9MOLU/13-16\n",
      "261  SNND      7   tr|A0A7G1GCL5|A0A7G1GCL5_9MOLU/21-24\n",
      "262  KKNT      5   tr|A0A7G1GCL6|A0A7G1GCL6_9MOLU/26-29\n",
      "263  TESE      4   tr|A0A7G1GCL6|A0A7G1GCL6_9MOLU/13-16\n",
      "264  SNND      7   tr|A0A7G1GCL6|A0A7G1GCL6_9MOLU/21-24\n",
      "\n",
      "[265 rows x 3 columns]\n",
      "     CLUMP                                  seq_id  0\n",
      "0       10  tr|A0A1S9LYK0|A0A1S9LYK0_9MOLU/106-113  2\n",
      "1       10  tr|A0A2S8NUU7|A0A2S8NUU7_9MOLU/104-111  2\n",
      "2       10  tr|A0A660HNE9|A0A660HNE9_ZIZJU/105-112  2\n",
      "3        1    tr|A0A1Q1NH89|A0A1Q1NH89_9MOLU/86-88  1\n",
      "4        5    tr|A0A1Q1NHA6|A0A1Q1NHA6_9MOLU/52-55  1\n",
      "..     ...                                     ... ..\n",
      "257      4  tr|A0A421NYW6|A0A421NYW6_9MOLU/202-205  1\n",
      "258      4    tr|A0A5N5XS43|A0A5N5XS43_9MOLU/48-50  1\n",
      "259      4    tr|A0A5N5XS43|A0A5N5XS43_9MOLU/48-51  1\n",
      "260      4    tr|A0A5N5XS43|A0A5N5XS43_9MOLU/55-57  1\n",
      "261     12    tr|A0A7G1GBC6|A0A7G1GBC6_9MOLU/16-21  1\n",
      "\n",
      "[262 rows x 3 columns]\n"
     ]
    }
   ],
   "source": [
    "\n",
    "# searching in the first df the val motifs\n",
    "# and add a column for each proteins \n",
    "\n",
    "# training clumps and the motifs belonging to it \n",
    "# mot_train = pd.read_csv(\"/home/giulia/Workspace/PhytoPhD/effectors_analysis/MONSTER_PROMOCA_FEM_Giulia/MOnSTER/data/datasets/phyto_motifs_no_prof.txt\",\n",
    "#                        header=None)\n",
    "motifs_train_to_clump = pd.read_csv(\"/home/giulia/Workspace/PhytoPhD/effectors_analysis/MONSTER_PROMOCA_FEM_Giulia/MOnSTER/demo/phyto_MOnSTER_results/clustering_and_CLUMPs/df_motifs_CLUMPs.tsv\",\n",
    "                                   sep=\",\", header=0)\n",
    "# validation motifs \n",
    "mot_val = pd.read_csv(\"/home/giulia/Workspace/PhytoPhD/effectors_analysis/classification/prediction_tools/pred_dataset_validazione20230117/val_eff_motifs20230117.txt\",\n",
    "                       header=None)\n",
    "\n",
    "# intersection between the training motifs list and the validation motifs \n",
    "intersect_train_val = list(set(list(motifs_train_to_clump[\"motif\"])).intersection(list(mot_val[0])))\n",
    "# motifs of training set present in validation set and corresponding training clump\n",
    "val_clump_df = motifs_train_to_clump[motifs_train_to_clump[\"motif\"].isin(intersect_train_val)]\n",
    "\n",
    "print(val_clump_df)\n",
    "\n",
    "prosite_val_eff = SeqIO.parse(\"/home/giulia/Workspace/PhytoPhD/effectors_analysis/classification/prediction_tools/pred_dataset_validazione20230117/prosite_val_eff_truly_never_seen20221115.fasta\",\n",
    "                         \"fasta\")\n",
    "\n",
    "# a list for the motifs, a list for the validation set sequence id associated with the motif\n",
    "# and a list for the belonging clump of the motif \n",
    "motifs = []\n",
    "seq_ids = []\n",
    "clumps = []\n",
    "for record in prosite_val_eff:\n",
    "    if str(record.seq) in list(val_clump_df[\"motif\"]):\n",
    "        clumps.append(val_clump_df[\"CLUMP\"].iloc[list(val_clump_df[\"motif\"]).index(str(record.seq))])\n",
    "        motifs.append(str(record.seq))\n",
    "        seq_ids.append(str(record.id))\n",
    "        \n",
    "# create the DF like in MOnSTER \n",
    "df_clumps_in_val = pd.DataFrame({\"motif\": motifs, \"CLUMP\": clumps, \"seq_id\": seq_ids})\n",
    "print(df_clumps_in_val)\n",
    "\n",
    "# count occurrences of clumps in each validation set protein\n",
    "clumps_in_valset = df_clumps_in_val[[\"CLUMP\", \"seq_id\"]].value_counts().reset_index()\n",
    "print(clumps_in_valset)"
   ]
  },
  {
   "cell_type": "code",
   "execution_count": 94,
   "id": "a64cdc39",
   "metadata": {},
   "outputs": [
    {
     "data": {
      "text/html": [
       "<div>\n",
       "<style scoped>\n",
       "    .dataframe tbody tr th:only-of-type {\n",
       "        vertical-align: middle;\n",
       "    }\n",
       "\n",
       "    .dataframe tbody tr th {\n",
       "        vertical-align: top;\n",
       "    }\n",
       "\n",
       "    .dataframe thead th {\n",
       "        text-align: right;\n",
       "    }\n",
       "</style>\n",
       "<table border=\"1\" class=\"dataframe\">\n",
       "  <thead>\n",
       "    <tr style=\"text-align: right;\">\n",
       "      <th></th>\n",
       "      <th>CLUMP0</th>\n",
       "      <th>CLUMP1</th>\n",
       "      <th>CLUMP2</th>\n",
       "      <th>CLUMP3</th>\n",
       "      <th>CLUMP4</th>\n",
       "      <th>CLUMP5</th>\n",
       "      <th>CLUMP6</th>\n",
       "      <th>CLUMP7</th>\n",
       "      <th>CLUMP8</th>\n",
       "      <th>CLUMP9</th>\n",
       "      <th>CLUMP10</th>\n",
       "      <th>CLUMP11</th>\n",
       "      <th>CLUMP12</th>\n",
       "      <th>name</th>\n",
       "    </tr>\n",
       "  </thead>\n",
       "  <tbody>\n",
       "    <tr>\n",
       "      <th>tr|A0A1S9LYK0|A0A1S9LYK0_9MOLU/106-113</th>\n",
       "      <td>0</td>\n",
       "      <td>0</td>\n",
       "      <td>0</td>\n",
       "      <td>0</td>\n",
       "      <td>0</td>\n",
       "      <td>0</td>\n",
       "      <td>0</td>\n",
       "      <td>0</td>\n",
       "      <td>0</td>\n",
       "      <td>0</td>\n",
       "      <td>2</td>\n",
       "      <td>0</td>\n",
       "      <td>0</td>\n",
       "      <td>A0A1S9LYK0</td>\n",
       "    </tr>\n",
       "    <tr>\n",
       "      <th>tr|A0A2S8NUU7|A0A2S8NUU7_9MOLU/104-111</th>\n",
       "      <td>0</td>\n",
       "      <td>0</td>\n",
       "      <td>0</td>\n",
       "      <td>0</td>\n",
       "      <td>0</td>\n",
       "      <td>0</td>\n",
       "      <td>0</td>\n",
       "      <td>0</td>\n",
       "      <td>0</td>\n",
       "      <td>0</td>\n",
       "      <td>2</td>\n",
       "      <td>0</td>\n",
       "      <td>0</td>\n",
       "      <td>A0A2S8NUU7</td>\n",
       "    </tr>\n",
       "    <tr>\n",
       "      <th>tr|A0A660HNE9|A0A660HNE9_ZIZJU/105-112</th>\n",
       "      <td>0</td>\n",
       "      <td>0</td>\n",
       "      <td>0</td>\n",
       "      <td>0</td>\n",
       "      <td>0</td>\n",
       "      <td>0</td>\n",
       "      <td>0</td>\n",
       "      <td>0</td>\n",
       "      <td>0</td>\n",
       "      <td>0</td>\n",
       "      <td>2</td>\n",
       "      <td>0</td>\n",
       "      <td>0</td>\n",
       "      <td>A0A660HNE9</td>\n",
       "    </tr>\n",
       "    <tr>\n",
       "      <th>tr|A0A1Q1NH89|A0A1Q1NH89_9MOLU/86-88</th>\n",
       "      <td>0</td>\n",
       "      <td>1</td>\n",
       "      <td>0</td>\n",
       "      <td>0</td>\n",
       "      <td>0</td>\n",
       "      <td>0</td>\n",
       "      <td>0</td>\n",
       "      <td>0</td>\n",
       "      <td>0</td>\n",
       "      <td>0</td>\n",
       "      <td>0</td>\n",
       "      <td>0</td>\n",
       "      <td>0</td>\n",
       "      <td>A0A1Q1NH89</td>\n",
       "    </tr>\n",
       "    <tr>\n",
       "      <th>tr|A0A1Q1NHA6|A0A1Q1NHA6_9MOLU/52-55</th>\n",
       "      <td>0</td>\n",
       "      <td>0</td>\n",
       "      <td>0</td>\n",
       "      <td>0</td>\n",
       "      <td>0</td>\n",
       "      <td>1</td>\n",
       "      <td>0</td>\n",
       "      <td>0</td>\n",
       "      <td>0</td>\n",
       "      <td>0</td>\n",
       "      <td>0</td>\n",
       "      <td>0</td>\n",
       "      <td>0</td>\n",
       "      <td>A0A1Q1NHA6</td>\n",
       "    </tr>\n",
       "    <tr>\n",
       "      <th>...</th>\n",
       "      <td>...</td>\n",
       "      <td>...</td>\n",
       "      <td>...</td>\n",
       "      <td>...</td>\n",
       "      <td>...</td>\n",
       "      <td>...</td>\n",
       "      <td>...</td>\n",
       "      <td>...</td>\n",
       "      <td>...</td>\n",
       "      <td>...</td>\n",
       "      <td>...</td>\n",
       "      <td>...</td>\n",
       "      <td>...</td>\n",
       "      <td>...</td>\n",
       "    </tr>\n",
       "    <tr>\n",
       "      <th>tr|A0A421NYW6|A0A421NYW6_9MOLU/202-205</th>\n",
       "      <td>0</td>\n",
       "      <td>0</td>\n",
       "      <td>0</td>\n",
       "      <td>0</td>\n",
       "      <td>1</td>\n",
       "      <td>0</td>\n",
       "      <td>0</td>\n",
       "      <td>0</td>\n",
       "      <td>0</td>\n",
       "      <td>0</td>\n",
       "      <td>0</td>\n",
       "      <td>0</td>\n",
       "      <td>0</td>\n",
       "      <td>A0A421NYW6</td>\n",
       "    </tr>\n",
       "    <tr>\n",
       "      <th>tr|A0A5N5XS43|A0A5N5XS43_9MOLU/48-50</th>\n",
       "      <td>0</td>\n",
       "      <td>0</td>\n",
       "      <td>0</td>\n",
       "      <td>0</td>\n",
       "      <td>1</td>\n",
       "      <td>0</td>\n",
       "      <td>0</td>\n",
       "      <td>0</td>\n",
       "      <td>0</td>\n",
       "      <td>0</td>\n",
       "      <td>0</td>\n",
       "      <td>0</td>\n",
       "      <td>0</td>\n",
       "      <td>A0A5N5XS43</td>\n",
       "    </tr>\n",
       "    <tr>\n",
       "      <th>tr|A0A5N5XS43|A0A5N5XS43_9MOLU/48-51</th>\n",
       "      <td>0</td>\n",
       "      <td>0</td>\n",
       "      <td>0</td>\n",
       "      <td>0</td>\n",
       "      <td>1</td>\n",
       "      <td>0</td>\n",
       "      <td>0</td>\n",
       "      <td>0</td>\n",
       "      <td>0</td>\n",
       "      <td>0</td>\n",
       "      <td>0</td>\n",
       "      <td>0</td>\n",
       "      <td>0</td>\n",
       "      <td>A0A5N5XS43</td>\n",
       "    </tr>\n",
       "    <tr>\n",
       "      <th>tr|A0A5N5XS43|A0A5N5XS43_9MOLU/55-57</th>\n",
       "      <td>0</td>\n",
       "      <td>0</td>\n",
       "      <td>0</td>\n",
       "      <td>0</td>\n",
       "      <td>1</td>\n",
       "      <td>0</td>\n",
       "      <td>0</td>\n",
       "      <td>0</td>\n",
       "      <td>0</td>\n",
       "      <td>0</td>\n",
       "      <td>0</td>\n",
       "      <td>0</td>\n",
       "      <td>0</td>\n",
       "      <td>A0A5N5XS43</td>\n",
       "    </tr>\n",
       "    <tr>\n",
       "      <th>tr|A0A7G1GBC6|A0A7G1GBC6_9MOLU/16-21</th>\n",
       "      <td>0</td>\n",
       "      <td>0</td>\n",
       "      <td>0</td>\n",
       "      <td>0</td>\n",
       "      <td>0</td>\n",
       "      <td>0</td>\n",
       "      <td>0</td>\n",
       "      <td>0</td>\n",
       "      <td>0</td>\n",
       "      <td>0</td>\n",
       "      <td>0</td>\n",
       "      <td>0</td>\n",
       "      <td>1</td>\n",
       "      <td>A0A7G1GBC6</td>\n",
       "    </tr>\n",
       "  </tbody>\n",
       "</table>\n",
       "<p>262 rows × 14 columns</p>\n",
       "</div>"
      ],
      "text/plain": [
       "                                        CLUMP0  CLUMP1  CLUMP2  CLUMP3  \\\n",
       "tr|A0A1S9LYK0|A0A1S9LYK0_9MOLU/106-113       0       0       0       0   \n",
       "tr|A0A2S8NUU7|A0A2S8NUU7_9MOLU/104-111       0       0       0       0   \n",
       "tr|A0A660HNE9|A0A660HNE9_ZIZJU/105-112       0       0       0       0   \n",
       "tr|A0A1Q1NH89|A0A1Q1NH89_9MOLU/86-88         0       1       0       0   \n",
       "tr|A0A1Q1NHA6|A0A1Q1NHA6_9MOLU/52-55         0       0       0       0   \n",
       "...                                        ...     ...     ...     ...   \n",
       "tr|A0A421NYW6|A0A421NYW6_9MOLU/202-205       0       0       0       0   \n",
       "tr|A0A5N5XS43|A0A5N5XS43_9MOLU/48-50         0       0       0       0   \n",
       "tr|A0A5N5XS43|A0A5N5XS43_9MOLU/48-51         0       0       0       0   \n",
       "tr|A0A5N5XS43|A0A5N5XS43_9MOLU/55-57         0       0       0       0   \n",
       "tr|A0A7G1GBC6|A0A7G1GBC6_9MOLU/16-21         0       0       0       0   \n",
       "\n",
       "                                        CLUMP4  CLUMP5  CLUMP6  CLUMP7  \\\n",
       "tr|A0A1S9LYK0|A0A1S9LYK0_9MOLU/106-113       0       0       0       0   \n",
       "tr|A0A2S8NUU7|A0A2S8NUU7_9MOLU/104-111       0       0       0       0   \n",
       "tr|A0A660HNE9|A0A660HNE9_ZIZJU/105-112       0       0       0       0   \n",
       "tr|A0A1Q1NH89|A0A1Q1NH89_9MOLU/86-88         0       0       0       0   \n",
       "tr|A0A1Q1NHA6|A0A1Q1NHA6_9MOLU/52-55         0       1       0       0   \n",
       "...                                        ...     ...     ...     ...   \n",
       "tr|A0A421NYW6|A0A421NYW6_9MOLU/202-205       1       0       0       0   \n",
       "tr|A0A5N5XS43|A0A5N5XS43_9MOLU/48-50         1       0       0       0   \n",
       "tr|A0A5N5XS43|A0A5N5XS43_9MOLU/48-51         1       0       0       0   \n",
       "tr|A0A5N5XS43|A0A5N5XS43_9MOLU/55-57         1       0       0       0   \n",
       "tr|A0A7G1GBC6|A0A7G1GBC6_9MOLU/16-21         0       0       0       0   \n",
       "\n",
       "                                        CLUMP8  CLUMP9  CLUMP10  CLUMP11  \\\n",
       "tr|A0A1S9LYK0|A0A1S9LYK0_9MOLU/106-113       0       0        2        0   \n",
       "tr|A0A2S8NUU7|A0A2S8NUU7_9MOLU/104-111       0       0        2        0   \n",
       "tr|A0A660HNE9|A0A660HNE9_ZIZJU/105-112       0       0        2        0   \n",
       "tr|A0A1Q1NH89|A0A1Q1NH89_9MOLU/86-88         0       0        0        0   \n",
       "tr|A0A1Q1NHA6|A0A1Q1NHA6_9MOLU/52-55         0       0        0        0   \n",
       "...                                        ...     ...      ...      ...   \n",
       "tr|A0A421NYW6|A0A421NYW6_9MOLU/202-205       0       0        0        0   \n",
       "tr|A0A5N5XS43|A0A5N5XS43_9MOLU/48-50         0       0        0        0   \n",
       "tr|A0A5N5XS43|A0A5N5XS43_9MOLU/48-51         0       0        0        0   \n",
       "tr|A0A5N5XS43|A0A5N5XS43_9MOLU/55-57         0       0        0        0   \n",
       "tr|A0A7G1GBC6|A0A7G1GBC6_9MOLU/16-21         0       0        0        0   \n",
       "\n",
       "                                        CLUMP12        name  \n",
       "tr|A0A1S9LYK0|A0A1S9LYK0_9MOLU/106-113        0  A0A1S9LYK0  \n",
       "tr|A0A2S8NUU7|A0A2S8NUU7_9MOLU/104-111        0  A0A2S8NUU7  \n",
       "tr|A0A660HNE9|A0A660HNE9_ZIZJU/105-112        0  A0A660HNE9  \n",
       "tr|A0A1Q1NH89|A0A1Q1NH89_9MOLU/86-88          0  A0A1Q1NH89  \n",
       "tr|A0A1Q1NHA6|A0A1Q1NHA6_9MOLU/52-55          0  A0A1Q1NHA6  \n",
       "...                                         ...         ...  \n",
       "tr|A0A421NYW6|A0A421NYW6_9MOLU/202-205        0  A0A421NYW6  \n",
       "tr|A0A5N5XS43|A0A5N5XS43_9MOLU/48-50          0  A0A5N5XS43  \n",
       "tr|A0A5N5XS43|A0A5N5XS43_9MOLU/48-51          0  A0A5N5XS43  \n",
       "tr|A0A5N5XS43|A0A5N5XS43_9MOLU/55-57          0  A0A5N5XS43  \n",
       "tr|A0A7G1GBC6|A0A7G1GBC6_9MOLU/16-21          1  A0A7G1GBC6  \n",
       "\n",
       "[262 rows x 14 columns]"
      ]
     },
     "execution_count": 94,
     "metadata": {},
     "output_type": "execute_result"
    }
   ],
   "source": [
    "# clumps per validation set\n",
    "clumps_per_valset = {}\n",
    "\n",
    "\n",
    "for p in list(clumps_in_valset[\"seq_id\"]):\n",
    "    clumps_per_valset[p] = [0] * len(np.unique(list(motifs_train_to_clump[\"CLUMP\"])))\n",
    "    act_df = clumps_in_valset[clumps_in_valset[\"seq_id\"] == p]\n",
    "    act_index = list(act_df.index)\n",
    "    i = 0\n",
    "    for c in act_df[\"CLUMP\"]:\n",
    "        clumps_per_valset[p][c] = act_df[0].loc[act_index[i]]\n",
    "        i += 1\n",
    "clumps_feature_valset = pd.DataFrame(clumps_per_valset).transpose()\n",
    "clumps_feature_valset.columns = [f\"CLUMP{c}\" for c in clumps_feature_valset]\n",
    "clumps_feature_valset[\"name\"] = [ i.split(\"|\")[1] for i in list(clumps_feature_valset.index)]\n",
    "# clumps_feature_valset.to_csv(\"../demo/phyto_MOnSTER_results/clustering_and_CLUMPs/CLUMPs_as_feature_valset.tsv\",\n",
    "#                              sep=\"\\t\",\n",
    "#                              index=False)\n",
    "clumps_feature_valset"
   ]
  },
  {
   "cell_type": "markdown",
   "id": "63d49299",
   "metadata": {},
   "source": [
    "## CLUMPs EXPLORATORY ANALYSIS"
   ]
  },
  {
   "cell_type": "markdown",
   "id": "3ca17056",
   "metadata": {},
   "source": [
    "### CLUMPs distributions btw EFFECTORS and NON-EFFECTORS"
   ]
  },
  {
   "cell_type": "code",
   "execution_count": 55,
   "id": "77163c7e",
   "metadata": {},
   "outputs": [
    {
     "name": "stdout",
     "output_type": "stream",
     "text": [
      "{'CLUMP0': 3.2516019170495705e-06, 'CLUMP1': 3.01585651732876e-22, 'CLUMP2': 5.703845988809711e-52, 'CLUMP4': 1.7274299798276098e-06, 'CLUMP5': 0.0006712999282875999, 'CLUMP6': 0.00023064393861470508, 'CLUMP7': 6.131026040544991e-07, 'CLUMP8': 1.201293541368159e-27, 'CLUMP9': 1.725548199743355e-25}\n",
      "48\n",
      "[2.159090909090909, 0.5454545454545454, 0.9886363636363636, 0.9431818181818182, 0.4318181818181818, 1.2045454545454546, 0.2159090909090909, 0.4431818181818182, 0.625, 0.4659090909090909, 0.011363636363636364]\n",
      "[1.189516129032258, 0.04838709677419355, 0.05241935483870968, 0.7943548387096774, 0.14919354838709678, 0.8225806451612904, 0.06451612903225806, 0.15725806451612903, 0.08064516129032258, 0.03225806451612903, 0.0]\n"
     ]
    },
    {
     "data": {
      "application/vnd.plotly.v1+json": {
       "config": {
        "plotlyServerURL": "https://plot.ly"
       },
       "data": [
        {
         "name": "effectors",
         "type": "bar",
         "x": [
          0,
          1,
          2,
          3,
          4,
          5,
          6,
          7,
          8,
          9,
          10
         ],
         "y": [
          2.159090909090909,
          0.5454545454545454,
          0.9886363636363636,
          0.9431818181818182,
          0.4318181818181818,
          1.2045454545454546,
          0.2159090909090909,
          0.4431818181818182,
          0.625,
          0.4659090909090909,
          0.011363636363636364
         ]
        },
        {
         "name": "non-effectors",
         "type": "bar",
         "x": [
          0,
          1,
          2,
          3,
          4,
          5,
          6,
          7,
          8,
          9,
          10
         ],
         "y": [
          1.189516129032258,
          0.04838709677419355,
          0.05241935483870968,
          0.7943548387096774,
          0.14919354838709678,
          0.8225806451612904,
          0.06451612903225806,
          0.15725806451612903,
          0.08064516129032258,
          0.03225806451612903,
          0
         ]
        }
       ],
       "layout": {
        "template": {
         "data": {
          "bar": [
           {
            "error_x": {
             "color": "#2a3f5f"
            },
            "error_y": {
             "color": "#2a3f5f"
            },
            "marker": {
             "line": {
              "color": "#E5ECF6",
              "width": 0.5
             },
             "pattern": {
              "fillmode": "overlay",
              "size": 10,
              "solidity": 0.2
             }
            },
            "type": "bar"
           }
          ],
          "barpolar": [
           {
            "marker": {
             "line": {
              "color": "#E5ECF6",
              "width": 0.5
             },
             "pattern": {
              "fillmode": "overlay",
              "size": 10,
              "solidity": 0.2
             }
            },
            "type": "barpolar"
           }
          ],
          "carpet": [
           {
            "aaxis": {
             "endlinecolor": "#2a3f5f",
             "gridcolor": "white",
             "linecolor": "white",
             "minorgridcolor": "white",
             "startlinecolor": "#2a3f5f"
            },
            "baxis": {
             "endlinecolor": "#2a3f5f",
             "gridcolor": "white",
             "linecolor": "white",
             "minorgridcolor": "white",
             "startlinecolor": "#2a3f5f"
            },
            "type": "carpet"
           }
          ],
          "choropleth": [
           {
            "colorbar": {
             "outlinewidth": 0,
             "ticks": ""
            },
            "type": "choropleth"
           }
          ],
          "contour": [
           {
            "colorbar": {
             "outlinewidth": 0,
             "ticks": ""
            },
            "colorscale": [
             [
              0,
              "#0d0887"
             ],
             [
              0.1111111111111111,
              "#46039f"
             ],
             [
              0.2222222222222222,
              "#7201a8"
             ],
             [
              0.3333333333333333,
              "#9c179e"
             ],
             [
              0.4444444444444444,
              "#bd3786"
             ],
             [
              0.5555555555555556,
              "#d8576b"
             ],
             [
              0.6666666666666666,
              "#ed7953"
             ],
             [
              0.7777777777777778,
              "#fb9f3a"
             ],
             [
              0.8888888888888888,
              "#fdca26"
             ],
             [
              1,
              "#f0f921"
             ]
            ],
            "type": "contour"
           }
          ],
          "contourcarpet": [
           {
            "colorbar": {
             "outlinewidth": 0,
             "ticks": ""
            },
            "type": "contourcarpet"
           }
          ],
          "heatmap": [
           {
            "colorbar": {
             "outlinewidth": 0,
             "ticks": ""
            },
            "colorscale": [
             [
              0,
              "#0d0887"
             ],
             [
              0.1111111111111111,
              "#46039f"
             ],
             [
              0.2222222222222222,
              "#7201a8"
             ],
             [
              0.3333333333333333,
              "#9c179e"
             ],
             [
              0.4444444444444444,
              "#bd3786"
             ],
             [
              0.5555555555555556,
              "#d8576b"
             ],
             [
              0.6666666666666666,
              "#ed7953"
             ],
             [
              0.7777777777777778,
              "#fb9f3a"
             ],
             [
              0.8888888888888888,
              "#fdca26"
             ],
             [
              1,
              "#f0f921"
             ]
            ],
            "type": "heatmap"
           }
          ],
          "heatmapgl": [
           {
            "colorbar": {
             "outlinewidth": 0,
             "ticks": ""
            },
            "colorscale": [
             [
              0,
              "#0d0887"
             ],
             [
              0.1111111111111111,
              "#46039f"
             ],
             [
              0.2222222222222222,
              "#7201a8"
             ],
             [
              0.3333333333333333,
              "#9c179e"
             ],
             [
              0.4444444444444444,
              "#bd3786"
             ],
             [
              0.5555555555555556,
              "#d8576b"
             ],
             [
              0.6666666666666666,
              "#ed7953"
             ],
             [
              0.7777777777777778,
              "#fb9f3a"
             ],
             [
              0.8888888888888888,
              "#fdca26"
             ],
             [
              1,
              "#f0f921"
             ]
            ],
            "type": "heatmapgl"
           }
          ],
          "histogram": [
           {
            "marker": {
             "pattern": {
              "fillmode": "overlay",
              "size": 10,
              "solidity": 0.2
             }
            },
            "type": "histogram"
           }
          ],
          "histogram2d": [
           {
            "colorbar": {
             "outlinewidth": 0,
             "ticks": ""
            },
            "colorscale": [
             [
              0,
              "#0d0887"
             ],
             [
              0.1111111111111111,
              "#46039f"
             ],
             [
              0.2222222222222222,
              "#7201a8"
             ],
             [
              0.3333333333333333,
              "#9c179e"
             ],
             [
              0.4444444444444444,
              "#bd3786"
             ],
             [
              0.5555555555555556,
              "#d8576b"
             ],
             [
              0.6666666666666666,
              "#ed7953"
             ],
             [
              0.7777777777777778,
              "#fb9f3a"
             ],
             [
              0.8888888888888888,
              "#fdca26"
             ],
             [
              1,
              "#f0f921"
             ]
            ],
            "type": "histogram2d"
           }
          ],
          "histogram2dcontour": [
           {
            "colorbar": {
             "outlinewidth": 0,
             "ticks": ""
            },
            "colorscale": [
             [
              0,
              "#0d0887"
             ],
             [
              0.1111111111111111,
              "#46039f"
             ],
             [
              0.2222222222222222,
              "#7201a8"
             ],
             [
              0.3333333333333333,
              "#9c179e"
             ],
             [
              0.4444444444444444,
              "#bd3786"
             ],
             [
              0.5555555555555556,
              "#d8576b"
             ],
             [
              0.6666666666666666,
              "#ed7953"
             ],
             [
              0.7777777777777778,
              "#fb9f3a"
             ],
             [
              0.8888888888888888,
              "#fdca26"
             ],
             [
              1,
              "#f0f921"
             ]
            ],
            "type": "histogram2dcontour"
           }
          ],
          "mesh3d": [
           {
            "colorbar": {
             "outlinewidth": 0,
             "ticks": ""
            },
            "type": "mesh3d"
           }
          ],
          "parcoords": [
           {
            "line": {
             "colorbar": {
              "outlinewidth": 0,
              "ticks": ""
             }
            },
            "type": "parcoords"
           }
          ],
          "pie": [
           {
            "automargin": true,
            "type": "pie"
           }
          ],
          "scatter": [
           {
            "fillpattern": {
             "fillmode": "overlay",
             "size": 10,
             "solidity": 0.2
            },
            "type": "scatter"
           }
          ],
          "scatter3d": [
           {
            "line": {
             "colorbar": {
              "outlinewidth": 0,
              "ticks": ""
             }
            },
            "marker": {
             "colorbar": {
              "outlinewidth": 0,
              "ticks": ""
             }
            },
            "type": "scatter3d"
           }
          ],
          "scattercarpet": [
           {
            "marker": {
             "colorbar": {
              "outlinewidth": 0,
              "ticks": ""
             }
            },
            "type": "scattercarpet"
           }
          ],
          "scattergeo": [
           {
            "marker": {
             "colorbar": {
              "outlinewidth": 0,
              "ticks": ""
             }
            },
            "type": "scattergeo"
           }
          ],
          "scattergl": [
           {
            "marker": {
             "colorbar": {
              "outlinewidth": 0,
              "ticks": ""
             }
            },
            "type": "scattergl"
           }
          ],
          "scattermapbox": [
           {
            "marker": {
             "colorbar": {
              "outlinewidth": 0,
              "ticks": ""
             }
            },
            "type": "scattermapbox"
           }
          ],
          "scatterpolar": [
           {
            "marker": {
             "colorbar": {
              "outlinewidth": 0,
              "ticks": ""
             }
            },
            "type": "scatterpolar"
           }
          ],
          "scatterpolargl": [
           {
            "marker": {
             "colorbar": {
              "outlinewidth": 0,
              "ticks": ""
             }
            },
            "type": "scatterpolargl"
           }
          ],
          "scatterternary": [
           {
            "marker": {
             "colorbar": {
              "outlinewidth": 0,
              "ticks": ""
             }
            },
            "type": "scatterternary"
           }
          ],
          "surface": [
           {
            "colorbar": {
             "outlinewidth": 0,
             "ticks": ""
            },
            "colorscale": [
             [
              0,
              "#0d0887"
             ],
             [
              0.1111111111111111,
              "#46039f"
             ],
             [
              0.2222222222222222,
              "#7201a8"
             ],
             [
              0.3333333333333333,
              "#9c179e"
             ],
             [
              0.4444444444444444,
              "#bd3786"
             ],
             [
              0.5555555555555556,
              "#d8576b"
             ],
             [
              0.6666666666666666,
              "#ed7953"
             ],
             [
              0.7777777777777778,
              "#fb9f3a"
             ],
             [
              0.8888888888888888,
              "#fdca26"
             ],
             [
              1,
              "#f0f921"
             ]
            ],
            "type": "surface"
           }
          ],
          "table": [
           {
            "cells": {
             "fill": {
              "color": "#EBF0F8"
             },
             "line": {
              "color": "white"
             }
            },
            "header": {
             "fill": {
              "color": "#C8D4E3"
             },
             "line": {
              "color": "white"
             }
            },
            "type": "table"
           }
          ]
         },
         "layout": {
          "annotationdefaults": {
           "arrowcolor": "#2a3f5f",
           "arrowhead": 0,
           "arrowwidth": 1
          },
          "autotypenumbers": "strict",
          "coloraxis": {
           "colorbar": {
            "outlinewidth": 0,
            "ticks": ""
           }
          },
          "colorscale": {
           "diverging": [
            [
             0,
             "#8e0152"
            ],
            [
             0.1,
             "#c51b7d"
            ],
            [
             0.2,
             "#de77ae"
            ],
            [
             0.3,
             "#f1b6da"
            ],
            [
             0.4,
             "#fde0ef"
            ],
            [
             0.5,
             "#f7f7f7"
            ],
            [
             0.6,
             "#e6f5d0"
            ],
            [
             0.7,
             "#b8e186"
            ],
            [
             0.8,
             "#7fbc41"
            ],
            [
             0.9,
             "#4d9221"
            ],
            [
             1,
             "#276419"
            ]
           ],
           "sequential": [
            [
             0,
             "#0d0887"
            ],
            [
             0.1111111111111111,
             "#46039f"
            ],
            [
             0.2222222222222222,
             "#7201a8"
            ],
            [
             0.3333333333333333,
             "#9c179e"
            ],
            [
             0.4444444444444444,
             "#bd3786"
            ],
            [
             0.5555555555555556,
             "#d8576b"
            ],
            [
             0.6666666666666666,
             "#ed7953"
            ],
            [
             0.7777777777777778,
             "#fb9f3a"
            ],
            [
             0.8888888888888888,
             "#fdca26"
            ],
            [
             1,
             "#f0f921"
            ]
           ],
           "sequentialminus": [
            [
             0,
             "#0d0887"
            ],
            [
             0.1111111111111111,
             "#46039f"
            ],
            [
             0.2222222222222222,
             "#7201a8"
            ],
            [
             0.3333333333333333,
             "#9c179e"
            ],
            [
             0.4444444444444444,
             "#bd3786"
            ],
            [
             0.5555555555555556,
             "#d8576b"
            ],
            [
             0.6666666666666666,
             "#ed7953"
            ],
            [
             0.7777777777777778,
             "#fb9f3a"
            ],
            [
             0.8888888888888888,
             "#fdca26"
            ],
            [
             1,
             "#f0f921"
            ]
           ]
          },
          "colorway": [
           "#636efa",
           "#EF553B",
           "#00cc96",
           "#ab63fa",
           "#FFA15A",
           "#19d3f3",
           "#FF6692",
           "#B6E880",
           "#FF97FF",
           "#FECB52"
          ],
          "font": {
           "color": "#2a3f5f"
          },
          "geo": {
           "bgcolor": "white",
           "lakecolor": "white",
           "landcolor": "#E5ECF6",
           "showlakes": true,
           "showland": true,
           "subunitcolor": "white"
          },
          "hoverlabel": {
           "align": "left"
          },
          "hovermode": "closest",
          "mapbox": {
           "style": "light"
          },
          "paper_bgcolor": "white",
          "plot_bgcolor": "#E5ECF6",
          "polar": {
           "angularaxis": {
            "gridcolor": "white",
            "linecolor": "white",
            "ticks": ""
           },
           "bgcolor": "#E5ECF6",
           "radialaxis": {
            "gridcolor": "white",
            "linecolor": "white",
            "ticks": ""
           }
          },
          "scene": {
           "xaxis": {
            "backgroundcolor": "#E5ECF6",
            "gridcolor": "white",
            "gridwidth": 2,
            "linecolor": "white",
            "showbackground": true,
            "ticks": "",
            "zerolinecolor": "white"
           },
           "yaxis": {
            "backgroundcolor": "#E5ECF6",
            "gridcolor": "white",
            "gridwidth": 2,
            "linecolor": "white",
            "showbackground": true,
            "ticks": "",
            "zerolinecolor": "white"
           },
           "zaxis": {
            "backgroundcolor": "#E5ECF6",
            "gridcolor": "white",
            "gridwidth": 2,
            "linecolor": "white",
            "showbackground": true,
            "ticks": "",
            "zerolinecolor": "white"
           }
          },
          "shapedefaults": {
           "line": {
            "color": "#2a3f5f"
           }
          },
          "ternary": {
           "aaxis": {
            "gridcolor": "white",
            "linecolor": "white",
            "ticks": ""
           },
           "baxis": {
            "gridcolor": "white",
            "linecolor": "white",
            "ticks": ""
           },
           "bgcolor": "#E5ECF6",
           "caxis": {
            "gridcolor": "white",
            "linecolor": "white",
            "ticks": ""
           }
          },
          "title": {
           "x": 0.05
          },
          "xaxis": {
           "automargin": true,
           "gridcolor": "white",
           "linecolor": "white",
           "ticks": "",
           "title": {
            "standoff": 15
           },
           "zerolinecolor": "white",
           "zerolinewidth": 2
          },
          "yaxis": {
           "automargin": true,
           "gridcolor": "white",
           "linecolor": "white",
           "ticks": "",
           "title": {
            "standoff": 15
           },
           "zerolinecolor": "white",
           "zerolinewidth": 2
          }
         }
        }
       }
      },
      "text/html": [
       "<div>                            <div id=\"dbadf0df-c2db-4940-a598-d932aa40683f\" class=\"plotly-graph-div\" style=\"height:525px; width:100%;\"></div>            <script type=\"text/javascript\">                require([\"plotly\"], function(Plotly) {                    window.PLOTLYENV=window.PLOTLYENV || {};                                    if (document.getElementById(\"dbadf0df-c2db-4940-a598-d932aa40683f\")) {                    Plotly.newPlot(                        \"dbadf0df-c2db-4940-a598-d932aa40683f\",                        [{\"name\":\"effectors\",\"x\":[0,1,2,3,4,5,6,7,8,9,10],\"y\":[2.159090909090909,0.5454545454545454,0.9886363636363636,0.9431818181818182,0.4318181818181818,1.2045454545454546,0.2159090909090909,0.4431818181818182,0.625,0.4659090909090909,0.011363636363636364],\"type\":\"bar\"},{\"name\":\"non-effectors\",\"x\":[0,1,2,3,4,5,6,7,8,9,10],\"y\":[1.189516129032258,0.04838709677419355,0.05241935483870968,0.7943548387096774,0.14919354838709678,0.8225806451612904,0.06451612903225806,0.15725806451612903,0.08064516129032258,0.03225806451612903,0.0],\"type\":\"bar\"}],                        {\"template\":{\"data\":{\"histogram2dcontour\":[{\"type\":\"histogram2dcontour\",\"colorbar\":{\"outlinewidth\":0,\"ticks\":\"\"},\"colorscale\":[[0.0,\"#0d0887\"],[0.1111111111111111,\"#46039f\"],[0.2222222222222222,\"#7201a8\"],[0.3333333333333333,\"#9c179e\"],[0.4444444444444444,\"#bd3786\"],[0.5555555555555556,\"#d8576b\"],[0.6666666666666666,\"#ed7953\"],[0.7777777777777778,\"#fb9f3a\"],[0.8888888888888888,\"#fdca26\"],[1.0,\"#f0f921\"]]}],\"choropleth\":[{\"type\":\"choropleth\",\"colorbar\":{\"outlinewidth\":0,\"ticks\":\"\"}}],\"histogram2d\":[{\"type\":\"histogram2d\",\"colorbar\":{\"outlinewidth\":0,\"ticks\":\"\"},\"colorscale\":[[0.0,\"#0d0887\"],[0.1111111111111111,\"#46039f\"],[0.2222222222222222,\"#7201a8\"],[0.3333333333333333,\"#9c179e\"],[0.4444444444444444,\"#bd3786\"],[0.5555555555555556,\"#d8576b\"],[0.6666666666666666,\"#ed7953\"],[0.7777777777777778,\"#fb9f3a\"],[0.8888888888888888,\"#fdca26\"],[1.0,\"#f0f921\"]]}],\"heatmap\":[{\"type\":\"heatmap\",\"colorbar\":{\"outlinewidth\":0,\"ticks\":\"\"},\"colorscale\":[[0.0,\"#0d0887\"],[0.1111111111111111,\"#46039f\"],[0.2222222222222222,\"#7201a8\"],[0.3333333333333333,\"#9c179e\"],[0.4444444444444444,\"#bd3786\"],[0.5555555555555556,\"#d8576b\"],[0.6666666666666666,\"#ed7953\"],[0.7777777777777778,\"#fb9f3a\"],[0.8888888888888888,\"#fdca26\"],[1.0,\"#f0f921\"]]}],\"heatmapgl\":[{\"type\":\"heatmapgl\",\"colorbar\":{\"outlinewidth\":0,\"ticks\":\"\"},\"colorscale\":[[0.0,\"#0d0887\"],[0.1111111111111111,\"#46039f\"],[0.2222222222222222,\"#7201a8\"],[0.3333333333333333,\"#9c179e\"],[0.4444444444444444,\"#bd3786\"],[0.5555555555555556,\"#d8576b\"],[0.6666666666666666,\"#ed7953\"],[0.7777777777777778,\"#fb9f3a\"],[0.8888888888888888,\"#fdca26\"],[1.0,\"#f0f921\"]]}],\"contourcarpet\":[{\"type\":\"contourcarpet\",\"colorbar\":{\"outlinewidth\":0,\"ticks\":\"\"}}],\"contour\":[{\"type\":\"contour\",\"colorbar\":{\"outlinewidth\":0,\"ticks\":\"\"},\"colorscale\":[[0.0,\"#0d0887\"],[0.1111111111111111,\"#46039f\"],[0.2222222222222222,\"#7201a8\"],[0.3333333333333333,\"#9c179e\"],[0.4444444444444444,\"#bd3786\"],[0.5555555555555556,\"#d8576b\"],[0.6666666666666666,\"#ed7953\"],[0.7777777777777778,\"#fb9f3a\"],[0.8888888888888888,\"#fdca26\"],[1.0,\"#f0f921\"]]}],\"surface\":[{\"type\":\"surface\",\"colorbar\":{\"outlinewidth\":0,\"ticks\":\"\"},\"colorscale\":[[0.0,\"#0d0887\"],[0.1111111111111111,\"#46039f\"],[0.2222222222222222,\"#7201a8\"],[0.3333333333333333,\"#9c179e\"],[0.4444444444444444,\"#bd3786\"],[0.5555555555555556,\"#d8576b\"],[0.6666666666666666,\"#ed7953\"],[0.7777777777777778,\"#fb9f3a\"],[0.8888888888888888,\"#fdca26\"],[1.0,\"#f0f921\"]]}],\"mesh3d\":[{\"type\":\"mesh3d\",\"colorbar\":{\"outlinewidth\":0,\"ticks\":\"\"}}],\"scatter\":[{\"fillpattern\":{\"fillmode\":\"overlay\",\"size\":10,\"solidity\":0.2},\"type\":\"scatter\"}],\"parcoords\":[{\"type\":\"parcoords\",\"line\":{\"colorbar\":{\"outlinewidth\":0,\"ticks\":\"\"}}}],\"scatterpolargl\":[{\"type\":\"scatterpolargl\",\"marker\":{\"colorbar\":{\"outlinewidth\":0,\"ticks\":\"\"}}}],\"bar\":[{\"error_x\":{\"color\":\"#2a3f5f\"},\"error_y\":{\"color\":\"#2a3f5f\"},\"marker\":{\"line\":{\"color\":\"#E5ECF6\",\"width\":0.5},\"pattern\":{\"fillmode\":\"overlay\",\"size\":10,\"solidity\":0.2}},\"type\":\"bar\"}],\"scattergeo\":[{\"type\":\"scattergeo\",\"marker\":{\"colorbar\":{\"outlinewidth\":0,\"ticks\":\"\"}}}],\"scatterpolar\":[{\"type\":\"scatterpolar\",\"marker\":{\"colorbar\":{\"outlinewidth\":0,\"ticks\":\"\"}}}],\"histogram\":[{\"marker\":{\"pattern\":{\"fillmode\":\"overlay\",\"size\":10,\"solidity\":0.2}},\"type\":\"histogram\"}],\"scattergl\":[{\"type\":\"scattergl\",\"marker\":{\"colorbar\":{\"outlinewidth\":0,\"ticks\":\"\"}}}],\"scatter3d\":[{\"type\":\"scatter3d\",\"line\":{\"colorbar\":{\"outlinewidth\":0,\"ticks\":\"\"}},\"marker\":{\"colorbar\":{\"outlinewidth\":0,\"ticks\":\"\"}}}],\"scattermapbox\":[{\"type\":\"scattermapbox\",\"marker\":{\"colorbar\":{\"outlinewidth\":0,\"ticks\":\"\"}}}],\"scatterternary\":[{\"type\":\"scatterternary\",\"marker\":{\"colorbar\":{\"outlinewidth\":0,\"ticks\":\"\"}}}],\"scattercarpet\":[{\"type\":\"scattercarpet\",\"marker\":{\"colorbar\":{\"outlinewidth\":0,\"ticks\":\"\"}}}],\"carpet\":[{\"aaxis\":{\"endlinecolor\":\"#2a3f5f\",\"gridcolor\":\"white\",\"linecolor\":\"white\",\"minorgridcolor\":\"white\",\"startlinecolor\":\"#2a3f5f\"},\"baxis\":{\"endlinecolor\":\"#2a3f5f\",\"gridcolor\":\"white\",\"linecolor\":\"white\",\"minorgridcolor\":\"white\",\"startlinecolor\":\"#2a3f5f\"},\"type\":\"carpet\"}],\"table\":[{\"cells\":{\"fill\":{\"color\":\"#EBF0F8\"},\"line\":{\"color\":\"white\"}},\"header\":{\"fill\":{\"color\":\"#C8D4E3\"},\"line\":{\"color\":\"white\"}},\"type\":\"table\"}],\"barpolar\":[{\"marker\":{\"line\":{\"color\":\"#E5ECF6\",\"width\":0.5},\"pattern\":{\"fillmode\":\"overlay\",\"size\":10,\"solidity\":0.2}},\"type\":\"barpolar\"}],\"pie\":[{\"automargin\":true,\"type\":\"pie\"}]},\"layout\":{\"autotypenumbers\":\"strict\",\"colorway\":[\"#636efa\",\"#EF553B\",\"#00cc96\",\"#ab63fa\",\"#FFA15A\",\"#19d3f3\",\"#FF6692\",\"#B6E880\",\"#FF97FF\",\"#FECB52\"],\"font\":{\"color\":\"#2a3f5f\"},\"hovermode\":\"closest\",\"hoverlabel\":{\"align\":\"left\"},\"paper_bgcolor\":\"white\",\"plot_bgcolor\":\"#E5ECF6\",\"polar\":{\"bgcolor\":\"#E5ECF6\",\"angularaxis\":{\"gridcolor\":\"white\",\"linecolor\":\"white\",\"ticks\":\"\"},\"radialaxis\":{\"gridcolor\":\"white\",\"linecolor\":\"white\",\"ticks\":\"\"}},\"ternary\":{\"bgcolor\":\"#E5ECF6\",\"aaxis\":{\"gridcolor\":\"white\",\"linecolor\":\"white\",\"ticks\":\"\"},\"baxis\":{\"gridcolor\":\"white\",\"linecolor\":\"white\",\"ticks\":\"\"},\"caxis\":{\"gridcolor\":\"white\",\"linecolor\":\"white\",\"ticks\":\"\"}},\"coloraxis\":{\"colorbar\":{\"outlinewidth\":0,\"ticks\":\"\"}},\"colorscale\":{\"sequential\":[[0.0,\"#0d0887\"],[0.1111111111111111,\"#46039f\"],[0.2222222222222222,\"#7201a8\"],[0.3333333333333333,\"#9c179e\"],[0.4444444444444444,\"#bd3786\"],[0.5555555555555556,\"#d8576b\"],[0.6666666666666666,\"#ed7953\"],[0.7777777777777778,\"#fb9f3a\"],[0.8888888888888888,\"#fdca26\"],[1.0,\"#f0f921\"]],\"sequentialminus\":[[0.0,\"#0d0887\"],[0.1111111111111111,\"#46039f\"],[0.2222222222222222,\"#7201a8\"],[0.3333333333333333,\"#9c179e\"],[0.4444444444444444,\"#bd3786\"],[0.5555555555555556,\"#d8576b\"],[0.6666666666666666,\"#ed7953\"],[0.7777777777777778,\"#fb9f3a\"],[0.8888888888888888,\"#fdca26\"],[1.0,\"#f0f921\"]],\"diverging\":[[0,\"#8e0152\"],[0.1,\"#c51b7d\"],[0.2,\"#de77ae\"],[0.3,\"#f1b6da\"],[0.4,\"#fde0ef\"],[0.5,\"#f7f7f7\"],[0.6,\"#e6f5d0\"],[0.7,\"#b8e186\"],[0.8,\"#7fbc41\"],[0.9,\"#4d9221\"],[1,\"#276419\"]]},\"xaxis\":{\"gridcolor\":\"white\",\"linecolor\":\"white\",\"ticks\":\"\",\"title\":{\"standoff\":15},\"zerolinecolor\":\"white\",\"automargin\":true,\"zerolinewidth\":2},\"yaxis\":{\"gridcolor\":\"white\",\"linecolor\":\"white\",\"ticks\":\"\",\"title\":{\"standoff\":15},\"zerolinecolor\":\"white\",\"automargin\":true,\"zerolinewidth\":2},\"scene\":{\"xaxis\":{\"backgroundcolor\":\"#E5ECF6\",\"gridcolor\":\"white\",\"linecolor\":\"white\",\"showbackground\":true,\"ticks\":\"\",\"zerolinecolor\":\"white\",\"gridwidth\":2},\"yaxis\":{\"backgroundcolor\":\"#E5ECF6\",\"gridcolor\":\"white\",\"linecolor\":\"white\",\"showbackground\":true,\"ticks\":\"\",\"zerolinecolor\":\"white\",\"gridwidth\":2},\"zaxis\":{\"backgroundcolor\":\"#E5ECF6\",\"gridcolor\":\"white\",\"linecolor\":\"white\",\"showbackground\":true,\"ticks\":\"\",\"zerolinecolor\":\"white\",\"gridwidth\":2}},\"shapedefaults\":{\"line\":{\"color\":\"#2a3f5f\"}},\"annotationdefaults\":{\"arrowcolor\":\"#2a3f5f\",\"arrowhead\":0,\"arrowwidth\":1},\"geo\":{\"bgcolor\":\"white\",\"landcolor\":\"#E5ECF6\",\"subunitcolor\":\"white\",\"showland\":true,\"showlakes\":true,\"lakecolor\":\"white\"},\"title\":{\"x\":0.05},\"mapbox\":{\"style\":\"light\"}}}},                        {\"responsive\": true}                    ).then(function(){\n",
       "                            \n",
       "var gd = document.getElementById('dbadf0df-c2db-4940-a598-d932aa40683f');\n",
       "var x = new MutationObserver(function (mutations, observer) {{\n",
       "        var display = window.getComputedStyle(gd).display;\n",
       "        if (!display || display === 'none') {{\n",
       "            console.log([gd, 'removed!']);\n",
       "            Plotly.purge(gd);\n",
       "            observer.disconnect();\n",
       "        }}\n",
       "}});\n",
       "\n",
       "// Listen for the removal of the full notebook cells\n",
       "var notebookContainer = gd.closest('#notebook-container');\n",
       "if (notebookContainer) {{\n",
       "    x.observe(notebookContainer, {childList: true});\n",
       "}}\n",
       "\n",
       "// Listen for the clearing of the current output cell\n",
       "var outputEl = gd.closest('.output');\n",
       "if (outputEl) {{\n",
       "    x.observe(outputEl, {childList: true});\n",
       "}}\n",
       "\n",
       "                        })                };                });            </script>        </div>"
      ]
     },
     "metadata": {},
     "output_type": "display_data"
    }
   ],
   "source": [
    "# Barplots of means per clumps occurrences in eff and non-eff\n",
    "fig = go.Figure()\n",
    "clumps_occurrences_eff = []\n",
    "clumps_occurrences_noneff = []\n",
    "sig_clumps_diff = {}\n",
    "for c in list(clumps_feature_eff.columns)[:-1]:\n",
    "    clumps_occurrences_eff.append(np.mean(clumps_feature_eff[c]))\n",
    "    clumps_occurrences_noneff.append(np.mean(clumps_feature_noneff[c]))\n",
    "    tt = ttest_ind(clumps_feature_eff[c], clumps_feature_noneff[c])[1]\n",
    "    if tt <= 0.05:\n",
    "        sig_clumps_diff[c] = tt \n",
    "    else:\n",
    "        pass\n",
    "fig.add_trace(go.Bar(name=\"effectors\", x=list(range(0, 11)), y=clumps_occurrences_eff))\n",
    "fig.add_trace(go.Bar(name=\"non-effectors\", x=list(range(0, 11)), y=clumps_occurrences_noneff))\n",
    "print(sig_clumps_diff)\n",
    "print(clumps_feature_eff['CLUMP1'].sum())\n",
    "print(clumps_occurrences_eff)\n",
    "print(clumps_occurrences_noneff)\n",
    "fig.show()"
   ]
  },
  {
   "cell_type": "code",
   "execution_count": 9,
   "id": "af294f81",
   "metadata": {},
   "outputs": [
    {
     "data": {
      "application/vnd.plotly.v1+json": {
       "config": {
        "plotlyServerURL": "https://plot.ly"
       },
       "data": [
        {
         "marker": {
          "color": "#FF4136"
         },
         "name": "effectors",
         "type": "box",
         "y": [
          7,
          7,
          7,
          7,
          7,
          7,
          7,
          7,
          7,
          7,
          7,
          7,
          7,
          7,
          5,
          5,
          5,
          5,
          5,
          4,
          4,
          4,
          1,
          3,
          0,
          2,
          0,
          1,
          0,
          1,
          1,
          1,
          2,
          0,
          1,
          0,
          2,
          1,
          0,
          0,
          0,
          1,
          0,
          0,
          0,
          2,
          0,
          0,
          1,
          1,
          0,
          0,
          2,
          2,
          0,
          1,
          1,
          1,
          1,
          1,
          1,
          1,
          1,
          1,
          1,
          1,
          1,
          1,
          1,
          1,
          1,
          1,
          1,
          1,
          1,
          1,
          1,
          1,
          1,
          1,
          0,
          1,
          1,
          0,
          1,
          1,
          1,
          0
         ]
        },
        {
         "marker": {
          "color": "#3D9970"
         },
         "name": "non-effectors",
         "type": "box",
         "y": [
          7,
          0,
          5,
          5,
          5,
          5,
          1,
          5,
          4,
          4,
          4,
          4,
          4,
          2,
          4,
          4,
          4,
          0,
          2,
          3,
          1,
          3,
          2,
          3,
          2,
          3,
          3,
          3,
          1,
          0,
          3,
          2,
          3,
          3,
          1,
          3,
          2,
          0,
          3,
          1,
          1,
          3,
          3,
          3,
          3,
          2,
          3,
          3,
          3,
          2,
          1,
          1,
          0,
          2,
          2,
          1,
          0,
          0,
          0,
          1,
          1,
          2,
          2,
          2,
          2,
          0,
          0,
          2,
          0,
          2,
          1,
          1,
          1,
          1,
          0,
          0,
          1,
          1,
          1,
          1,
          0,
          2,
          2,
          2,
          2,
          1,
          2,
          1,
          0,
          0,
          0,
          2,
          2,
          1,
          2,
          1,
          1,
          2,
          2,
          2,
          2,
          2,
          2,
          2,
          2,
          2,
          2,
          2,
          2,
          2,
          2,
          2,
          2,
          2,
          2,
          2,
          2,
          2,
          2,
          2,
          2,
          2,
          0,
          1,
          1,
          0,
          0,
          0,
          0,
          0,
          0,
          1,
          0,
          1,
          0,
          0,
          1,
          0,
          0,
          1,
          1,
          0,
          0,
          0,
          1,
          0,
          1,
          0,
          0,
          1,
          1,
          1,
          0,
          0,
          1,
          1,
          0,
          0,
          1,
          0,
          1,
          0,
          0,
          1,
          1,
          1,
          1,
          0,
          0,
          0,
          0,
          1,
          0,
          0,
          1,
          1,
          0,
          1,
          1,
          1,
          0,
          0,
          0,
          0,
          0,
          0,
          1,
          0,
          0,
          0,
          1,
          1,
          0,
          0,
          1,
          0,
          0,
          0,
          0,
          0,
          0,
          0,
          0,
          1,
          1,
          1,
          1,
          1,
          1,
          0,
          1,
          1,
          1,
          1,
          1,
          1,
          1,
          1,
          1,
          1,
          1,
          1,
          1,
          1,
          1,
          1,
          1,
          1,
          1,
          0,
          0,
          0,
          0,
          0,
          0,
          0,
          0,
          0,
          0,
          0,
          0,
          0,
          0,
          0,
          0,
          0,
          0,
          0
         ]
        },
        {
         "marker": {
          "color": "#FF4136"
         },
         "name": "effectors",
         "type": "box",
         "y": [
          0,
          0,
          0,
          0,
          0,
          0,
          0,
          0,
          0,
          0,
          0,
          0,
          0,
          0,
          0,
          0,
          0,
          0,
          0,
          0,
          0,
          0,
          2,
          0,
          0,
          3,
          0,
          3,
          1,
          0,
          1,
          2,
          0,
          1,
          1,
          0,
          0,
          0,
          1,
          1,
          1,
          1,
          1,
          0,
          0,
          0,
          0,
          0,
          1,
          1,
          0,
          0,
          1,
          1,
          1,
          1,
          1,
          1,
          0,
          0,
          0,
          0,
          1,
          1,
          1,
          1,
          1,
          1,
          1,
          1,
          1,
          1,
          1,
          1,
          0,
          0,
          0,
          1,
          1,
          1,
          1,
          1,
          1,
          1,
          1,
          1,
          0,
          0
         ]
        },
        {
         "marker": {
          "color": "#3D9970"
         },
         "name": "non-effectors",
         "type": "box",
         "y": [
          0,
          0,
          0,
          0,
          0,
          0,
          0,
          0,
          0,
          0,
          0,
          0,
          1,
          0,
          0,
          0,
          0,
          1,
          0,
          0,
          0,
          0,
          0,
          0,
          0,
          1,
          1,
          0,
          0,
          0,
          0,
          0,
          0,
          0,
          0,
          0,
          0,
          0,
          0,
          0,
          0,
          0,
          0,
          0,
          0,
          0,
          0,
          0,
          0,
          0,
          0,
          0,
          0,
          0,
          0,
          0,
          0,
          0,
          0,
          0,
          0,
          0,
          0,
          0,
          0,
          0,
          0,
          0,
          0,
          0,
          0,
          0,
          0,
          0,
          0,
          0,
          0,
          0,
          0,
          0,
          0,
          0,
          1,
          0,
          0,
          0,
          0,
          0,
          0,
          0,
          0,
          0,
          0,
          1,
          0,
          0,
          0,
          0,
          0,
          0,
          0,
          0,
          0,
          0,
          0,
          1,
          1,
          0,
          0,
          0,
          0,
          0,
          0,
          0,
          0,
          0,
          0,
          0,
          0,
          0,
          0,
          0,
          0,
          0,
          0,
          0,
          0,
          0,
          0,
          0,
          0,
          0,
          0,
          0,
          0,
          0,
          0,
          0,
          0,
          0,
          0,
          0,
          0,
          0,
          0,
          0,
          0,
          0,
          0,
          0,
          0,
          0,
          0,
          1,
          0,
          0,
          0,
          0,
          0,
          0,
          0,
          0,
          0,
          0,
          0,
          0,
          0,
          0,
          0,
          0,
          0,
          0,
          0,
          0,
          0,
          0,
          0,
          0,
          0,
          0,
          0,
          0,
          0,
          0,
          0,
          0,
          0,
          0,
          0,
          1,
          1,
          0,
          0,
          0,
          0,
          0,
          0,
          0,
          0,
          0,
          0,
          0,
          0,
          0,
          0,
          0,
          0,
          0,
          0,
          1,
          0,
          0,
          0,
          0,
          0,
          0,
          0,
          0,
          0,
          0,
          0,
          0,
          0,
          0,
          0,
          0,
          0,
          0,
          0,
          0,
          0,
          0,
          0,
          0,
          0,
          0,
          0,
          0,
          0,
          0,
          0,
          0,
          0,
          0,
          0,
          0,
          0,
          0
         ]
        },
        {
         "marker": {
          "color": "#FF4136"
         },
         "name": "effectors",
         "type": "box",
         "y": [
          1,
          1,
          1,
          1,
          1,
          1,
          1,
          1,
          1,
          1,
          1,
          1,
          1,
          1,
          2,
          1,
          1,
          2,
          2,
          0,
          1,
          0,
          3,
          1,
          0,
          1,
          0,
          1,
          0,
          2,
          2,
          1,
          2,
          0,
          2,
          2,
          2,
          2,
          0,
          0,
          0,
          2,
          0,
          2,
          0,
          2,
          2,
          2,
          2,
          2,
          2,
          0,
          1,
          1,
          1,
          1,
          1,
          1,
          0,
          0,
          0,
          0,
          1,
          1,
          1,
          1,
          1,
          1,
          1,
          1,
          1,
          1,
          1,
          1,
          0,
          0,
          0,
          1,
          1,
          1,
          1,
          1,
          1,
          1,
          1,
          1,
          0,
          0
         ]
        },
        {
         "marker": {
          "color": "#3D9970"
         },
         "name": "non-effectors",
         "type": "box",
         "y": [
          0,
          0,
          0,
          1,
          0,
          0,
          0,
          0,
          0,
          0,
          1,
          0,
          0,
          0,
          0,
          0,
          0,
          0,
          1,
          0,
          0,
          0,
          0,
          0,
          0,
          0,
          0,
          0,
          0,
          0,
          0,
          0,
          0,
          0,
          0,
          0,
          0,
          0,
          0,
          0,
          0,
          0,
          0,
          0,
          0,
          0,
          0,
          2,
          0,
          0,
          0,
          0,
          0,
          0,
          0,
          0,
          0,
          0,
          0,
          0,
          0,
          0,
          0,
          0,
          0,
          0,
          0,
          0,
          0,
          0,
          0,
          0,
          0,
          1,
          0,
          0,
          0,
          0,
          0,
          0,
          0,
          0,
          0,
          0,
          0,
          0,
          1,
          0,
          0,
          0,
          0,
          0,
          0,
          0,
          0,
          0,
          0,
          0,
          0,
          0,
          0,
          0,
          0,
          0,
          0,
          0,
          0,
          0,
          0,
          1,
          0,
          0,
          0,
          0,
          0,
          0,
          0,
          0,
          0,
          0,
          0,
          0,
          0,
          0,
          0,
          0,
          0,
          1,
          1,
          0,
          0,
          0,
          0,
          0,
          0,
          0,
          0,
          0,
          0,
          0,
          0,
          0,
          0,
          0,
          0,
          0,
          0,
          0,
          0,
          0,
          0,
          0,
          0,
          0,
          0,
          0,
          0,
          0,
          0,
          0,
          0,
          0,
          0,
          1,
          0,
          0,
          0,
          0,
          0,
          0,
          0,
          0,
          0,
          0,
          0,
          0,
          0,
          0,
          0,
          0,
          0,
          0,
          0,
          0,
          0,
          0,
          0,
          0,
          0,
          0,
          1,
          0,
          0,
          0,
          0,
          0,
          0,
          0,
          0,
          0,
          0,
          0,
          0,
          0,
          0,
          0,
          0,
          0,
          1,
          0,
          0,
          0,
          0,
          0,
          0,
          0,
          0,
          0,
          0,
          0,
          0,
          0,
          0,
          0,
          0,
          0,
          0,
          0,
          0,
          0,
          0,
          0,
          0,
          0,
          0,
          0,
          0,
          0,
          0,
          0,
          0,
          0,
          0,
          0,
          0,
          0,
          0,
          0
         ]
        },
        {
         "marker": {
          "color": "#FF4136"
         },
         "name": "effectors",
         "type": "box",
         "y": [
          1,
          1,
          1,
          1,
          1,
          1,
          1,
          1,
          1,
          1,
          1,
          1,
          1,
          1,
          2,
          2,
          2,
          2,
          2,
          0,
          1,
          0,
          0,
          2,
          3,
          0,
          1,
          0,
          2,
          0,
          1,
          1,
          0,
          2,
          1,
          1,
          0,
          0,
          2,
          2,
          2,
          0,
          2,
          0,
          2,
          0,
          1,
          1,
          0,
          1,
          1,
          2,
          1,
          1,
          2,
          1,
          1,
          1,
          0,
          0,
          0,
          0,
          1,
          1,
          1,
          1,
          1,
          1,
          1,
          1,
          1,
          1,
          1,
          1,
          0,
          0,
          0,
          1,
          1,
          1,
          1,
          1,
          1,
          0,
          1,
          1,
          0,
          1
         ]
        },
        {
         "marker": {
          "color": "#3D9970"
         },
         "name": "non-effectors",
         "type": "box",
         "y": [
          1,
          4,
          2,
          0,
          0,
          2,
          5,
          1,
          1,
          2,
          4,
          0,
          2,
          2,
          2,
          0,
          3,
          3,
          3,
          0,
          1,
          2,
          3,
          0,
          3,
          0,
          0,
          2,
          3,
          3,
          1,
          0,
          0,
          1,
          3,
          2,
          0,
          3,
          0,
          3,
          2,
          0,
          0,
          1,
          0,
          3,
          2,
          1,
          0,
          1,
          2,
          2,
          2,
          2,
          2,
          2,
          0,
          1,
          0,
          1,
          0,
          0,
          0,
          1,
          0,
          1,
          0,
          1,
          1,
          2,
          1,
          0,
          2,
          2,
          2,
          2,
          2,
          2,
          2,
          2,
          2,
          0,
          0,
          2,
          2,
          0,
          2,
          2,
          2,
          2,
          1,
          2,
          1,
          2,
          2,
          0,
          0,
          0,
          0,
          1,
          1,
          0,
          0,
          0,
          0,
          0,
          1,
          0,
          0,
          1,
          0,
          0,
          0,
          0,
          1,
          0,
          1,
          0,
          1,
          1,
          0,
          1,
          0,
          1,
          1,
          0,
          0,
          0,
          0,
          0,
          0,
          0,
          0,
          1,
          0,
          1,
          0,
          0,
          0,
          0,
          1,
          0,
          0,
          1,
          1,
          0,
          0,
          0,
          1,
          0,
          1,
          0,
          1,
          0,
          1,
          0,
          0,
          0,
          1,
          0,
          0,
          1,
          1,
          0,
          1,
          0,
          1,
          0,
          1,
          0,
          1,
          0,
          1,
          0,
          0,
          0,
          0,
          1,
          0,
          1,
          0,
          0,
          1,
          0,
          1,
          1,
          1,
          0,
          0,
          1,
          1,
          0,
          0,
          0,
          1,
          0,
          0,
          0,
          1,
          0,
          0,
          0,
          0,
          0,
          1,
          0,
          0,
          0,
          1,
          1,
          0,
          0,
          0,
          1,
          0,
          0,
          0,
          0,
          0,
          1,
          0,
          0,
          0,
          0,
          0,
          1,
          0,
          1,
          0,
          1,
          1,
          1,
          1,
          0,
          0,
          1,
          0,
          1,
          1,
          1,
          1,
          1,
          1,
          1,
          1,
          1,
          1,
          1
         ]
        },
        {
         "marker": {
          "color": "#FF4136"
         },
         "name": "effectors",
         "type": "box",
         "y": [
          1,
          1,
          1,
          1,
          1,
          1,
          1,
          1,
          1,
          1,
          1,
          1,
          1,
          1,
          1,
          2,
          2,
          1,
          1,
          1,
          2,
          1,
          1,
          2,
          1,
          0,
          1,
          0,
          0,
          0,
          0,
          0,
          0,
          0,
          0,
          0,
          0,
          0,
          0,
          0,
          0,
          2,
          0,
          2,
          1,
          1,
          0,
          0,
          1,
          0,
          0,
          0,
          0,
          0,
          1,
          0,
          0,
          0,
          0,
          0,
          0,
          0,
          0,
          0,
          0,
          0,
          0,
          0,
          0,
          0,
          0,
          0,
          0,
          0,
          0,
          0,
          0,
          0,
          0,
          0,
          0,
          0,
          0,
          0,
          0,
          0,
          0,
          0
         ]
        },
        {
         "marker": {
          "color": "#3D9970"
         },
         "name": "non-effectors",
         "type": "box",
         "y": [
          2,
          2,
          1,
          0,
          2,
          0,
          0,
          0,
          0,
          1,
          0,
          0,
          0,
          0,
          0,
          0,
          1,
          0,
          0,
          0,
          0,
          1,
          0,
          0,
          0,
          0,
          0,
          0,
          0,
          0,
          0,
          0,
          0,
          0,
          1,
          0,
          0,
          0,
          0,
          0,
          0,
          0,
          0,
          0,
          2,
          0,
          0,
          0,
          0,
          0,
          0,
          0,
          0,
          1,
          0,
          0,
          1,
          0,
          1,
          0,
          0,
          0,
          0,
          0,
          0,
          0,
          0,
          0,
          0,
          0,
          1,
          0,
          1,
          0,
          0,
          1,
          0,
          0,
          0,
          0,
          0,
          0,
          0,
          0,
          0,
          0,
          0,
          0,
          0,
          0,
          0,
          1,
          0,
          0,
          0,
          0,
          0,
          0,
          0,
          0,
          0,
          0,
          0,
          0,
          0,
          0,
          0,
          0,
          0,
          0,
          0,
          0,
          0,
          0,
          0,
          0,
          0,
          0,
          1,
          1,
          0,
          0,
          0,
          1,
          0,
          0,
          0,
          0,
          1,
          0,
          0,
          0,
          0,
          0,
          0,
          0,
          1,
          0,
          0,
          1,
          0,
          0,
          0,
          0,
          0,
          0,
          0,
          0,
          0,
          0,
          1,
          0,
          0,
          0,
          0,
          0,
          0,
          0,
          1,
          0,
          0,
          0,
          1,
          0,
          0,
          1,
          1,
          0,
          0,
          0,
          0,
          0,
          0,
          0,
          0,
          0,
          0,
          0,
          0,
          0,
          0,
          0,
          0,
          0,
          0,
          0,
          0,
          0,
          0,
          1,
          0,
          0,
          0,
          0,
          0,
          0,
          0,
          0,
          0,
          0,
          0,
          0,
          0,
          0,
          0,
          0,
          0,
          0,
          0,
          0,
          0,
          0,
          0,
          0,
          0,
          0,
          0,
          0,
          0,
          1,
          0,
          0,
          0,
          0,
          0,
          0,
          0,
          0,
          0,
          0,
          0,
          0,
          0,
          1,
          1,
          1,
          1,
          0,
          0,
          0,
          0,
          0,
          0,
          0,
          0,
          0,
          0,
          0
         ]
        },
        {
         "marker": {
          "color": "#FF4136"
         },
         "name": "effectors",
         "type": "box",
         "y": [
          2,
          2,
          2,
          2,
          2,
          2,
          2,
          2,
          2,
          2,
          2,
          2,
          2,
          2,
          3,
          2,
          2,
          3,
          3,
          1,
          3,
          1,
          1,
          2,
          1,
          2,
          3,
          2,
          1,
          1,
          0,
          2,
          2,
          1,
          0,
          1,
          1,
          1,
          1,
          1,
          1,
          2,
          1,
          0,
          0,
          1,
          1,
          1,
          1,
          2,
          1,
          0,
          1,
          1,
          0,
          1,
          1,
          1,
          0,
          0,
          0,
          0,
          1,
          1,
          1,
          1,
          1,
          1,
          1,
          1,
          1,
          1,
          1,
          1,
          0,
          0,
          0,
          1,
          1,
          1,
          1,
          1,
          1,
          1,
          1,
          1,
          0,
          0
         ]
        },
        {
         "marker": {
          "color": "#3D9970"
         },
         "name": "non-effectors",
         "type": "box",
         "y": [
          2,
          6,
          5,
          1,
          2,
          2,
          2,
          1,
          1,
          2,
          2,
          3,
          3,
          4,
          2,
          0,
          3,
          0,
          0,
          1,
          3,
          2,
          0,
          0,
          1,
          1,
          1,
          2,
          2,
          0,
          1,
          3,
          1,
          1,
          2,
          1,
          3,
          1,
          0,
          0,
          3,
          1,
          0,
          2,
          2,
          1,
          1,
          1,
          1,
          2,
          0,
          0,
          2,
          2,
          2,
          1,
          2,
          2,
          2,
          2,
          2,
          0,
          0,
          2,
          1,
          2,
          2,
          2,
          2,
          0,
          2,
          2,
          1,
          0,
          0,
          0,
          1,
          1,
          0,
          0,
          0,
          2,
          2,
          1,
          2,
          2,
          0,
          0,
          1,
          0,
          2,
          0,
          2,
          0,
          0,
          2,
          2,
          1,
          1,
          0,
          0,
          0,
          0,
          0,
          1,
          0,
          1,
          0,
          1,
          1,
          0,
          0,
          0,
          1,
          0,
          0,
          0,
          0,
          0,
          0,
          0,
          0,
          1,
          1,
          1,
          1,
          0,
          1,
          1,
          1,
          1,
          1,
          1,
          0,
          1,
          1,
          1,
          1,
          1,
          0,
          1,
          1,
          1,
          1,
          0,
          1,
          1,
          1,
          0,
          0,
          1,
          0,
          1,
          1,
          0,
          1,
          0,
          1,
          0,
          1,
          1,
          1,
          1,
          1,
          0,
          1,
          1,
          0,
          1,
          1,
          1,
          1,
          1,
          1,
          1,
          1,
          0,
          0,
          1,
          0,
          1,
          1,
          1,
          1,
          1,
          1,
          1,
          1,
          0,
          1,
          1,
          1,
          1,
          1,
          1,
          1,
          1,
          0,
          1,
          1,
          0,
          1,
          0,
          1,
          0,
          0,
          0,
          0,
          0,
          0,
          0,
          0,
          0,
          0,
          0,
          0,
          0,
          0,
          0,
          0,
          0,
          0,
          0,
          0,
          0,
          0,
          0,
          0,
          0,
          0,
          0,
          0,
          0,
          0,
          0,
          0,
          0,
          0,
          0,
          0,
          0,
          0,
          0,
          0,
          0,
          0,
          0,
          0
         ]
        },
        {
         "marker": {
          "color": "#FF4136"
         },
         "name": "effectors",
         "type": "box",
         "y": [
          0,
          0,
          0,
          0,
          0,
          0,
          0,
          0,
          0,
          0,
          0,
          0,
          0,
          0,
          0,
          1,
          1,
          0,
          0,
          0,
          0,
          0,
          2,
          0,
          1,
          0,
          0,
          0,
          2,
          0,
          0,
          0,
          0,
          2,
          0,
          0,
          0,
          0,
          0,
          0,
          0,
          0,
          0,
          1,
          1,
          0,
          0,
          0,
          0,
          0,
          0,
          1,
          0,
          0,
          0,
          0,
          0,
          0,
          1,
          1,
          1,
          1,
          0,
          0,
          0,
          0,
          0,
          0,
          0,
          0,
          0,
          0,
          0,
          0,
          1,
          1,
          1,
          0,
          0,
          0,
          0,
          0,
          0,
          0,
          0,
          0,
          0,
          0
         ]
        },
        {
         "marker": {
          "color": "#3D9970"
         },
         "name": "non-effectors",
         "type": "box",
         "y": [
          1,
          1,
          0,
          0,
          1,
          0,
          0,
          0,
          0,
          0,
          1,
          0,
          0,
          0,
          0,
          0,
          0,
          0,
          0,
          1,
          0,
          0,
          0,
          0,
          0,
          0,
          0,
          0,
          1,
          0,
          0,
          0,
          0,
          0,
          0,
          0,
          0,
          0,
          0,
          0,
          0,
          0,
          0,
          0,
          0,
          0,
          0,
          0,
          0,
          0,
          0,
          1,
          0,
          0,
          1,
          0,
          0,
          0,
          0,
          1,
          0,
          0,
          0,
          0,
          0,
          0,
          0,
          0,
          1,
          0,
          0,
          0,
          0,
          0,
          0,
          0,
          1,
          0,
          0,
          0,
          0,
          0,
          0,
          0,
          0,
          0,
          0,
          0,
          0,
          0,
          0,
          0,
          0,
          0,
          0,
          0,
          0,
          0,
          0,
          0,
          0,
          0,
          0,
          0,
          0,
          0,
          0,
          0,
          0,
          0,
          0,
          0,
          0,
          0,
          0,
          0,
          0,
          0,
          0,
          0,
          0,
          0,
          0,
          0,
          0,
          0,
          0,
          0,
          0,
          0,
          0,
          0,
          0,
          0,
          0,
          0,
          0,
          0,
          0,
          0,
          0,
          0,
          0,
          0,
          0,
          0,
          0,
          0,
          0,
          0,
          0,
          0,
          0,
          0,
          0,
          1,
          0,
          0,
          0,
          0,
          0,
          0,
          0,
          0,
          0,
          0,
          0,
          0,
          0,
          0,
          0,
          0,
          0,
          0,
          0,
          1,
          1,
          0,
          0,
          1,
          0,
          0,
          0,
          0,
          0,
          0,
          1,
          0,
          0,
          0,
          0,
          0,
          0,
          0,
          0,
          0,
          0,
          0,
          0,
          0,
          0,
          0,
          0,
          0,
          0,
          0,
          0,
          0,
          0,
          0,
          0,
          0,
          0,
          0,
          0,
          0,
          0,
          0,
          0,
          0,
          0,
          0,
          0,
          0,
          0,
          0,
          0,
          0,
          0,
          0,
          0,
          0,
          0,
          0,
          0,
          0,
          0,
          0,
          0,
          0,
          0,
          0,
          0,
          0,
          0,
          0,
          0,
          0
         ]
        },
        {
         "marker": {
          "color": "#FF4136"
         },
         "name": "effectors",
         "type": "box",
         "y": [
          1,
          1,
          1,
          1,
          1,
          1,
          1,
          1,
          1,
          1,
          1,
          1,
          1,
          1,
          0,
          0,
          0,
          0,
          0,
          0,
          0,
          0,
          0,
          0,
          0,
          0,
          0,
          0,
          1,
          2,
          1,
          0,
          1,
          1,
          1,
          1,
          2,
          2,
          1,
          1,
          1,
          1,
          1,
          1,
          0,
          1,
          1,
          1,
          0,
          1,
          1,
          1,
          0,
          0,
          1,
          0,
          0,
          0,
          0,
          0,
          0,
          0,
          0,
          0,
          0,
          0,
          0,
          0,
          0,
          0,
          0,
          0,
          0,
          0,
          0,
          0,
          0,
          0,
          0,
          0,
          0,
          0,
          0,
          0,
          0,
          0,
          0,
          0
         ]
        },
        {
         "marker": {
          "color": "#3D9970"
         },
         "name": "non-effectors",
         "type": "box",
         "y": [
          1,
          0,
          1,
          2,
          0,
          0,
          0,
          0,
          0,
          0,
          0,
          0,
          0,
          0,
          0,
          0,
          0,
          0,
          1,
          0,
          0,
          0,
          0,
          0,
          1,
          0,
          0,
          0,
          1,
          0,
          0,
          0,
          0,
          0,
          0,
          0,
          0,
          0,
          0,
          2,
          0,
          0,
          0,
          1,
          1,
          1,
          0,
          2,
          0,
          0,
          0,
          0,
          0,
          0,
          0,
          0,
          0,
          0,
          0,
          0,
          0,
          0,
          0,
          0,
          0,
          0,
          0,
          1,
          0,
          0,
          0,
          0,
          0,
          0,
          0,
          0,
          0,
          1,
          0,
          0,
          0,
          0,
          0,
          0,
          0,
          0,
          1,
          1,
          0,
          0,
          0,
          0,
          0,
          2,
          0,
          0,
          1,
          0,
          0,
          1,
          0,
          0,
          0,
          0,
          0,
          0,
          0,
          0,
          0,
          0,
          1,
          0,
          0,
          0,
          0,
          0,
          0,
          0,
          0,
          0,
          0,
          0,
          0,
          0,
          0,
          0,
          1,
          0,
          0,
          0,
          0,
          1,
          0,
          1,
          0,
          1,
          0,
          0,
          0,
          0,
          0,
          0,
          1,
          1,
          0,
          0,
          0,
          0,
          0,
          0,
          0,
          0,
          0,
          0,
          1,
          0,
          0,
          0,
          0,
          0,
          0,
          0,
          0,
          0,
          1,
          0,
          0,
          1,
          0,
          0,
          0,
          0,
          0,
          0,
          0,
          0,
          0,
          1,
          0,
          0,
          0,
          0,
          0,
          1,
          0,
          0,
          0,
          1,
          1,
          0,
          0,
          0,
          0,
          0,
          0,
          0,
          0,
          1,
          0,
          0,
          1,
          0,
          1,
          0,
          0,
          0,
          0,
          0,
          0,
          0,
          0,
          0,
          0,
          0,
          0,
          0,
          0,
          0,
          0,
          0,
          0,
          0,
          0,
          0,
          0,
          0,
          0,
          0,
          0,
          0,
          0,
          0,
          0,
          0,
          0,
          0,
          0,
          0,
          0,
          0,
          0,
          0,
          0,
          0,
          0,
          0,
          0,
          0
         ]
        },
        {
         "marker": {
          "color": "#FF4136"
         },
         "name": "effectors",
         "type": "box",
         "y": [
          0,
          0,
          0,
          0,
          0,
          0,
          0,
          0,
          0,
          0,
          0,
          0,
          0,
          0,
          0,
          0,
          0,
          0,
          0,
          0,
          0,
          0,
          1,
          0,
          2,
          1,
          0,
          1,
          1,
          1,
          1,
          1,
          1,
          1,
          1,
          1,
          1,
          1,
          1,
          1,
          1,
          0,
          1,
          0,
          1,
          0,
          1,
          1,
          1,
          1,
          1,
          1,
          1,
          1,
          1,
          1,
          1,
          1,
          0,
          0,
          0,
          0,
          1,
          1,
          1,
          1,
          1,
          1,
          1,
          1,
          1,
          1,
          1,
          1,
          0,
          0,
          0,
          1,
          1,
          1,
          1,
          1,
          1,
          1,
          1,
          1,
          1,
          1
         ]
        },
        {
         "marker": {
          "color": "#3D9970"
         },
         "name": "non-effectors",
         "type": "box",
         "y": [
          0,
          0,
          2,
          0,
          2,
          0,
          0,
          0,
          0,
          0,
          0,
          1,
          0,
          0,
          0,
          0,
          0,
          0,
          0,
          0,
          0,
          0,
          0,
          0,
          0,
          0,
          0,
          0,
          0,
          0,
          0,
          0,
          1,
          1,
          0,
          0,
          0,
          0,
          0,
          0,
          0,
          0,
          0,
          0,
          1,
          0,
          0,
          0,
          0,
          0,
          0,
          0,
          0,
          0,
          0,
          0,
          0,
          0,
          0,
          0,
          0,
          0,
          0,
          1,
          0,
          0,
          0,
          0,
          0,
          0,
          0,
          0,
          0,
          1,
          0,
          0,
          0,
          0,
          0,
          0,
          0,
          0,
          0,
          0,
          0,
          0,
          0,
          0,
          0,
          0,
          0,
          0,
          0,
          0,
          0,
          0,
          0,
          1,
          0,
          0,
          0,
          0,
          0,
          0,
          0,
          0,
          0,
          0,
          0,
          0,
          0,
          0,
          0,
          0,
          0,
          0,
          0,
          0,
          0,
          0,
          0,
          0,
          0,
          1,
          0,
          0,
          0,
          0,
          0,
          0,
          0,
          0,
          0,
          0,
          0,
          0,
          0,
          0,
          0,
          1,
          0,
          0,
          0,
          0,
          0,
          0,
          0,
          0,
          0,
          0,
          0,
          1,
          0,
          0,
          1,
          1,
          1,
          0,
          1,
          0,
          0,
          0,
          1,
          1,
          0,
          0,
          0,
          0,
          0,
          0,
          0,
          0,
          0,
          0,
          0,
          0,
          0,
          0,
          0,
          0,
          0,
          0,
          0,
          0,
          0,
          0,
          0,
          0,
          0,
          0,
          0,
          0,
          0,
          0,
          0,
          0,
          0,
          0,
          0,
          0,
          0,
          0,
          0,
          0,
          0,
          0,
          0,
          0,
          0,
          0,
          0,
          0,
          0,
          0,
          0,
          0,
          0,
          0,
          0,
          0,
          0,
          0,
          0,
          0,
          0,
          0,
          0,
          0,
          0,
          0,
          0,
          0,
          0,
          0,
          0,
          0,
          0,
          0,
          0,
          0,
          0,
          0,
          0,
          0,
          0,
          0,
          0,
          0
         ]
        },
        {
         "marker": {
          "color": "#FF4136"
         },
         "name": "effectors",
         "type": "box",
         "y": [
          0,
          0,
          0,
          0,
          0,
          0,
          0,
          0,
          0,
          0,
          0,
          0,
          0,
          0,
          0,
          0,
          0,
          0,
          0,
          0,
          0,
          0,
          0,
          0,
          0,
          0,
          1,
          0,
          0,
          0,
          1,
          0,
          0,
          0,
          1,
          1,
          0,
          0,
          1,
          1,
          1,
          0,
          1,
          0,
          0,
          0,
          1,
          1,
          1,
          0,
          1,
          0,
          1,
          1,
          2,
          1,
          1,
          1,
          0,
          0,
          0,
          0,
          1,
          1,
          1,
          1,
          1,
          1,
          1,
          1,
          1,
          1,
          1,
          1,
          0,
          0,
          0,
          1,
          1,
          1,
          1,
          1,
          1,
          1,
          1,
          1,
          0,
          1
         ]
        },
        {
         "marker": {
          "color": "#3D9970"
         },
         "name": "non-effectors",
         "type": "box",
         "y": [
          0,
          0,
          0,
          0,
          0,
          0,
          0,
          0,
          0,
          0,
          0,
          0,
          0,
          0,
          0,
          0,
          0,
          0,
          0,
          0,
          0,
          0,
          0,
          0,
          0,
          0,
          0,
          0,
          1,
          0,
          0,
          0,
          0,
          0,
          0,
          0,
          0,
          0,
          0,
          0,
          0,
          0,
          0,
          0,
          0,
          0,
          0,
          0,
          0,
          0,
          0,
          1,
          0,
          0,
          0,
          0,
          0,
          0,
          0,
          0,
          0,
          0,
          0,
          0,
          0,
          0,
          0,
          0,
          0,
          0,
          0,
          0,
          0,
          0,
          0,
          0,
          0,
          0,
          0,
          0,
          0,
          0,
          0,
          0,
          0,
          0,
          0,
          0,
          0,
          0,
          0,
          1,
          0,
          0,
          0,
          0,
          1,
          0,
          0,
          0,
          0,
          0,
          0,
          0,
          0,
          0,
          0,
          0,
          0,
          0,
          0,
          0,
          0,
          0,
          0,
          0,
          0,
          0,
          0,
          1,
          0,
          0,
          0,
          0,
          0,
          0,
          0,
          0,
          0,
          0,
          0,
          0,
          0,
          0,
          0,
          0,
          0,
          0,
          0,
          0,
          0,
          0,
          0,
          0,
          1,
          0,
          0,
          0,
          1,
          1,
          0,
          0,
          0,
          0,
          0,
          0,
          0,
          0,
          0,
          0,
          0,
          0,
          0,
          0,
          0,
          0,
          0,
          0,
          0,
          0,
          0,
          0,
          0,
          0,
          0,
          0,
          0,
          0,
          0,
          0,
          0,
          0,
          0,
          0,
          0,
          0,
          0,
          0,
          0,
          0,
          0,
          0,
          0,
          0,
          0,
          0,
          0,
          0,
          0,
          0,
          0,
          0,
          0,
          0,
          0,
          0,
          0,
          0,
          0,
          0,
          0,
          0,
          0,
          0,
          0,
          0,
          0,
          0,
          0,
          0,
          0,
          0,
          0,
          0,
          0,
          0,
          0,
          0,
          0,
          0,
          0,
          0,
          0,
          0,
          0,
          0,
          0,
          0,
          0,
          0,
          0,
          0,
          0,
          0,
          0,
          0,
          0,
          0
         ]
        },
        {
         "marker": {
          "color": "#FF4136"
         },
         "name": "effectors",
         "type": "box",
         "y": [
          0,
          0,
          0,
          0,
          0,
          0,
          0,
          0,
          0,
          0,
          0,
          0,
          0,
          0,
          0,
          0,
          0,
          0,
          0,
          0,
          0,
          0,
          0,
          0,
          0,
          0,
          0,
          0,
          0,
          0,
          0,
          0,
          0,
          0,
          0,
          0,
          0,
          0,
          0,
          0,
          0,
          0,
          0,
          0,
          0,
          0,
          0,
          0,
          0,
          0,
          0,
          0,
          0,
          0,
          0,
          0,
          0,
          0,
          0,
          0,
          0,
          0,
          0,
          0,
          0,
          0,
          0,
          0,
          0,
          0,
          0,
          0,
          0,
          0,
          0,
          0,
          0,
          0,
          0,
          0,
          0,
          0,
          0,
          0,
          0,
          0,
          0,
          1
         ]
        },
        {
         "marker": {
          "color": "#3D9970"
         },
         "name": "non-effectors",
         "type": "box",
         "y": [
          0,
          0,
          0,
          0,
          0,
          0,
          0,
          0,
          0,
          0,
          0,
          0,
          0,
          0,
          0,
          0,
          0,
          0,
          0,
          0,
          0,
          0,
          0,
          0,
          0,
          0,
          0,
          0,
          0,
          0,
          0,
          0,
          0,
          0,
          0,
          0,
          0,
          0,
          0,
          0,
          0,
          0,
          0,
          0,
          0,
          0,
          0,
          0,
          0,
          0,
          0,
          0,
          0,
          0,
          0,
          0,
          0,
          0,
          0,
          0,
          0,
          0,
          0,
          0,
          0,
          0,
          0,
          0,
          0,
          0,
          0,
          0,
          0,
          0,
          0,
          0,
          0,
          0,
          0,
          0,
          0,
          0,
          0,
          0,
          0,
          0,
          0,
          0,
          0,
          0,
          0,
          0,
          0,
          0,
          0,
          0,
          0,
          0,
          0,
          0,
          0,
          0,
          0,
          0,
          0,
          0,
          0,
          0,
          0,
          0,
          0,
          0,
          0,
          0,
          0,
          0,
          0,
          0,
          0,
          0,
          0,
          0,
          0,
          0,
          0,
          0,
          0,
          0,
          0,
          0,
          0,
          0,
          0,
          0,
          0,
          0,
          0,
          0,
          0,
          0,
          0,
          0,
          0,
          0,
          0,
          0,
          0,
          0,
          0,
          0,
          0,
          0,
          0,
          0,
          0,
          0,
          0,
          0,
          0,
          0,
          0,
          0,
          0,
          0,
          0,
          0,
          0,
          0,
          0,
          0,
          0,
          0,
          0,
          0,
          0,
          0,
          0,
          0,
          0,
          0,
          0,
          0,
          0,
          0,
          0,
          0,
          0,
          0,
          0,
          0,
          0,
          0,
          0,
          0,
          0,
          0,
          0,
          0,
          0,
          0,
          0,
          0,
          0,
          0,
          0,
          0,
          0,
          0,
          0,
          0,
          0,
          0,
          0,
          0,
          0,
          0,
          0,
          0,
          0,
          0,
          0,
          0,
          0,
          0,
          0,
          0,
          0,
          0,
          0,
          0,
          0,
          0,
          0,
          0,
          0,
          0,
          0,
          0,
          0,
          0,
          0,
          0,
          0,
          0,
          0,
          0,
          0,
          0
         ]
        }
       ],
       "layout": {
        "boxmode": "group",
        "showlegend": false,
        "template": {
         "data": {
          "bar": [
           {
            "error_x": {
             "color": "#2a3f5f"
            },
            "error_y": {
             "color": "#2a3f5f"
            },
            "marker": {
             "line": {
              "color": "#E5ECF6",
              "width": 0.5
             },
             "pattern": {
              "fillmode": "overlay",
              "size": 10,
              "solidity": 0.2
             }
            },
            "type": "bar"
           }
          ],
          "barpolar": [
           {
            "marker": {
             "line": {
              "color": "#E5ECF6",
              "width": 0.5
             },
             "pattern": {
              "fillmode": "overlay",
              "size": 10,
              "solidity": 0.2
             }
            },
            "type": "barpolar"
           }
          ],
          "carpet": [
           {
            "aaxis": {
             "endlinecolor": "#2a3f5f",
             "gridcolor": "white",
             "linecolor": "white",
             "minorgridcolor": "white",
             "startlinecolor": "#2a3f5f"
            },
            "baxis": {
             "endlinecolor": "#2a3f5f",
             "gridcolor": "white",
             "linecolor": "white",
             "minorgridcolor": "white",
             "startlinecolor": "#2a3f5f"
            },
            "type": "carpet"
           }
          ],
          "choropleth": [
           {
            "colorbar": {
             "outlinewidth": 0,
             "ticks": ""
            },
            "type": "choropleth"
           }
          ],
          "contour": [
           {
            "colorbar": {
             "outlinewidth": 0,
             "ticks": ""
            },
            "colorscale": [
             [
              0,
              "#0d0887"
             ],
             [
              0.1111111111111111,
              "#46039f"
             ],
             [
              0.2222222222222222,
              "#7201a8"
             ],
             [
              0.3333333333333333,
              "#9c179e"
             ],
             [
              0.4444444444444444,
              "#bd3786"
             ],
             [
              0.5555555555555556,
              "#d8576b"
             ],
             [
              0.6666666666666666,
              "#ed7953"
             ],
             [
              0.7777777777777778,
              "#fb9f3a"
             ],
             [
              0.8888888888888888,
              "#fdca26"
             ],
             [
              1,
              "#f0f921"
             ]
            ],
            "type": "contour"
           }
          ],
          "contourcarpet": [
           {
            "colorbar": {
             "outlinewidth": 0,
             "ticks": ""
            },
            "type": "contourcarpet"
           }
          ],
          "heatmap": [
           {
            "colorbar": {
             "outlinewidth": 0,
             "ticks": ""
            },
            "colorscale": [
             [
              0,
              "#0d0887"
             ],
             [
              0.1111111111111111,
              "#46039f"
             ],
             [
              0.2222222222222222,
              "#7201a8"
             ],
             [
              0.3333333333333333,
              "#9c179e"
             ],
             [
              0.4444444444444444,
              "#bd3786"
             ],
             [
              0.5555555555555556,
              "#d8576b"
             ],
             [
              0.6666666666666666,
              "#ed7953"
             ],
             [
              0.7777777777777778,
              "#fb9f3a"
             ],
             [
              0.8888888888888888,
              "#fdca26"
             ],
             [
              1,
              "#f0f921"
             ]
            ],
            "type": "heatmap"
           }
          ],
          "heatmapgl": [
           {
            "colorbar": {
             "outlinewidth": 0,
             "ticks": ""
            },
            "colorscale": [
             [
              0,
              "#0d0887"
             ],
             [
              0.1111111111111111,
              "#46039f"
             ],
             [
              0.2222222222222222,
              "#7201a8"
             ],
             [
              0.3333333333333333,
              "#9c179e"
             ],
             [
              0.4444444444444444,
              "#bd3786"
             ],
             [
              0.5555555555555556,
              "#d8576b"
             ],
             [
              0.6666666666666666,
              "#ed7953"
             ],
             [
              0.7777777777777778,
              "#fb9f3a"
             ],
             [
              0.8888888888888888,
              "#fdca26"
             ],
             [
              1,
              "#f0f921"
             ]
            ],
            "type": "heatmapgl"
           }
          ],
          "histogram": [
           {
            "marker": {
             "pattern": {
              "fillmode": "overlay",
              "size": 10,
              "solidity": 0.2
             }
            },
            "type": "histogram"
           }
          ],
          "histogram2d": [
           {
            "colorbar": {
             "outlinewidth": 0,
             "ticks": ""
            },
            "colorscale": [
             [
              0,
              "#0d0887"
             ],
             [
              0.1111111111111111,
              "#46039f"
             ],
             [
              0.2222222222222222,
              "#7201a8"
             ],
             [
              0.3333333333333333,
              "#9c179e"
             ],
             [
              0.4444444444444444,
              "#bd3786"
             ],
             [
              0.5555555555555556,
              "#d8576b"
             ],
             [
              0.6666666666666666,
              "#ed7953"
             ],
             [
              0.7777777777777778,
              "#fb9f3a"
             ],
             [
              0.8888888888888888,
              "#fdca26"
             ],
             [
              1,
              "#f0f921"
             ]
            ],
            "type": "histogram2d"
           }
          ],
          "histogram2dcontour": [
           {
            "colorbar": {
             "outlinewidth": 0,
             "ticks": ""
            },
            "colorscale": [
             [
              0,
              "#0d0887"
             ],
             [
              0.1111111111111111,
              "#46039f"
             ],
             [
              0.2222222222222222,
              "#7201a8"
             ],
             [
              0.3333333333333333,
              "#9c179e"
             ],
             [
              0.4444444444444444,
              "#bd3786"
             ],
             [
              0.5555555555555556,
              "#d8576b"
             ],
             [
              0.6666666666666666,
              "#ed7953"
             ],
             [
              0.7777777777777778,
              "#fb9f3a"
             ],
             [
              0.8888888888888888,
              "#fdca26"
             ],
             [
              1,
              "#f0f921"
             ]
            ],
            "type": "histogram2dcontour"
           }
          ],
          "mesh3d": [
           {
            "colorbar": {
             "outlinewidth": 0,
             "ticks": ""
            },
            "type": "mesh3d"
           }
          ],
          "parcoords": [
           {
            "line": {
             "colorbar": {
              "outlinewidth": 0,
              "ticks": ""
             }
            },
            "type": "parcoords"
           }
          ],
          "pie": [
           {
            "automargin": true,
            "type": "pie"
           }
          ],
          "scatter": [
           {
            "fillpattern": {
             "fillmode": "overlay",
             "size": 10,
             "solidity": 0.2
            },
            "type": "scatter"
           }
          ],
          "scatter3d": [
           {
            "line": {
             "colorbar": {
              "outlinewidth": 0,
              "ticks": ""
             }
            },
            "marker": {
             "colorbar": {
              "outlinewidth": 0,
              "ticks": ""
             }
            },
            "type": "scatter3d"
           }
          ],
          "scattercarpet": [
           {
            "marker": {
             "colorbar": {
              "outlinewidth": 0,
              "ticks": ""
             }
            },
            "type": "scattercarpet"
           }
          ],
          "scattergeo": [
           {
            "marker": {
             "colorbar": {
              "outlinewidth": 0,
              "ticks": ""
             }
            },
            "type": "scattergeo"
           }
          ],
          "scattergl": [
           {
            "marker": {
             "colorbar": {
              "outlinewidth": 0,
              "ticks": ""
             }
            },
            "type": "scattergl"
           }
          ],
          "scattermapbox": [
           {
            "marker": {
             "colorbar": {
              "outlinewidth": 0,
              "ticks": ""
             }
            },
            "type": "scattermapbox"
           }
          ],
          "scatterpolar": [
           {
            "marker": {
             "colorbar": {
              "outlinewidth": 0,
              "ticks": ""
             }
            },
            "type": "scatterpolar"
           }
          ],
          "scatterpolargl": [
           {
            "marker": {
             "colorbar": {
              "outlinewidth": 0,
              "ticks": ""
             }
            },
            "type": "scatterpolargl"
           }
          ],
          "scatterternary": [
           {
            "marker": {
             "colorbar": {
              "outlinewidth": 0,
              "ticks": ""
             }
            },
            "type": "scatterternary"
           }
          ],
          "surface": [
           {
            "colorbar": {
             "outlinewidth": 0,
             "ticks": ""
            },
            "colorscale": [
             [
              0,
              "#0d0887"
             ],
             [
              0.1111111111111111,
              "#46039f"
             ],
             [
              0.2222222222222222,
              "#7201a8"
             ],
             [
              0.3333333333333333,
              "#9c179e"
             ],
             [
              0.4444444444444444,
              "#bd3786"
             ],
             [
              0.5555555555555556,
              "#d8576b"
             ],
             [
              0.6666666666666666,
              "#ed7953"
             ],
             [
              0.7777777777777778,
              "#fb9f3a"
             ],
             [
              0.8888888888888888,
              "#fdca26"
             ],
             [
              1,
              "#f0f921"
             ]
            ],
            "type": "surface"
           }
          ],
          "table": [
           {
            "cells": {
             "fill": {
              "color": "#EBF0F8"
             },
             "line": {
              "color": "white"
             }
            },
            "header": {
             "fill": {
              "color": "#C8D4E3"
             },
             "line": {
              "color": "white"
             }
            },
            "type": "table"
           }
          ]
         },
         "layout": {
          "annotationdefaults": {
           "arrowcolor": "#2a3f5f",
           "arrowhead": 0,
           "arrowwidth": 1
          },
          "autotypenumbers": "strict",
          "coloraxis": {
           "colorbar": {
            "outlinewidth": 0,
            "ticks": ""
           }
          },
          "colorscale": {
           "diverging": [
            [
             0,
             "#8e0152"
            ],
            [
             0.1,
             "#c51b7d"
            ],
            [
             0.2,
             "#de77ae"
            ],
            [
             0.3,
             "#f1b6da"
            ],
            [
             0.4,
             "#fde0ef"
            ],
            [
             0.5,
             "#f7f7f7"
            ],
            [
             0.6,
             "#e6f5d0"
            ],
            [
             0.7,
             "#b8e186"
            ],
            [
             0.8,
             "#7fbc41"
            ],
            [
             0.9,
             "#4d9221"
            ],
            [
             1,
             "#276419"
            ]
           ],
           "sequential": [
            [
             0,
             "#0d0887"
            ],
            [
             0.1111111111111111,
             "#46039f"
            ],
            [
             0.2222222222222222,
             "#7201a8"
            ],
            [
             0.3333333333333333,
             "#9c179e"
            ],
            [
             0.4444444444444444,
             "#bd3786"
            ],
            [
             0.5555555555555556,
             "#d8576b"
            ],
            [
             0.6666666666666666,
             "#ed7953"
            ],
            [
             0.7777777777777778,
             "#fb9f3a"
            ],
            [
             0.8888888888888888,
             "#fdca26"
            ],
            [
             1,
             "#f0f921"
            ]
           ],
           "sequentialminus": [
            [
             0,
             "#0d0887"
            ],
            [
             0.1111111111111111,
             "#46039f"
            ],
            [
             0.2222222222222222,
             "#7201a8"
            ],
            [
             0.3333333333333333,
             "#9c179e"
            ],
            [
             0.4444444444444444,
             "#bd3786"
            ],
            [
             0.5555555555555556,
             "#d8576b"
            ],
            [
             0.6666666666666666,
             "#ed7953"
            ],
            [
             0.7777777777777778,
             "#fb9f3a"
            ],
            [
             0.8888888888888888,
             "#fdca26"
            ],
            [
             1,
             "#f0f921"
            ]
           ]
          },
          "colorway": [
           "#636efa",
           "#EF553B",
           "#00cc96",
           "#ab63fa",
           "#FFA15A",
           "#19d3f3",
           "#FF6692",
           "#B6E880",
           "#FF97FF",
           "#FECB52"
          ],
          "font": {
           "color": "#2a3f5f"
          },
          "geo": {
           "bgcolor": "white",
           "lakecolor": "white",
           "landcolor": "#E5ECF6",
           "showlakes": true,
           "showland": true,
           "subunitcolor": "white"
          },
          "hoverlabel": {
           "align": "left"
          },
          "hovermode": "closest",
          "mapbox": {
           "style": "light"
          },
          "paper_bgcolor": "white",
          "plot_bgcolor": "#E5ECF6",
          "polar": {
           "angularaxis": {
            "gridcolor": "white",
            "linecolor": "white",
            "ticks": ""
           },
           "bgcolor": "#E5ECF6",
           "radialaxis": {
            "gridcolor": "white",
            "linecolor": "white",
            "ticks": ""
           }
          },
          "scene": {
           "xaxis": {
            "backgroundcolor": "#E5ECF6",
            "gridcolor": "white",
            "gridwidth": 2,
            "linecolor": "white",
            "showbackground": true,
            "ticks": "",
            "zerolinecolor": "white"
           },
           "yaxis": {
            "backgroundcolor": "#E5ECF6",
            "gridcolor": "white",
            "gridwidth": 2,
            "linecolor": "white",
            "showbackground": true,
            "ticks": "",
            "zerolinecolor": "white"
           },
           "zaxis": {
            "backgroundcolor": "#E5ECF6",
            "gridcolor": "white",
            "gridwidth": 2,
            "linecolor": "white",
            "showbackground": true,
            "ticks": "",
            "zerolinecolor": "white"
           }
          },
          "shapedefaults": {
           "line": {
            "color": "#2a3f5f"
           }
          },
          "ternary": {
           "aaxis": {
            "gridcolor": "white",
            "linecolor": "white",
            "ticks": ""
           },
           "baxis": {
            "gridcolor": "white",
            "linecolor": "white",
            "ticks": ""
           },
           "bgcolor": "#E5ECF6",
           "caxis": {
            "gridcolor": "white",
            "linecolor": "white",
            "ticks": ""
           }
          },
          "title": {
           "x": 0.05
          },
          "xaxis": {
           "automargin": true,
           "gridcolor": "white",
           "linecolor": "white",
           "ticks": "",
           "title": {
            "standoff": 15
           },
           "zerolinecolor": "white",
           "zerolinewidth": 2
          },
          "yaxis": {
           "automargin": true,
           "gridcolor": "white",
           "linecolor": "white",
           "ticks": "",
           "title": {
            "standoff": 15
           },
           "zerolinecolor": "white",
           "zerolinewidth": 2
          }
         }
        }
       }
      },
      "text/html": [
       "<div>                            <div id=\"d4a44087-9805-4e36-8f21-9cb39d478e7d\" class=\"plotly-graph-div\" style=\"height:525px; width:100%;\"></div>            <script type=\"text/javascript\">                require([\"plotly\"], function(Plotly) {                    window.PLOTLYENV=window.PLOTLYENV || {};                                    if (document.getElementById(\"d4a44087-9805-4e36-8f21-9cb39d478e7d\")) {                    Plotly.newPlot(                        \"d4a44087-9805-4e36-8f21-9cb39d478e7d\",                        [{\"marker\":{\"color\":\"#FF4136\"},\"name\":\"effectors\",\"y\":[7,7,7,7,7,7,7,7,7,7,7,7,7,7,5,5,5,5,5,4,4,4,1,3,0,2,0,1,0,1,1,1,2,0,1,0,2,1,0,0,0,1,0,0,0,2,0,0,1,1,0,0,2,2,0,1,1,1,1,1,1,1,1,1,1,1,1,1,1,1,1,1,1,1,1,1,1,1,1,1,0,1,1,0,1,1,1,0],\"type\":\"box\"},{\"marker\":{\"color\":\"#3D9970\"},\"name\":\"non-effectors\",\"y\":[7,0,5,5,5,5,1,5,4,4,4,4,4,2,4,4,4,0,2,3,1,3,2,3,2,3,3,3,1,0,3,2,3,3,1,3,2,0,3,1,1,3,3,3,3,2,3,3,3,2,1,1,0,2,2,1,0,0,0,1,1,2,2,2,2,0,0,2,0,2,1,1,1,1,0,0,1,1,1,1,0,2,2,2,2,1,2,1,0,0,0,2,2,1,2,1,1,2,2,2,2,2,2,2,2,2,2,2,2,2,2,2,2,2,2,2,2,2,2,2,2,2,0,1,1,0,0,0,0,0,0,1,0,1,0,0,1,0,0,1,1,0,0,0,1,0,1,0,0,1,1,1,0,0,1,1,0,0,1,0,1,0,0,1,1,1,1,0,0,0,0,1,0,0,1,1,0,1,1,1,0,0,0,0,0,0,1,0,0,0,1,1,0,0,1,0,0,0,0,0,0,0,0,1,1,1,1,1,1,0,1,1,1,1,1,1,1,1,1,1,1,1,1,1,1,1,1,1,1,0,0,0,0,0,0,0,0,0,0,0,0,0,0,0,0,0,0,0],\"type\":\"box\"},{\"marker\":{\"color\":\"#FF4136\"},\"name\":\"effectors\",\"y\":[0,0,0,0,0,0,0,0,0,0,0,0,0,0,0,0,0,0,0,0,0,0,2,0,0,3,0,3,1,0,1,2,0,1,1,0,0,0,1,1,1,1,1,0,0,0,0,0,1,1,0,0,1,1,1,1,1,1,0,0,0,0,1,1,1,1,1,1,1,1,1,1,1,1,0,0,0,1,1,1,1,1,1,1,1,1,0,0],\"type\":\"box\"},{\"marker\":{\"color\":\"#3D9970\"},\"name\":\"non-effectors\",\"y\":[0,0,0,0,0,0,0,0,0,0,0,0,1,0,0,0,0,1,0,0,0,0,0,0,0,1,1,0,0,0,0,0,0,0,0,0,0,0,0,0,0,0,0,0,0,0,0,0,0,0,0,0,0,0,0,0,0,0,0,0,0,0,0,0,0,0,0,0,0,0,0,0,0,0,0,0,0,0,0,0,0,0,1,0,0,0,0,0,0,0,0,0,0,1,0,0,0,0,0,0,0,0,0,0,0,1,1,0,0,0,0,0,0,0,0,0,0,0,0,0,0,0,0,0,0,0,0,0,0,0,0,0,0,0,0,0,0,0,0,0,0,0,0,0,0,0,0,0,0,0,0,0,0,1,0,0,0,0,0,0,0,0,0,0,0,0,0,0,0,0,0,0,0,0,0,0,0,0,0,0,0,0,0,0,0,0,0,0,0,1,1,0,0,0,0,0,0,0,0,0,0,0,0,0,0,0,0,0,0,1,0,0,0,0,0,0,0,0,0,0,0,0,0,0,0,0,0,0,0,0,0,0,0,0,0,0,0,0,0,0,0,0,0,0,0,0,0,0],\"type\":\"box\"},{\"marker\":{\"color\":\"#FF4136\"},\"name\":\"effectors\",\"y\":[1,1,1,1,1,1,1,1,1,1,1,1,1,1,2,1,1,2,2,0,1,0,3,1,0,1,0,1,0,2,2,1,2,0,2,2,2,2,0,0,0,2,0,2,0,2,2,2,2,2,2,0,1,1,1,1,1,1,0,0,0,0,1,1,1,1,1,1,1,1,1,1,1,1,0,0,0,1,1,1,1,1,1,1,1,1,0,0],\"type\":\"box\"},{\"marker\":{\"color\":\"#3D9970\"},\"name\":\"non-effectors\",\"y\":[0,0,0,1,0,0,0,0,0,0,1,0,0,0,0,0,0,0,1,0,0,0,0,0,0,0,0,0,0,0,0,0,0,0,0,0,0,0,0,0,0,0,0,0,0,0,0,2,0,0,0,0,0,0,0,0,0,0,0,0,0,0,0,0,0,0,0,0,0,0,0,0,0,1,0,0,0,0,0,0,0,0,0,0,0,0,1,0,0,0,0,0,0,0,0,0,0,0,0,0,0,0,0,0,0,0,0,0,0,1,0,0,0,0,0,0,0,0,0,0,0,0,0,0,0,0,0,1,1,0,0,0,0,0,0,0,0,0,0,0,0,0,0,0,0,0,0,0,0,0,0,0,0,0,0,0,0,0,0,0,0,0,0,1,0,0,0,0,0,0,0,0,0,0,0,0,0,0,0,0,0,0,0,0,0,0,0,0,0,0,1,0,0,0,0,0,0,0,0,0,0,0,0,0,0,0,0,0,1,0,0,0,0,0,0,0,0,0,0,0,0,0,0,0,0,0,0,0,0,0,0,0,0,0,0,0,0,0,0,0,0,0,0,0,0,0,0,0],\"type\":\"box\"},{\"marker\":{\"color\":\"#FF4136\"},\"name\":\"effectors\",\"y\":[1,1,1,1,1,1,1,1,1,1,1,1,1,1,2,2,2,2,2,0,1,0,0,2,3,0,1,0,2,0,1,1,0,2,1,1,0,0,2,2,2,0,2,0,2,0,1,1,0,1,1,2,1,1,2,1,1,1,0,0,0,0,1,1,1,1,1,1,1,1,1,1,1,1,0,0,0,1,1,1,1,1,1,0,1,1,0,1],\"type\":\"box\"},{\"marker\":{\"color\":\"#3D9970\"},\"name\":\"non-effectors\",\"y\":[1,4,2,0,0,2,5,1,1,2,4,0,2,2,2,0,3,3,3,0,1,2,3,0,3,0,0,2,3,3,1,0,0,1,3,2,0,3,0,3,2,0,0,1,0,3,2,1,0,1,2,2,2,2,2,2,0,1,0,1,0,0,0,1,0,1,0,1,1,2,1,0,2,2,2,2,2,2,2,2,2,0,0,2,2,0,2,2,2,2,1,2,1,2,2,0,0,0,0,1,1,0,0,0,0,0,1,0,0,1,0,0,0,0,1,0,1,0,1,1,0,1,0,1,1,0,0,0,0,0,0,0,0,1,0,1,0,0,0,0,1,0,0,1,1,0,0,0,1,0,1,0,1,0,1,0,0,0,1,0,0,1,1,0,1,0,1,0,1,0,1,0,1,0,0,0,0,1,0,1,0,0,1,0,1,1,1,0,0,1,1,0,0,0,1,0,0,0,1,0,0,0,0,0,1,0,0,0,1,1,0,0,0,1,0,0,0,0,0,1,0,0,0,0,0,1,0,1,0,1,1,1,1,0,0,1,0,1,1,1,1,1,1,1,1,1,1,1],\"type\":\"box\"},{\"marker\":{\"color\":\"#FF4136\"},\"name\":\"effectors\",\"y\":[1,1,1,1,1,1,1,1,1,1,1,1,1,1,1,2,2,1,1,1,2,1,1,2,1,0,1,0,0,0,0,0,0,0,0,0,0,0,0,0,0,2,0,2,1,1,0,0,1,0,0,0,0,0,1,0,0,0,0,0,0,0,0,0,0,0,0,0,0,0,0,0,0,0,0,0,0,0,0,0,0,0,0,0,0,0,0,0],\"type\":\"box\"},{\"marker\":{\"color\":\"#3D9970\"},\"name\":\"non-effectors\",\"y\":[2,2,1,0,2,0,0,0,0,1,0,0,0,0,0,0,1,0,0,0,0,1,0,0,0,0,0,0,0,0,0,0,0,0,1,0,0,0,0,0,0,0,0,0,2,0,0,0,0,0,0,0,0,1,0,0,1,0,1,0,0,0,0,0,0,0,0,0,0,0,1,0,1,0,0,1,0,0,0,0,0,0,0,0,0,0,0,0,0,0,0,1,0,0,0,0,0,0,0,0,0,0,0,0,0,0,0,0,0,0,0,0,0,0,0,0,0,0,1,1,0,0,0,1,0,0,0,0,1,0,0,0,0,0,0,0,1,0,0,1,0,0,0,0,0,0,0,0,0,0,1,0,0,0,0,0,0,0,1,0,0,0,1,0,0,1,1,0,0,0,0,0,0,0,0,0,0,0,0,0,0,0,0,0,0,0,0,0,0,1,0,0,0,0,0,0,0,0,0,0,0,0,0,0,0,0,0,0,0,0,0,0,0,0,0,0,0,0,0,1,0,0,0,0,0,0,0,0,0,0,0,0,0,1,1,1,1,0,0,0,0,0,0,0,0,0,0,0],\"type\":\"box\"},{\"marker\":{\"color\":\"#FF4136\"},\"name\":\"effectors\",\"y\":[2,2,2,2,2,2,2,2,2,2,2,2,2,2,3,2,2,3,3,1,3,1,1,2,1,2,3,2,1,1,0,2,2,1,0,1,1,1,1,1,1,2,1,0,0,1,1,1,1,2,1,0,1,1,0,1,1,1,0,0,0,0,1,1,1,1,1,1,1,1,1,1,1,1,0,0,0,1,1,1,1,1,1,1,1,1,0,0],\"type\":\"box\"},{\"marker\":{\"color\":\"#3D9970\"},\"name\":\"non-effectors\",\"y\":[2,6,5,1,2,2,2,1,1,2,2,3,3,4,2,0,3,0,0,1,3,2,0,0,1,1,1,2,2,0,1,3,1,1,2,1,3,1,0,0,3,1,0,2,2,1,1,1,1,2,0,0,2,2,2,1,2,2,2,2,2,0,0,2,1,2,2,2,2,0,2,2,1,0,0,0,1,1,0,0,0,2,2,1,2,2,0,0,1,0,2,0,2,0,0,2,2,1,1,0,0,0,0,0,1,0,1,0,1,1,0,0,0,1,0,0,0,0,0,0,0,0,1,1,1,1,0,1,1,1,1,1,1,0,1,1,1,1,1,0,1,1,1,1,0,1,1,1,0,0,1,0,1,1,0,1,0,1,0,1,1,1,1,1,0,1,1,0,1,1,1,1,1,1,1,1,0,0,1,0,1,1,1,1,1,1,1,1,0,1,1,1,1,1,1,1,1,0,1,1,0,1,0,1,0,0,0,0,0,0,0,0,0,0,0,0,0,0,0,0,0,0,0,0,0,0,0,0,0,0,0,0,0,0,0,0,0,0,0,0,0,0,0,0,0,0,0,0],\"type\":\"box\"},{\"marker\":{\"color\":\"#FF4136\"},\"name\":\"effectors\",\"y\":[0,0,0,0,0,0,0,0,0,0,0,0,0,0,0,1,1,0,0,0,0,0,2,0,1,0,0,0,2,0,0,0,0,2,0,0,0,0,0,0,0,0,0,1,1,0,0,0,0,0,0,1,0,0,0,0,0,0,1,1,1,1,0,0,0,0,0,0,0,0,0,0,0,0,1,1,1,0,0,0,0,0,0,0,0,0,0,0],\"type\":\"box\"},{\"marker\":{\"color\":\"#3D9970\"},\"name\":\"non-effectors\",\"y\":[1,1,0,0,1,0,0,0,0,0,1,0,0,0,0,0,0,0,0,1,0,0,0,0,0,0,0,0,1,0,0,0,0,0,0,0,0,0,0,0,0,0,0,0,0,0,0,0,0,0,0,1,0,0,1,0,0,0,0,1,0,0,0,0,0,0,0,0,1,0,0,0,0,0,0,0,1,0,0,0,0,0,0,0,0,0,0,0,0,0,0,0,0,0,0,0,0,0,0,0,0,0,0,0,0,0,0,0,0,0,0,0,0,0,0,0,0,0,0,0,0,0,0,0,0,0,0,0,0,0,0,0,0,0,0,0,0,0,0,0,0,0,0,0,0,0,0,0,0,0,0,0,0,0,0,1,0,0,0,0,0,0,0,0,0,0,0,0,0,0,0,0,0,0,0,1,1,0,0,1,0,0,0,0,0,0,1,0,0,0,0,0,0,0,0,0,0,0,0,0,0,0,0,0,0,0,0,0,0,0,0,0,0,0,0,0,0,0,0,0,0,0,0,0,0,0,0,0,0,0,0,0,0,0,0,0,0,0,0,0,0,0,0,0,0,0,0,0],\"type\":\"box\"},{\"marker\":{\"color\":\"#FF4136\"},\"name\":\"effectors\",\"y\":[1,1,1,1,1,1,1,1,1,1,1,1,1,1,0,0,0,0,0,0,0,0,0,0,0,0,0,0,1,2,1,0,1,1,1,1,2,2,1,1,1,1,1,1,0,1,1,1,0,1,1,1,0,0,1,0,0,0,0,0,0,0,0,0,0,0,0,0,0,0,0,0,0,0,0,0,0,0,0,0,0,0,0,0,0,0,0,0],\"type\":\"box\"},{\"marker\":{\"color\":\"#3D9970\"},\"name\":\"non-effectors\",\"y\":[1,0,1,2,0,0,0,0,0,0,0,0,0,0,0,0,0,0,1,0,0,0,0,0,1,0,0,0,1,0,0,0,0,0,0,0,0,0,0,2,0,0,0,1,1,1,0,2,0,0,0,0,0,0,0,0,0,0,0,0,0,0,0,0,0,0,0,1,0,0,0,0,0,0,0,0,0,1,0,0,0,0,0,0,0,0,1,1,0,0,0,0,0,2,0,0,1,0,0,1,0,0,0,0,0,0,0,0,0,0,1,0,0,0,0,0,0,0,0,0,0,0,0,0,0,0,1,0,0,0,0,1,0,1,0,1,0,0,0,0,0,0,1,1,0,0,0,0,0,0,0,0,0,0,1,0,0,0,0,0,0,0,0,0,1,0,0,1,0,0,0,0,0,0,0,0,0,1,0,0,0,0,0,1,0,0,0,1,1,0,0,0,0,0,0,0,0,1,0,0,1,0,1,0,0,0,0,0,0,0,0,0,0,0,0,0,0,0,0,0,0,0,0,0,0,0,0,0,0,0,0,0,0,0,0,0,0,0,0,0,0,0,0,0,0,0,0,0],\"type\":\"box\"},{\"marker\":{\"color\":\"#FF4136\"},\"name\":\"effectors\",\"y\":[0,0,0,0,0,0,0,0,0,0,0,0,0,0,0,0,0,0,0,0,0,0,1,0,2,1,0,1,1,1,1,1,1,1,1,1,1,1,1,1,1,0,1,0,1,0,1,1,1,1,1,1,1,1,1,1,1,1,0,0,0,0,1,1,1,1,1,1,1,1,1,1,1,1,0,0,0,1,1,1,1,1,1,1,1,1,1,1],\"type\":\"box\"},{\"marker\":{\"color\":\"#3D9970\"},\"name\":\"non-effectors\",\"y\":[0,0,2,0,2,0,0,0,0,0,0,1,0,0,0,0,0,0,0,0,0,0,0,0,0,0,0,0,0,0,0,0,1,1,0,0,0,0,0,0,0,0,0,0,1,0,0,0,0,0,0,0,0,0,0,0,0,0,0,0,0,0,0,1,0,0,0,0,0,0,0,0,0,1,0,0,0,0,0,0,0,0,0,0,0,0,0,0,0,0,0,0,0,0,0,0,0,1,0,0,0,0,0,0,0,0,0,0,0,0,0,0,0,0,0,0,0,0,0,0,0,0,0,1,0,0,0,0,0,0,0,0,0,0,0,0,0,0,0,1,0,0,0,0,0,0,0,0,0,0,0,1,0,0,1,1,1,0,1,0,0,0,1,1,0,0,0,0,0,0,0,0,0,0,0,0,0,0,0,0,0,0,0,0,0,0,0,0,0,0,0,0,0,0,0,0,0,0,0,0,0,0,0,0,0,0,0,0,0,0,0,0,0,0,0,0,0,0,0,0,0,0,0,0,0,0,0,0,0,0,0,0,0,0,0,0,0,0,0,0,0,0,0,0,0,0,0,0],\"type\":\"box\"},{\"marker\":{\"color\":\"#FF4136\"},\"name\":\"effectors\",\"y\":[0,0,0,0,0,0,0,0,0,0,0,0,0,0,0,0,0,0,0,0,0,0,0,0,0,0,1,0,0,0,1,0,0,0,1,1,0,0,1,1,1,0,1,0,0,0,1,1,1,0,1,0,1,1,2,1,1,1,0,0,0,0,1,1,1,1,1,1,1,1,1,1,1,1,0,0,0,1,1,1,1,1,1,1,1,1,0,1],\"type\":\"box\"},{\"marker\":{\"color\":\"#3D9970\"},\"name\":\"non-effectors\",\"y\":[0,0,0,0,0,0,0,0,0,0,0,0,0,0,0,0,0,0,0,0,0,0,0,0,0,0,0,0,1,0,0,0,0,0,0,0,0,0,0,0,0,0,0,0,0,0,0,0,0,0,0,1,0,0,0,0,0,0,0,0,0,0,0,0,0,0,0,0,0,0,0,0,0,0,0,0,0,0,0,0,0,0,0,0,0,0,0,0,0,0,0,1,0,0,0,0,1,0,0,0,0,0,0,0,0,0,0,0,0,0,0,0,0,0,0,0,0,0,0,1,0,0,0,0,0,0,0,0,0,0,0,0,0,0,0,0,0,0,0,0,0,0,0,0,1,0,0,0,1,1,0,0,0,0,0,0,0,0,0,0,0,0,0,0,0,0,0,0,0,0,0,0,0,0,0,0,0,0,0,0,0,0,0,0,0,0,0,0,0,0,0,0,0,0,0,0,0,0,0,0,0,0,0,0,0,0,0,0,0,0,0,0,0,0,0,0,0,0,0,0,0,0,0,0,0,0,0,0,0,0,0,0,0,0,0,0,0,0,0,0,0,0,0,0,0,0,0,0],\"type\":\"box\"},{\"marker\":{\"color\":\"#FF4136\"},\"name\":\"effectors\",\"y\":[0,0,0,0,0,0,0,0,0,0,0,0,0,0,0,0,0,0,0,0,0,0,0,0,0,0,0,0,0,0,0,0,0,0,0,0,0,0,0,0,0,0,0,0,0,0,0,0,0,0,0,0,0,0,0,0,0,0,0,0,0,0,0,0,0,0,0,0,0,0,0,0,0,0,0,0,0,0,0,0,0,0,0,0,0,0,0,1],\"type\":\"box\"},{\"marker\":{\"color\":\"#3D9970\"},\"name\":\"non-effectors\",\"y\":[0,0,0,0,0,0,0,0,0,0,0,0,0,0,0,0,0,0,0,0,0,0,0,0,0,0,0,0,0,0,0,0,0,0,0,0,0,0,0,0,0,0,0,0,0,0,0,0,0,0,0,0,0,0,0,0,0,0,0,0,0,0,0,0,0,0,0,0,0,0,0,0,0,0,0,0,0,0,0,0,0,0,0,0,0,0,0,0,0,0,0,0,0,0,0,0,0,0,0,0,0,0,0,0,0,0,0,0,0,0,0,0,0,0,0,0,0,0,0,0,0,0,0,0,0,0,0,0,0,0,0,0,0,0,0,0,0,0,0,0,0,0,0,0,0,0,0,0,0,0,0,0,0,0,0,0,0,0,0,0,0,0,0,0,0,0,0,0,0,0,0,0,0,0,0,0,0,0,0,0,0,0,0,0,0,0,0,0,0,0,0,0,0,0,0,0,0,0,0,0,0,0,0,0,0,0,0,0,0,0,0,0,0,0,0,0,0,0,0,0,0,0,0,0,0,0,0,0,0,0,0,0,0,0,0,0,0,0,0,0,0,0,0,0,0,0,0,0],\"type\":\"box\"}],                        {\"template\":{\"data\":{\"histogram2dcontour\":[{\"type\":\"histogram2dcontour\",\"colorbar\":{\"outlinewidth\":0,\"ticks\":\"\"},\"colorscale\":[[0.0,\"#0d0887\"],[0.1111111111111111,\"#46039f\"],[0.2222222222222222,\"#7201a8\"],[0.3333333333333333,\"#9c179e\"],[0.4444444444444444,\"#bd3786\"],[0.5555555555555556,\"#d8576b\"],[0.6666666666666666,\"#ed7953\"],[0.7777777777777778,\"#fb9f3a\"],[0.8888888888888888,\"#fdca26\"],[1.0,\"#f0f921\"]]}],\"choropleth\":[{\"type\":\"choropleth\",\"colorbar\":{\"outlinewidth\":0,\"ticks\":\"\"}}],\"histogram2d\":[{\"type\":\"histogram2d\",\"colorbar\":{\"outlinewidth\":0,\"ticks\":\"\"},\"colorscale\":[[0.0,\"#0d0887\"],[0.1111111111111111,\"#46039f\"],[0.2222222222222222,\"#7201a8\"],[0.3333333333333333,\"#9c179e\"],[0.4444444444444444,\"#bd3786\"],[0.5555555555555556,\"#d8576b\"],[0.6666666666666666,\"#ed7953\"],[0.7777777777777778,\"#fb9f3a\"],[0.8888888888888888,\"#fdca26\"],[1.0,\"#f0f921\"]]}],\"heatmap\":[{\"type\":\"heatmap\",\"colorbar\":{\"outlinewidth\":0,\"ticks\":\"\"},\"colorscale\":[[0.0,\"#0d0887\"],[0.1111111111111111,\"#46039f\"],[0.2222222222222222,\"#7201a8\"],[0.3333333333333333,\"#9c179e\"],[0.4444444444444444,\"#bd3786\"],[0.5555555555555556,\"#d8576b\"],[0.6666666666666666,\"#ed7953\"],[0.7777777777777778,\"#fb9f3a\"],[0.8888888888888888,\"#fdca26\"],[1.0,\"#f0f921\"]]}],\"heatmapgl\":[{\"type\":\"heatmapgl\",\"colorbar\":{\"outlinewidth\":0,\"ticks\":\"\"},\"colorscale\":[[0.0,\"#0d0887\"],[0.1111111111111111,\"#46039f\"],[0.2222222222222222,\"#7201a8\"],[0.3333333333333333,\"#9c179e\"],[0.4444444444444444,\"#bd3786\"],[0.5555555555555556,\"#d8576b\"],[0.6666666666666666,\"#ed7953\"],[0.7777777777777778,\"#fb9f3a\"],[0.8888888888888888,\"#fdca26\"],[1.0,\"#f0f921\"]]}],\"contourcarpet\":[{\"type\":\"contourcarpet\",\"colorbar\":{\"outlinewidth\":0,\"ticks\":\"\"}}],\"contour\":[{\"type\":\"contour\",\"colorbar\":{\"outlinewidth\":0,\"ticks\":\"\"},\"colorscale\":[[0.0,\"#0d0887\"],[0.1111111111111111,\"#46039f\"],[0.2222222222222222,\"#7201a8\"],[0.3333333333333333,\"#9c179e\"],[0.4444444444444444,\"#bd3786\"],[0.5555555555555556,\"#d8576b\"],[0.6666666666666666,\"#ed7953\"],[0.7777777777777778,\"#fb9f3a\"],[0.8888888888888888,\"#fdca26\"],[1.0,\"#f0f921\"]]}],\"surface\":[{\"type\":\"surface\",\"colorbar\":{\"outlinewidth\":0,\"ticks\":\"\"},\"colorscale\":[[0.0,\"#0d0887\"],[0.1111111111111111,\"#46039f\"],[0.2222222222222222,\"#7201a8\"],[0.3333333333333333,\"#9c179e\"],[0.4444444444444444,\"#bd3786\"],[0.5555555555555556,\"#d8576b\"],[0.6666666666666666,\"#ed7953\"],[0.7777777777777778,\"#fb9f3a\"],[0.8888888888888888,\"#fdca26\"],[1.0,\"#f0f921\"]]}],\"mesh3d\":[{\"type\":\"mesh3d\",\"colorbar\":{\"outlinewidth\":0,\"ticks\":\"\"}}],\"scatter\":[{\"fillpattern\":{\"fillmode\":\"overlay\",\"size\":10,\"solidity\":0.2},\"type\":\"scatter\"}],\"parcoords\":[{\"type\":\"parcoords\",\"line\":{\"colorbar\":{\"outlinewidth\":0,\"ticks\":\"\"}}}],\"scatterpolargl\":[{\"type\":\"scatterpolargl\",\"marker\":{\"colorbar\":{\"outlinewidth\":0,\"ticks\":\"\"}}}],\"bar\":[{\"error_x\":{\"color\":\"#2a3f5f\"},\"error_y\":{\"color\":\"#2a3f5f\"},\"marker\":{\"line\":{\"color\":\"#E5ECF6\",\"width\":0.5},\"pattern\":{\"fillmode\":\"overlay\",\"size\":10,\"solidity\":0.2}},\"type\":\"bar\"}],\"scattergeo\":[{\"type\":\"scattergeo\",\"marker\":{\"colorbar\":{\"outlinewidth\":0,\"ticks\":\"\"}}}],\"scatterpolar\":[{\"type\":\"scatterpolar\",\"marker\":{\"colorbar\":{\"outlinewidth\":0,\"ticks\":\"\"}}}],\"histogram\":[{\"marker\":{\"pattern\":{\"fillmode\":\"overlay\",\"size\":10,\"solidity\":0.2}},\"type\":\"histogram\"}],\"scattergl\":[{\"type\":\"scattergl\",\"marker\":{\"colorbar\":{\"outlinewidth\":0,\"ticks\":\"\"}}}],\"scatter3d\":[{\"type\":\"scatter3d\",\"line\":{\"colorbar\":{\"outlinewidth\":0,\"ticks\":\"\"}},\"marker\":{\"colorbar\":{\"outlinewidth\":0,\"ticks\":\"\"}}}],\"scattermapbox\":[{\"type\":\"scattermapbox\",\"marker\":{\"colorbar\":{\"outlinewidth\":0,\"ticks\":\"\"}}}],\"scatterternary\":[{\"type\":\"scatterternary\",\"marker\":{\"colorbar\":{\"outlinewidth\":0,\"ticks\":\"\"}}}],\"scattercarpet\":[{\"type\":\"scattercarpet\",\"marker\":{\"colorbar\":{\"outlinewidth\":0,\"ticks\":\"\"}}}],\"carpet\":[{\"aaxis\":{\"endlinecolor\":\"#2a3f5f\",\"gridcolor\":\"white\",\"linecolor\":\"white\",\"minorgridcolor\":\"white\",\"startlinecolor\":\"#2a3f5f\"},\"baxis\":{\"endlinecolor\":\"#2a3f5f\",\"gridcolor\":\"white\",\"linecolor\":\"white\",\"minorgridcolor\":\"white\",\"startlinecolor\":\"#2a3f5f\"},\"type\":\"carpet\"}],\"table\":[{\"cells\":{\"fill\":{\"color\":\"#EBF0F8\"},\"line\":{\"color\":\"white\"}},\"header\":{\"fill\":{\"color\":\"#C8D4E3\"},\"line\":{\"color\":\"white\"}},\"type\":\"table\"}],\"barpolar\":[{\"marker\":{\"line\":{\"color\":\"#E5ECF6\",\"width\":0.5},\"pattern\":{\"fillmode\":\"overlay\",\"size\":10,\"solidity\":0.2}},\"type\":\"barpolar\"}],\"pie\":[{\"automargin\":true,\"type\":\"pie\"}]},\"layout\":{\"autotypenumbers\":\"strict\",\"colorway\":[\"#636efa\",\"#EF553B\",\"#00cc96\",\"#ab63fa\",\"#FFA15A\",\"#19d3f3\",\"#FF6692\",\"#B6E880\",\"#FF97FF\",\"#FECB52\"],\"font\":{\"color\":\"#2a3f5f\"},\"hovermode\":\"closest\",\"hoverlabel\":{\"align\":\"left\"},\"paper_bgcolor\":\"white\",\"plot_bgcolor\":\"#E5ECF6\",\"polar\":{\"bgcolor\":\"#E5ECF6\",\"angularaxis\":{\"gridcolor\":\"white\",\"linecolor\":\"white\",\"ticks\":\"\"},\"radialaxis\":{\"gridcolor\":\"white\",\"linecolor\":\"white\",\"ticks\":\"\"}},\"ternary\":{\"bgcolor\":\"#E5ECF6\",\"aaxis\":{\"gridcolor\":\"white\",\"linecolor\":\"white\",\"ticks\":\"\"},\"baxis\":{\"gridcolor\":\"white\",\"linecolor\":\"white\",\"ticks\":\"\"},\"caxis\":{\"gridcolor\":\"white\",\"linecolor\":\"white\",\"ticks\":\"\"}},\"coloraxis\":{\"colorbar\":{\"outlinewidth\":0,\"ticks\":\"\"}},\"colorscale\":{\"sequential\":[[0.0,\"#0d0887\"],[0.1111111111111111,\"#46039f\"],[0.2222222222222222,\"#7201a8\"],[0.3333333333333333,\"#9c179e\"],[0.4444444444444444,\"#bd3786\"],[0.5555555555555556,\"#d8576b\"],[0.6666666666666666,\"#ed7953\"],[0.7777777777777778,\"#fb9f3a\"],[0.8888888888888888,\"#fdca26\"],[1.0,\"#f0f921\"]],\"sequentialminus\":[[0.0,\"#0d0887\"],[0.1111111111111111,\"#46039f\"],[0.2222222222222222,\"#7201a8\"],[0.3333333333333333,\"#9c179e\"],[0.4444444444444444,\"#bd3786\"],[0.5555555555555556,\"#d8576b\"],[0.6666666666666666,\"#ed7953\"],[0.7777777777777778,\"#fb9f3a\"],[0.8888888888888888,\"#fdca26\"],[1.0,\"#f0f921\"]],\"diverging\":[[0,\"#8e0152\"],[0.1,\"#c51b7d\"],[0.2,\"#de77ae\"],[0.3,\"#f1b6da\"],[0.4,\"#fde0ef\"],[0.5,\"#f7f7f7\"],[0.6,\"#e6f5d0\"],[0.7,\"#b8e186\"],[0.8,\"#7fbc41\"],[0.9,\"#4d9221\"],[1,\"#276419\"]]},\"xaxis\":{\"gridcolor\":\"white\",\"linecolor\":\"white\",\"ticks\":\"\",\"title\":{\"standoff\":15},\"zerolinecolor\":\"white\",\"automargin\":true,\"zerolinewidth\":2},\"yaxis\":{\"gridcolor\":\"white\",\"linecolor\":\"white\",\"ticks\":\"\",\"title\":{\"standoff\":15},\"zerolinecolor\":\"white\",\"automargin\":true,\"zerolinewidth\":2},\"scene\":{\"xaxis\":{\"backgroundcolor\":\"#E5ECF6\",\"gridcolor\":\"white\",\"linecolor\":\"white\",\"showbackground\":true,\"ticks\":\"\",\"zerolinecolor\":\"white\",\"gridwidth\":2},\"yaxis\":{\"backgroundcolor\":\"#E5ECF6\",\"gridcolor\":\"white\",\"linecolor\":\"white\",\"showbackground\":true,\"ticks\":\"\",\"zerolinecolor\":\"white\",\"gridwidth\":2},\"zaxis\":{\"backgroundcolor\":\"#E5ECF6\",\"gridcolor\":\"white\",\"linecolor\":\"white\",\"showbackground\":true,\"ticks\":\"\",\"zerolinecolor\":\"white\",\"gridwidth\":2}},\"shapedefaults\":{\"line\":{\"color\":\"#2a3f5f\"}},\"annotationdefaults\":{\"arrowcolor\":\"#2a3f5f\",\"arrowhead\":0,\"arrowwidth\":1},\"geo\":{\"bgcolor\":\"white\",\"landcolor\":\"#E5ECF6\",\"subunitcolor\":\"white\",\"showland\":true,\"showlakes\":true,\"lakecolor\":\"white\"},\"title\":{\"x\":0.05},\"mapbox\":{\"style\":\"light\"}}},\"boxmode\":\"group\",\"showlegend\":false},                        {\"responsive\": true}                    ).then(function(){\n",
       "                            \n",
       "var gd = document.getElementById('d4a44087-9805-4e36-8f21-9cb39d478e7d');\n",
       "var x = new MutationObserver(function (mutations, observer) {{\n",
       "        var display = window.getComputedStyle(gd).display;\n",
       "        if (!display || display === 'none') {{\n",
       "            console.log([gd, 'removed!']);\n",
       "            Plotly.purge(gd);\n",
       "            observer.disconnect();\n",
       "        }}\n",
       "}});\n",
       "\n",
       "// Listen for the removal of the full notebook cells\n",
       "var notebookContainer = gd.closest('#notebook-container');\n",
       "if (notebookContainer) {{\n",
       "    x.observe(notebookContainer, {childList: true});\n",
       "}}\n",
       "\n",
       "// Listen for the clearing of the current output cell\n",
       "var outputEl = gd.closest('.output');\n",
       "if (outputEl) {{\n",
       "    x.observe(outputEl, {childList: true});\n",
       "}}\n",
       "\n",
       "                        })                };                });            </script>        </div>"
      ]
     },
     "metadata": {},
     "output_type": "display_data"
    }
   ],
   "source": [
    "# boxplots \n",
    "fig_box = go.Figure()\n",
    "for c in list(clumps_feature_eff.columns)[:-1]:\n",
    "    fig_box.add_trace(go.Box(y=clumps_feature_eff[c], name=\"effectors\", marker={\"color\": \"#FF4136\"}))\n",
    "    fig_box.add_trace(go.Box(y=clumps_feature_noneff[c], name=\"non-effectors\", marker={\"color\": \"#3D9970\"}))\n",
    "fig_box.update_layout(boxmode=\"group\",\n",
    "                     showlegend=False)\n",
    "fig_box.show()"
   ]
  },
  {
   "cell_type": "code",
   "execution_count": 49,
   "id": "677d6ba1",
   "metadata": {},
   "outputs": [
    {
     "data": {
      "application/vnd.plotly.v1+json": {
       "config": {
        "plotlyServerURL": "https://plot.ly"
       },
       "data": [
        {
         "hovertemplate": "color=effector<br>1=%{x}<br>2=%{y}<extra></extra>",
         "legendgroup": "effector",
         "marker": {
          "color": "#636efa",
          "symbol": "circle"
         },
         "mode": "markers",
         "name": "effector",
         "orientation": "v",
         "showlegend": true,
         "type": "scatter",
         "x": [
          -0.5652006244729465,
          -0.5652006244729432,
          -0.5652006244729421,
          -0.565200624472945,
          -0.5652006244729454,
          -0.5652006244729464,
          -0.565200624472946,
          -0.5652006244729458,
          -0.5652006244729458,
          -0.565200624472946,
          -0.565200624472946,
          -0.565200624472946,
          -0.565200624472946,
          -0.565200624472946,
          1.2968996915585356,
          0.806326012383974,
          0.806326012383974,
          1.2968996915585356,
          1.2968996915585356,
          -1.2732472066566594,
          0.7294926633212456,
          -1.2732472066566594,
          0.19967935982626647,
          1.2388939722774803,
          2.340674297007926,
          0.19824098629896614,
          1.6154286902128785,
          0.43963040185669094,
          1.5402147115848,
          -0.24851805880915923,
          0.20514672508251997,
          1.1160126732943567,
          0.0009640540313750764,
          1.5402147115848,
          0.20514672508251997,
          0.8549065186794007,
          -0.4899074743668838,
          -0.24851805880915923,
          1.5429447092749788,
          1.5429447092749788,
          1.5429447092749788,
          0.3895269729090706,
          1.5429447092749788,
          -0.4624569633781673,
          0.9169446584169668,
          -0.5577819780696304,
          0.8549065186794007,
          0.8549065186794007,
          -0.009658327563661294,
          1.1366313856858288,
          0.8549065186794007,
          0.8637378176646379,
          0.35150897517247864,
          0.35150897517247864,
          1.31155162451369,
          0.5928983907302036,
          0.5928983907302036,
          0.5928983907302036,
          -1.095839801852986,
          -1.095839801852986,
          -1.095839801852986,
          -1.095839801852986,
          0.5928983907302036,
          0.5928983907302036,
          0.5928983907302036,
          0.5928983907302036,
          0.5928983907302036,
          0.5928983907302036,
          0.5928983907302036,
          0.5928983907302036,
          0.5928983907302036,
          0.5928983907302036,
          0.5928983907302036,
          0.5928983907302036,
          -1.095839801852986,
          -1.095839801852986,
          -1.095839801852986,
          0.5928983907302036,
          0.5928983907302036,
          0.5928983907302036,
          0.8342878062879286,
          0.5928983907302036,
          0.5928983907302036,
          0.04895771252073112,
          0.5928983907302036,
          0.5928983907302036,
          -1.0249693286198538,
          0.10525654681043817
         ],
         "xaxis": "x",
         "y": [
          0.12375973772430186,
          0.12375973772429924,
          0.12375973772429995,
          0.12375973772429978,
          0.1237597377242993,
          0.12375973772430046,
          0.12375973772429981,
          0.12375973772429943,
          0.12375973772429956,
          0.12375973772429978,
          0.12375973772429975,
          0.12375973772429975,
          0.12375973772429975,
          0.12375973772429975,
          -0.5583034228802414,
          0.33249598717594847,
          0.33249598717594847,
          -0.5583034228802414,
          -0.5583034228802414,
          -0.017332376337095882,
          -1.1069649415739637,
          -0.017332376337095882,
          -1.9398245201809339,
          -0.008166420526728098,
          0.7499000502444891,
          -2.0095147296492426,
          -1.4791761134601091,
          -2.172591696183,
          0.243943248391433,
          -1.2005037030783847,
          -0.2255288032658494,
          -1.3752113636304013,
          -1.7032623759285508,
          0.243943248391433,
          -0.2255288032658494,
          -0.853100924828001,
          -1.037426736544627,
          -1.2005037030783847,
          0.12936619570818123,
          0.12936619570818123,
          0.12936619570818123,
          -2.0177391916926584,
          0.12936619570818123,
          -0.6449515834636014,
          1.0092970941869337,
          -0.9195984031035294,
          -0.853100924828001,
          -0.853100924828001,
          -1.5669476521584844,
          -1.4638695366236187,
          -0.853100924828001,
          1.0888404554985753,
          -0.43828881876726866,
          -0.43828881876726866,
          0.34009971301878755,
          -0.6013657853010264,
          -0.6013657853010264,
          -0.6013657853010264,
          0.24555375739520932,
          0.24555375739520932,
          0.24555375739520932,
          0.24555375739520932,
          -0.6013657853010264,
          -0.6013657853010264,
          -0.6013657853010264,
          -0.6013657853010264,
          -0.6013657853010264,
          -0.6013657853010264,
          -0.6013657853010264,
          -0.6013657853010264,
          -0.6013657853010264,
          -0.6013657853010264,
          -0.6013657853010264,
          -0.6013657853010264,
          0.24555375739520932,
          0.24555375739520932,
          0.24555375739520932,
          -0.6013657853010264,
          -0.6013657853010264,
          -0.6013657853010264,
          -0.7644427518347839,
          -0.6013657853010264,
          -0.6013657853010264,
          -1.3643678210304278,
          -0.6013657853010264,
          -0.6013657853010264,
          0.03367358800730871,
          0.38690927436964356
         ],
         "yaxis": "y"
        },
        {
         "hovertemplate": "color=non_effector<br>1=%{x}<br>2=%{y}<extra></extra>",
         "legendgroup": "non_effector",
         "marker": {
          "color": "#EF553B",
          "symbol": "circle"
         },
         "mode": "markers",
         "name": "non_effector",
         "orientation": "v",
         "showlegend": true,
         "type": "scatter",
         "x": [
          -0.5384561032788201,
          5.5500862164311675,
          2.3939057276753384,
          -1.4382769282457097,
          -0.6252913489908453,
          0.4936882529659404,
          3.815236196498432,
          -0.8089600411699441,
          -0.5675706256122193,
          0.8147311812464226,
          2.459068590030579,
          -0.1971829741869667,
          1.3613436912218848,
          2.2524929003764904,
          0.7350776685236652,
          -1.8702189197481043,
          2.1173794753823074,
          1.56027684611392,
          1.0981167273899415,
          -1.0613004325997484,
          1.19123402179833,
          1.0561205968041478,
          0.9685501926689376,
          -1.6288295041903784,
          1.5123150650080528,
          -1.00256348149216,
          -1.00256348149216,
          0.9764670840813903,
          2.4243852922904754,
          1.4513290237843874,
          -0.3261812100544943,
          0.16451451247340815,
          -0.9904299593666165,
          -0.20509986559941892,
          2.3242295216867954,
          0.459148883712703,
          0.16451451247340815,
          1.9686472241530748,
          -1.6288295041903784,
          1.26283295216752,
          1.9765641155655276,
          -1.1115113038216917,
          -1.6288295041903784,
          0.2175836622846213,
          -0.28735806158198557,
          1.5123150650080528,
          0.459148883712703,
          -0.06704814061248698,
          -1.1115113038216917,
          0.4325264058719178,
          0.424609514459466,
          0.577972125815475,
          1.7006353307545652,
          1.297510012361873,
          1.2680673708610588,
          0.941927714828153,
          0.20962865594292776,
          0.9153052369873679,
          0.20962865594292776,
          0.724126692651586,
          -0.1114142723375546,
          -1.387440088632654,
          -1.387440088632654,
          0.5536077503269934,
          -0.8701218882639667,
          0.9153052369873679,
          0.12997514322017042,
          0.4589730778423463,
          0.9655161082093111,
          0.1832200989017411,
          0.7535693341524002,
          -0.1114142723375546,
          1.0215812275509106,
          0.6488107216651163,
          0.6659989300171907,
          0.745652442739948,
          0.9921385860500966,
          0.9683743867985816,
          0.424609514459466,
          0.424609514459466,
          0.6659989300171907,
          -0.3528036878952795,
          -0.24385586556574798,
          0.7005382992704284,
          1.2178564996391155,
          -0.1114142723375546,
          0.3127866336227447,
          0.4510561864298944,
          1.183317130385878,
          0.6659989300171907,
          0.9153052369873679,
          0.3660253517585641,
          0.4325264058719178,
          0.5864506807298542,
          0.1832200989017411,
          -0.1114142723375546,
          0.01818413976693949,
          -0.7490405438088913,
          -0.8701218882639667,
          -0.5756633228950282,
          -0.6021099948654566,
          -1.387440088632654,
          -1.387440088632654,
          -1.387440088632654,
          -0.8701218882639667,
          -1.2784922663031224,
          0.02415602783276226,
          -1.387440088632654,
          -0.8701218882639667,
          0.01832806825380593,
          -1.3609934166622255,
          -1.387440088632654,
          -1.387440088632654,
          -0.8701218882639667,
          -0.6021099948654566,
          -1.387440088632654,
          -0.6021099948654566,
          -1.387440088632654,
          -0.5224564821426991,
          -0.41930474200863355,
          -1.387440088632654,
          -0.6021099948654566,
          -0.3873430571485168,
          0.3573324782387883,
          0.1565976210609556,
          -0.3873430571485168,
          -0.8782145855467756,
          -0.2842231943979417,
          -0.20456968167518416,
          -0.3873430571485168,
          -0.3873430571485168,
          -0.6022858007358135,
          -0.3873430571485168,
          -0.33427390733730333,
          -0.3873430571485168,
          0.424433708589109,
          -0.5490789599834844,
          -0.3873430571485168,
          -0.3873430571485168,
          -0.9453158158970962,
          0.1565976210609556,
          -0.3873430571485168,
          -0.3608963851780884,
          0.424433708589109,
          -0.257568839173666,
          -0.3873430571485168,
          -0.6287324727062418,
          -0.3873430571485168,
          -0.016179423615940963,
          -1.0428989329408636,
          0.23625113378371293,
          -1.0249693286198538,
          0.39798703661868057,
          -0.27839523481898515,
          -0.21319256288222788,
          -0.45744025702922303,
          -0.7835799130621287,
          -0.3873430571485168,
          -0.15998572212989898,
          -0.3873430571485168,
          -0.6287324727062418,
          0.39798703661868057,
          0.5987218937965135,
          -0.4045312655005912,
          -0.33427390733730333,
          -0.5490789599834844,
          0.23625113378371293,
          -0.8782145855467756,
          0.39798703661868057,
          -0.3873430571485168,
          0.39798703661868057,
          -0.6287324727062418,
          0.39798703661868057,
          -0.3873430571485168,
          -0.6287324727062418,
          -0.5785216014842984,
          -0.8544503862952607,
          -0.33427390733730333,
          -0.6287324727062418,
          -0.3105097080857883,
          -0.3873430571485168,
          -0.3873430571485168,
          0.39798703661868057,
          -0.3608963851780884,
          0.39798703661868057,
          0.39798703661868057,
          0.206808492282899,
          -0.3608963851780884,
          -0.8782145855467756,
          0.5865883716709696,
          0.3686653061410626,
          -0.6287324727062418,
          -0.3873430571485168,
          -0.3873430571485168,
          0.1565976210609556,
          -0.3873430571485168,
          -0.3873430571485168,
          -0.8782145855467756,
          0.39798703661868057,
          -0.3873430571485168,
          -0.8782145855467756,
          -0.3873430571485168,
          -0.8782145855467756,
          -0.6287324727062418,
          -0.36072057930773166,
          -1.1460506730749294,
          -1.1460506730749294,
          -1.1460506730749294,
          -0.25760071655715644,
          -0.010383341420475214,
          -1.1460506730749294,
          -1.1460506730749294,
          -1.1460506730749294,
          -0.36072057930773166,
          -1.1460506730749294,
          -1.1460506730749294,
          -1.1460506730749294,
          -1.1460506730749294,
          -1.1460506730749294,
          -0.2810670665849744,
          -1.1460506730749294,
          -1.1460506730749294,
          -1.1460506730749294,
          -1.1460506730749294,
          -1.1460506730749294,
          -0.36072057930773166,
          -1.1460506730749294,
          -0.36072057930773166,
          -1.1460506730749294,
          -0.1193311637500066,
          -0.1193311637500066,
          -0.1193311637500066,
          -0.1193311637500066,
          -0.8250077447944468,
          -0.8250077447944468,
          -0.03967765102724931,
          -0.8250077447944468,
          -0.1193311637500066,
          -0.1193311637500066,
          -0.11933116375000659,
          -0.11933116375000659,
          -0.11933116375000659,
          -0.11933116375000659,
          -0.11933116375000659,
          -0.11933116375000659,
          -0.11933116375000659,
          -0.11933116375000659,
          -0.11933116375000659
         ],
         "xaxis": "x",
         "y": [
          0.35260872939514043,
          -1.640841723294202,
          -1.69306511346035,
          -0.060825484841868734,
          -0.9720988833720716,
          0.7593024505156684,
          1.9067697919675703,
          0.8213277997053731,
          0.6582508331716157,
          0.5205673436688432,
          1.520585439659614,
          -1.4629467675474659,
          -0.26318019776039386,
          -1.0538292858563023,
          0.5962254839819106,
          0.7202761823613208,
          0.4585419944791381,
          1.670288260456268,
          1.9077840205305656,
          -0.09024272792262454,
          -1.1548809032003553,
          0.3574903771350856,
          2.1938974568807375,
          0.5571992158275629,
          1.5358322594939626,
          -0.30220646591474093,
          -0.30220646591474093,
          0.43314851744815286,
          0.6397532457970896,
          1.8677435238132223,
          0.49517386663785795,
          -1.5917290058622422,
          -0.30212289731052516,
          0.29780217188511887,
          0.631261513263215,
          1.095098935833502,
          -1.5917290058622422,
          1.205793105427873,
          0.5571992158275629,
          2.0385909323441287,
          -0.5549558340047106,
          -0.1047512025577861,
          0.5571992158275629,
          -0.16289133074891662,
          -1.1115043753234346,
          1.5358322594939626,
          1.095098935833502,
          -0.07705300606248594,
          -0.1047512025577861,
          -0.32985351828124854,
          1.4308954211513363,
          1.3598437923735691,
          -0.05608238215311933,
          0.19441341060132836,
          0.28458002554955736,
          0.7689450027659871,
          -1.3315906608574752,
          -0.6560074513487637,
          -1.3315906608574752,
          -0.4784220101798445,
          -1.0928555540106506,
          0.3941222492938055,
          0.3941222492938055,
          -0.5272252130339877,
          -0.26782816909154367,
          -0.6560074513487637,
          -1.2559325205444076,
          -0.32596829728267407,
          -0.6414989767136022,
          1.593972387685094,
          -0.5685886251280735,
          -1.0928555540106506,
          0.6932868624529199,
          0.9435250690498506,
          1.2678184546175788,
          1.1921603143045112,
          0.7834534774011489,
          0.7728302237645616,
          1.4308954211513363,
          1.4308954211513363,
          1.2678184546175788,
          -0.9297785874768927,
          -1.1272338508338473,
          0.9320219692997449,
          0.2700715509143958,
          -1.0928555540106506,
          1.3078589513349221,
          1.4347806421499107,
          0.6058680362322295,
          1.2678184546175788,
          -0.6560074513487637,
          1.4327541439590978,
          -0.32985351828124854,
          1.24121059979153,
          1.593972387685094,
          -1.0928555540106506,
          -1.1745304364250044,
          -0.46519986384428264,
          -0.26782816909154367,
          0.9979325394880244,
          0.9940473184894497,
          0.3941222492938055,
          0.3941222492938055,
          0.3941222492938055,
          -0.26782816909154367,
          0.19666698593685045,
          0.1346416367471456,
          0.3941222492938055,
          -0.26782816909154367,
          0.04209824275535403,
          0.39800747029237993,
          0.3941222492938055,
          0.3941222492938055,
          -0.26782816909154367,
          0.9940473184894497,
          0.3941222492938055,
          0.9940473184894497,
          0.3941222492938055,
          0.9183891781763822,
          0.8328290747634535,
          0.3941222492938055,
          0.9940473184894497,
          -0.5939821021590587,
          -0.10400990149546341,
          0.1690199335703429,
          -0.5939821021590587,
          0.07185353722486473,
          -0.8839807595078052,
          -0.9596388998208725,
          -0.5939821021590587,
          -0.5939821021590587,
          -0.42701991462672695,
          -0.5939821021590587,
          0.8348555729542666,
          -0.5939821021590587,
          0.009828188035159767,
          -0.5065632759383687,
          -0.5939821021590587,
          -0.5939821021590587,
          -0.0419845523057586,
          0.1690199335703429,
          -0.5939821021590587,
          -0.5900968811604842,
          0.009828188035159767,
          0.7454102485427634,
          -0.5939821021590587,
          -0.43090513562530125,
          -0.5939821021590587,
          0.5823332820090056,
          0.14548517934711913,
          0.09336179325727563,
          0.03367358800730871,
          0.005942967036585339,
          -0.7914373655160135,
          0.6374838782015274,
          -0.6137683557428787,
          -0.1294033785264489,
          -0.5939821021590587,
          0.5579405168898858,
          -0.5939821021590587,
          -0.43090513562530125,
          0.005942967036585339,
          -0.2670868680292211,
          -0.9182754877267866,
          0.8348555729542666,
          -0.5065632759383687,
          0.09336179325727563,
          0.07185353722486473,
          0.005942967036585339,
          -0.5939821021590587,
          0.005942967036585339,
          -0.43090513562530125,
          0.005942967036585339,
          -0.5939821021590587,
          -0.43090513562530125,
          -0.4163966609901397,
          0.08247679086145182,
          0.8348555729542666,
          -0.43090513562530125,
          0.8454788265908535,
          -0.5939821021590587,
          -0.5939821021590587,
          0.005942967036585339,
          -0.5900968811604842,
          0.005942967036585339,
          0.005942967036585339,
          0.18352840820550445,
          -0.5900968811604842,
          0.07185353722486473,
          -0.2671704366334368,
          -0.3184339871353586,
          -0.43090513562530125,
          -0.5939821021590587,
          -0.5939821021590587,
          0.1690199335703429,
          -0.5939821021590587,
          -0.5939821021590587,
          0.07185353722486473,
          0.005942967036585339,
          -0.5939821021590587,
          0.07185353722486473,
          -0.5939821021590587,
          0.07185353722486473,
          -0.43090513562530125,
          0.830970351955692,
          0.23104528276004782,
          0.23104528276004782,
          0.23104528276004782,
          0.5409716946069456,
          0.4704381220649797,
          0.23104528276004782,
          0.23104528276004782,
          0.23104528276004782,
          0.830970351955692,
          0.23104528276004782,
          0.23104528276004782,
          0.23104528276004782,
          0.23104528276004782,
          0.23104528276004782,
          0.7553122116426249,
          0.23104528276004782,
          0.23104528276004782,
          0.23104528276004782,
          0.23104528276004782,
          0.23104528276004782,
          0.830970351955692,
          0.23104528276004782,
          0.830970351955692,
          0.23104528276004782,
          0.6678933854219343,
          0.6678933854219343,
          0.6678933854219343,
          0.6678933854219343,
          -0.007689824086776895,
          -0.007689824086776895,
          0.5922352451088672,
          -0.0076898240867768934,
          0.6678933854219343,
          0.6678933854219343,
          0.6678933854219343,
          0.6678933854219343,
          0.6678933854219343,
          0.6678933854219343,
          0.6678933854219343,
          0.6678933854219343,
          0.6678933854219343,
          0.6678933854219343,
          0.6678933854219343
         ],
         "yaxis": "y"
        }
       ],
       "layout": {
        "annotations": [
         {
          "ax": 0,
          "ay": 0,
          "text": "CLUMP0",
          "x": 1.6803803952067655,
          "xanchor": "center",
          "y": -0.22721401159889493,
          "yanchor": "bottom"
         },
         {
          "ax": 0,
          "ay": 0,
          "text": "CLUMP1",
          "x": -0.03305255824505537,
          "xanchor": "center",
          "y": 0.10254994697784091,
          "yanchor": "bottom"
         },
         {
          "ax": 0,
          "ay": 0,
          "text": "CLUMP2",
          "x": 0.17586923399886253,
          "xanchor": "center",
          "y": 0.09706422975071387,
          "yanchor": "bottom"
         },
         {
          "ax": 0,
          "ay": 0,
          "text": "CLUMP3",
          "x": 0.16290780182598372,
          "xanchor": "center",
          "y": 0.7392122004268666,
          "yanchor": "bottom"
         },
         {
          "ax": 0,
          "ay": 0,
          "text": "CLUMP4",
          "x": 0.23494350244538328,
          "xanchor": "center",
          "y": 0.07497592270922677,
          "yanchor": "bottom"
         },
         {
          "ax": 0,
          "ay": 0,
          "text": "CLUMP5",
          "x": 0.4818619965275952,
          "xanchor": "center",
          "y": 0.48693909510204697,
          "yanchor": "bottom"
         },
         {
          "ax": 0,
          "ay": 0,
          "text": "CLUMP6",
          "x": 0.0014242160737268545,
          "xanchor": "center",
          "y": 0.047262277220622616,
          "yanchor": "bottom"
         },
         {
          "ax": 0,
          "ay": 0,
          "text": "CLUMP7",
          "x": 0.11967413215891028,
          "xanchor": "center",
          "y": 0.02489361191731343,
          "yanchor": "bottom"
         },
         {
          "ax": 0,
          "ay": 0,
          "text": "CLUMP8",
          "x": -0.02353551835407408,
          "xanchor": "center",
          "y": 0.11397093754032617,
          "yanchor": "bottom"
         },
         {
          "ax": 0,
          "ay": 0,
          "text": "CLUMP9",
          "x": -0.05061276309717861,
          "xanchor": "center",
          "y": 0.0970942351598802,
          "yanchor": "bottom"
         },
         {
          "ax": 0,
          "ay": 0,
          "text": "CLUMP10",
          "x": -0.0028418241753126266,
          "xanchor": "center",
          "y": 0.0003338008394895982,
          "yanchor": "bottom"
         }
        ],
        "legend": {
         "title": {
          "text": "color"
         },
         "tracegroupgap": 0
        },
        "margin": {
         "t": 60
        },
        "shapes": [
         {
          "type": "line",
          "x0": 0,
          "x1": 1.6803803952067655,
          "y0": 0,
          "y1": -0.22721401159889493
         },
         {
          "type": "line",
          "x0": 0,
          "x1": -0.03305255824505537,
          "y0": 0,
          "y1": 0.10254994697784091
         },
         {
          "type": "line",
          "x0": 0,
          "x1": 0.17586923399886253,
          "y0": 0,
          "y1": 0.09706422975071387
         },
         {
          "type": "line",
          "x0": 0,
          "x1": 0.16290780182598372,
          "y0": 0,
          "y1": 0.7392122004268666
         },
         {
          "type": "line",
          "x0": 0,
          "x1": 0.23494350244538328,
          "y0": 0,
          "y1": 0.07497592270922677
         },
         {
          "type": "line",
          "x0": 0,
          "x1": 0.4818619965275952,
          "y0": 0,
          "y1": 0.48693909510204697
         },
         {
          "type": "line",
          "x0": 0,
          "x1": 0.0014242160737268545,
          "y0": 0,
          "y1": 0.047262277220622616
         },
         {
          "type": "line",
          "x0": 0,
          "x1": 0.11967413215891028,
          "y0": 0,
          "y1": 0.02489361191731343
         },
         {
          "type": "line",
          "x0": 0,
          "x1": -0.02353551835407408,
          "y0": 0,
          "y1": 0.11397093754032617
         },
         {
          "type": "line",
          "x0": 0,
          "x1": -0.05061276309717861,
          "y0": 0,
          "y1": 0.0970942351598802
         },
         {
          "type": "line",
          "x0": 0,
          "x1": -0.0028418241753126266,
          "y0": 0,
          "y1": 0.0003338008394895982
         }
        ],
        "template": {
         "data": {
          "bar": [
           {
            "error_x": {
             "color": "#2a3f5f"
            },
            "error_y": {
             "color": "#2a3f5f"
            },
            "marker": {
             "line": {
              "color": "#E5ECF6",
              "width": 0.5
             },
             "pattern": {
              "fillmode": "overlay",
              "size": 10,
              "solidity": 0.2
             }
            },
            "type": "bar"
           }
          ],
          "barpolar": [
           {
            "marker": {
             "line": {
              "color": "#E5ECF6",
              "width": 0.5
             },
             "pattern": {
              "fillmode": "overlay",
              "size": 10,
              "solidity": 0.2
             }
            },
            "type": "barpolar"
           }
          ],
          "carpet": [
           {
            "aaxis": {
             "endlinecolor": "#2a3f5f",
             "gridcolor": "white",
             "linecolor": "white",
             "minorgridcolor": "white",
             "startlinecolor": "#2a3f5f"
            },
            "baxis": {
             "endlinecolor": "#2a3f5f",
             "gridcolor": "white",
             "linecolor": "white",
             "minorgridcolor": "white",
             "startlinecolor": "#2a3f5f"
            },
            "type": "carpet"
           }
          ],
          "choropleth": [
           {
            "colorbar": {
             "outlinewidth": 0,
             "ticks": ""
            },
            "type": "choropleth"
           }
          ],
          "contour": [
           {
            "colorbar": {
             "outlinewidth": 0,
             "ticks": ""
            },
            "colorscale": [
             [
              0,
              "#0d0887"
             ],
             [
              0.1111111111111111,
              "#46039f"
             ],
             [
              0.2222222222222222,
              "#7201a8"
             ],
             [
              0.3333333333333333,
              "#9c179e"
             ],
             [
              0.4444444444444444,
              "#bd3786"
             ],
             [
              0.5555555555555556,
              "#d8576b"
             ],
             [
              0.6666666666666666,
              "#ed7953"
             ],
             [
              0.7777777777777778,
              "#fb9f3a"
             ],
             [
              0.8888888888888888,
              "#fdca26"
             ],
             [
              1,
              "#f0f921"
             ]
            ],
            "type": "contour"
           }
          ],
          "contourcarpet": [
           {
            "colorbar": {
             "outlinewidth": 0,
             "ticks": ""
            },
            "type": "contourcarpet"
           }
          ],
          "heatmap": [
           {
            "colorbar": {
             "outlinewidth": 0,
             "ticks": ""
            },
            "colorscale": [
             [
              0,
              "#0d0887"
             ],
             [
              0.1111111111111111,
              "#46039f"
             ],
             [
              0.2222222222222222,
              "#7201a8"
             ],
             [
              0.3333333333333333,
              "#9c179e"
             ],
             [
              0.4444444444444444,
              "#bd3786"
             ],
             [
              0.5555555555555556,
              "#d8576b"
             ],
             [
              0.6666666666666666,
              "#ed7953"
             ],
             [
              0.7777777777777778,
              "#fb9f3a"
             ],
             [
              0.8888888888888888,
              "#fdca26"
             ],
             [
              1,
              "#f0f921"
             ]
            ],
            "type": "heatmap"
           }
          ],
          "heatmapgl": [
           {
            "colorbar": {
             "outlinewidth": 0,
             "ticks": ""
            },
            "colorscale": [
             [
              0,
              "#0d0887"
             ],
             [
              0.1111111111111111,
              "#46039f"
             ],
             [
              0.2222222222222222,
              "#7201a8"
             ],
             [
              0.3333333333333333,
              "#9c179e"
             ],
             [
              0.4444444444444444,
              "#bd3786"
             ],
             [
              0.5555555555555556,
              "#d8576b"
             ],
             [
              0.6666666666666666,
              "#ed7953"
             ],
             [
              0.7777777777777778,
              "#fb9f3a"
             ],
             [
              0.8888888888888888,
              "#fdca26"
             ],
             [
              1,
              "#f0f921"
             ]
            ],
            "type": "heatmapgl"
           }
          ],
          "histogram": [
           {
            "marker": {
             "pattern": {
              "fillmode": "overlay",
              "size": 10,
              "solidity": 0.2
             }
            },
            "type": "histogram"
           }
          ],
          "histogram2d": [
           {
            "colorbar": {
             "outlinewidth": 0,
             "ticks": ""
            },
            "colorscale": [
             [
              0,
              "#0d0887"
             ],
             [
              0.1111111111111111,
              "#46039f"
             ],
             [
              0.2222222222222222,
              "#7201a8"
             ],
             [
              0.3333333333333333,
              "#9c179e"
             ],
             [
              0.4444444444444444,
              "#bd3786"
             ],
             [
              0.5555555555555556,
              "#d8576b"
             ],
             [
              0.6666666666666666,
              "#ed7953"
             ],
             [
              0.7777777777777778,
              "#fb9f3a"
             ],
             [
              0.8888888888888888,
              "#fdca26"
             ],
             [
              1,
              "#f0f921"
             ]
            ],
            "type": "histogram2d"
           }
          ],
          "histogram2dcontour": [
           {
            "colorbar": {
             "outlinewidth": 0,
             "ticks": ""
            },
            "colorscale": [
             [
              0,
              "#0d0887"
             ],
             [
              0.1111111111111111,
              "#46039f"
             ],
             [
              0.2222222222222222,
              "#7201a8"
             ],
             [
              0.3333333333333333,
              "#9c179e"
             ],
             [
              0.4444444444444444,
              "#bd3786"
             ],
             [
              0.5555555555555556,
              "#d8576b"
             ],
             [
              0.6666666666666666,
              "#ed7953"
             ],
             [
              0.7777777777777778,
              "#fb9f3a"
             ],
             [
              0.8888888888888888,
              "#fdca26"
             ],
             [
              1,
              "#f0f921"
             ]
            ],
            "type": "histogram2dcontour"
           }
          ],
          "mesh3d": [
           {
            "colorbar": {
             "outlinewidth": 0,
             "ticks": ""
            },
            "type": "mesh3d"
           }
          ],
          "parcoords": [
           {
            "line": {
             "colorbar": {
              "outlinewidth": 0,
              "ticks": ""
             }
            },
            "type": "parcoords"
           }
          ],
          "pie": [
           {
            "automargin": true,
            "type": "pie"
           }
          ],
          "scatter": [
           {
            "fillpattern": {
             "fillmode": "overlay",
             "size": 10,
             "solidity": 0.2
            },
            "type": "scatter"
           }
          ],
          "scatter3d": [
           {
            "line": {
             "colorbar": {
              "outlinewidth": 0,
              "ticks": ""
             }
            },
            "marker": {
             "colorbar": {
              "outlinewidth": 0,
              "ticks": ""
             }
            },
            "type": "scatter3d"
           }
          ],
          "scattercarpet": [
           {
            "marker": {
             "colorbar": {
              "outlinewidth": 0,
              "ticks": ""
             }
            },
            "type": "scattercarpet"
           }
          ],
          "scattergeo": [
           {
            "marker": {
             "colorbar": {
              "outlinewidth": 0,
              "ticks": ""
             }
            },
            "type": "scattergeo"
           }
          ],
          "scattergl": [
           {
            "marker": {
             "colorbar": {
              "outlinewidth": 0,
              "ticks": ""
             }
            },
            "type": "scattergl"
           }
          ],
          "scattermapbox": [
           {
            "marker": {
             "colorbar": {
              "outlinewidth": 0,
              "ticks": ""
             }
            },
            "type": "scattermapbox"
           }
          ],
          "scatterpolar": [
           {
            "marker": {
             "colorbar": {
              "outlinewidth": 0,
              "ticks": ""
             }
            },
            "type": "scatterpolar"
           }
          ],
          "scatterpolargl": [
           {
            "marker": {
             "colorbar": {
              "outlinewidth": 0,
              "ticks": ""
             }
            },
            "type": "scatterpolargl"
           }
          ],
          "scatterternary": [
           {
            "marker": {
             "colorbar": {
              "outlinewidth": 0,
              "ticks": ""
             }
            },
            "type": "scatterternary"
           }
          ],
          "surface": [
           {
            "colorbar": {
             "outlinewidth": 0,
             "ticks": ""
            },
            "colorscale": [
             [
              0,
              "#0d0887"
             ],
             [
              0.1111111111111111,
              "#46039f"
             ],
             [
              0.2222222222222222,
              "#7201a8"
             ],
             [
              0.3333333333333333,
              "#9c179e"
             ],
             [
              0.4444444444444444,
              "#bd3786"
             ],
             [
              0.5555555555555556,
              "#d8576b"
             ],
             [
              0.6666666666666666,
              "#ed7953"
             ],
             [
              0.7777777777777778,
              "#fb9f3a"
             ],
             [
              0.8888888888888888,
              "#fdca26"
             ],
             [
              1,
              "#f0f921"
             ]
            ],
            "type": "surface"
           }
          ],
          "table": [
           {
            "cells": {
             "fill": {
              "color": "#EBF0F8"
             },
             "line": {
              "color": "white"
             }
            },
            "header": {
             "fill": {
              "color": "#C8D4E3"
             },
             "line": {
              "color": "white"
             }
            },
            "type": "table"
           }
          ]
         },
         "layout": {
          "annotationdefaults": {
           "arrowcolor": "#2a3f5f",
           "arrowhead": 0,
           "arrowwidth": 1
          },
          "autotypenumbers": "strict",
          "coloraxis": {
           "colorbar": {
            "outlinewidth": 0,
            "ticks": ""
           }
          },
          "colorscale": {
           "diverging": [
            [
             0,
             "#8e0152"
            ],
            [
             0.1,
             "#c51b7d"
            ],
            [
             0.2,
             "#de77ae"
            ],
            [
             0.3,
             "#f1b6da"
            ],
            [
             0.4,
             "#fde0ef"
            ],
            [
             0.5,
             "#f7f7f7"
            ],
            [
             0.6,
             "#e6f5d0"
            ],
            [
             0.7,
             "#b8e186"
            ],
            [
             0.8,
             "#7fbc41"
            ],
            [
             0.9,
             "#4d9221"
            ],
            [
             1,
             "#276419"
            ]
           ],
           "sequential": [
            [
             0,
             "#0d0887"
            ],
            [
             0.1111111111111111,
             "#46039f"
            ],
            [
             0.2222222222222222,
             "#7201a8"
            ],
            [
             0.3333333333333333,
             "#9c179e"
            ],
            [
             0.4444444444444444,
             "#bd3786"
            ],
            [
             0.5555555555555556,
             "#d8576b"
            ],
            [
             0.6666666666666666,
             "#ed7953"
            ],
            [
             0.7777777777777778,
             "#fb9f3a"
            ],
            [
             0.8888888888888888,
             "#fdca26"
            ],
            [
             1,
             "#f0f921"
            ]
           ],
           "sequentialminus": [
            [
             0,
             "#0d0887"
            ],
            [
             0.1111111111111111,
             "#46039f"
            ],
            [
             0.2222222222222222,
             "#7201a8"
            ],
            [
             0.3333333333333333,
             "#9c179e"
            ],
            [
             0.4444444444444444,
             "#bd3786"
            ],
            [
             0.5555555555555556,
             "#d8576b"
            ],
            [
             0.6666666666666666,
             "#ed7953"
            ],
            [
             0.7777777777777778,
             "#fb9f3a"
            ],
            [
             0.8888888888888888,
             "#fdca26"
            ],
            [
             1,
             "#f0f921"
            ]
           ]
          },
          "colorway": [
           "#636efa",
           "#EF553B",
           "#00cc96",
           "#ab63fa",
           "#FFA15A",
           "#19d3f3",
           "#FF6692",
           "#B6E880",
           "#FF97FF",
           "#FECB52"
          ],
          "font": {
           "color": "#2a3f5f"
          },
          "geo": {
           "bgcolor": "white",
           "lakecolor": "white",
           "landcolor": "#E5ECF6",
           "showlakes": true,
           "showland": true,
           "subunitcolor": "white"
          },
          "hoverlabel": {
           "align": "left"
          },
          "hovermode": "closest",
          "mapbox": {
           "style": "light"
          },
          "paper_bgcolor": "white",
          "plot_bgcolor": "#E5ECF6",
          "polar": {
           "angularaxis": {
            "gridcolor": "white",
            "linecolor": "white",
            "ticks": ""
           },
           "bgcolor": "#E5ECF6",
           "radialaxis": {
            "gridcolor": "white",
            "linecolor": "white",
            "ticks": ""
           }
          },
          "scene": {
           "xaxis": {
            "backgroundcolor": "#E5ECF6",
            "gridcolor": "white",
            "gridwidth": 2,
            "linecolor": "white",
            "showbackground": true,
            "ticks": "",
            "zerolinecolor": "white"
           },
           "yaxis": {
            "backgroundcolor": "#E5ECF6",
            "gridcolor": "white",
            "gridwidth": 2,
            "linecolor": "white",
            "showbackground": true,
            "ticks": "",
            "zerolinecolor": "white"
           },
           "zaxis": {
            "backgroundcolor": "#E5ECF6",
            "gridcolor": "white",
            "gridwidth": 2,
            "linecolor": "white",
            "showbackground": true,
            "ticks": "",
            "zerolinecolor": "white"
           }
          },
          "shapedefaults": {
           "line": {
            "color": "#2a3f5f"
           }
          },
          "ternary": {
           "aaxis": {
            "gridcolor": "white",
            "linecolor": "white",
            "ticks": ""
           },
           "baxis": {
            "gridcolor": "white",
            "linecolor": "white",
            "ticks": ""
           },
           "bgcolor": "#E5ECF6",
           "caxis": {
            "gridcolor": "white",
            "linecolor": "white",
            "ticks": ""
           }
          },
          "title": {
           "x": 0.05
          },
          "xaxis": {
           "automargin": true,
           "gridcolor": "white",
           "linecolor": "white",
           "ticks": "",
           "title": {
            "standoff": 15
           },
           "zerolinecolor": "white",
           "zerolinewidth": 2
          },
          "yaxis": {
           "automargin": true,
           "gridcolor": "white",
           "linecolor": "white",
           "ticks": "",
           "title": {
            "standoff": 15
           },
           "zerolinecolor": "white",
           "zerolinewidth": 2
          }
         }
        },
        "xaxis": {
         "anchor": "y",
         "domain": [
          0,
          1
         ],
         "title": {
          "text": "PC2 (53.6%)"
         }
        },
        "yaxis": {
         "anchor": "x",
         "domain": [
          0,
          1
         ],
         "title": {
          "text": "PC3 (14.9%)"
         }
        }
       }
      },
      "text/html": [
       "<div>                            <div id=\"4beed6a6-94f3-4002-ab03-8980ae1b6d8d\" class=\"plotly-graph-div\" style=\"height:525px; width:100%;\"></div>            <script type=\"text/javascript\">                require([\"plotly\"], function(Plotly) {                    window.PLOTLYENV=window.PLOTLYENV || {};                                    if (document.getElementById(\"4beed6a6-94f3-4002-ab03-8980ae1b6d8d\")) {                    Plotly.newPlot(                        \"4beed6a6-94f3-4002-ab03-8980ae1b6d8d\",                        [{\"hovertemplate\":\"color=effector<br>1=%{x}<br>2=%{y}<extra></extra>\",\"legendgroup\":\"effector\",\"marker\":{\"color\":\"#636efa\",\"symbol\":\"circle\"},\"mode\":\"markers\",\"name\":\"effector\",\"orientation\":\"v\",\"showlegend\":true,\"x\":[-0.5652006244729465,-0.5652006244729432,-0.5652006244729421,-0.565200624472945,-0.5652006244729454,-0.5652006244729464,-0.565200624472946,-0.5652006244729458,-0.5652006244729458,-0.565200624472946,-0.565200624472946,-0.565200624472946,-0.565200624472946,-0.565200624472946,1.2968996915585356,0.806326012383974,0.806326012383974,1.2968996915585356,1.2968996915585356,-1.2732472066566594,0.7294926633212456,-1.2732472066566594,0.19967935982626647,1.2388939722774803,2.340674297007926,0.19824098629896614,1.6154286902128785,0.43963040185669094,1.5402147115848,-0.24851805880915923,0.20514672508251997,1.1160126732943567,0.0009640540313750764,1.5402147115848,0.20514672508251997,0.8549065186794007,-0.4899074743668838,-0.24851805880915923,1.5429447092749788,1.5429447092749788,1.5429447092749788,0.3895269729090706,1.5429447092749788,-0.4624569633781673,0.9169446584169668,-0.5577819780696304,0.8549065186794007,0.8549065186794007,-0.009658327563661294,1.1366313856858288,0.8549065186794007,0.8637378176646379,0.35150897517247864,0.35150897517247864,1.31155162451369,0.5928983907302036,0.5928983907302036,0.5928983907302036,-1.095839801852986,-1.095839801852986,-1.095839801852986,-1.095839801852986,0.5928983907302036,0.5928983907302036,0.5928983907302036,0.5928983907302036,0.5928983907302036,0.5928983907302036,0.5928983907302036,0.5928983907302036,0.5928983907302036,0.5928983907302036,0.5928983907302036,0.5928983907302036,-1.095839801852986,-1.095839801852986,-1.095839801852986,0.5928983907302036,0.5928983907302036,0.5928983907302036,0.8342878062879286,0.5928983907302036,0.5928983907302036,0.04895771252073112,0.5928983907302036,0.5928983907302036,-1.0249693286198538,0.10525654681043817],\"xaxis\":\"x\",\"y\":[0.12375973772430186,0.12375973772429924,0.12375973772429995,0.12375973772429978,0.1237597377242993,0.12375973772430046,0.12375973772429981,0.12375973772429943,0.12375973772429956,0.12375973772429978,0.12375973772429975,0.12375973772429975,0.12375973772429975,0.12375973772429975,-0.5583034228802414,0.33249598717594847,0.33249598717594847,-0.5583034228802414,-0.5583034228802414,-0.017332376337095882,-1.1069649415739637,-0.017332376337095882,-1.9398245201809339,-0.008166420526728098,0.7499000502444891,-2.0095147296492426,-1.4791761134601091,-2.172591696183,0.243943248391433,-1.2005037030783847,-0.2255288032658494,-1.3752113636304013,-1.7032623759285508,0.243943248391433,-0.2255288032658494,-0.853100924828001,-1.037426736544627,-1.2005037030783847,0.12936619570818123,0.12936619570818123,0.12936619570818123,-2.0177391916926584,0.12936619570818123,-0.6449515834636014,1.0092970941869337,-0.9195984031035294,-0.853100924828001,-0.853100924828001,-1.5669476521584844,-1.4638695366236187,-0.853100924828001,1.0888404554985753,-0.43828881876726866,-0.43828881876726866,0.34009971301878755,-0.6013657853010264,-0.6013657853010264,-0.6013657853010264,0.24555375739520932,0.24555375739520932,0.24555375739520932,0.24555375739520932,-0.6013657853010264,-0.6013657853010264,-0.6013657853010264,-0.6013657853010264,-0.6013657853010264,-0.6013657853010264,-0.6013657853010264,-0.6013657853010264,-0.6013657853010264,-0.6013657853010264,-0.6013657853010264,-0.6013657853010264,0.24555375739520932,0.24555375739520932,0.24555375739520932,-0.6013657853010264,-0.6013657853010264,-0.6013657853010264,-0.7644427518347839,-0.6013657853010264,-0.6013657853010264,-1.3643678210304278,-0.6013657853010264,-0.6013657853010264,0.03367358800730871,0.38690927436964356],\"yaxis\":\"y\",\"type\":\"scatter\"},{\"hovertemplate\":\"color=non_effector<br>1=%{x}<br>2=%{y}<extra></extra>\",\"legendgroup\":\"non_effector\",\"marker\":{\"color\":\"#EF553B\",\"symbol\":\"circle\"},\"mode\":\"markers\",\"name\":\"non_effector\",\"orientation\":\"v\",\"showlegend\":true,\"x\":[-0.5384561032788201,5.5500862164311675,2.3939057276753384,-1.4382769282457097,-0.6252913489908453,0.4936882529659404,3.815236196498432,-0.8089600411699441,-0.5675706256122193,0.8147311812464226,2.459068590030579,-0.1971829741869667,1.3613436912218848,2.2524929003764904,0.7350776685236652,-1.8702189197481043,2.1173794753823074,1.56027684611392,1.0981167273899415,-1.0613004325997484,1.19123402179833,1.0561205968041478,0.9685501926689376,-1.6288295041903784,1.5123150650080528,-1.00256348149216,-1.00256348149216,0.9764670840813903,2.4243852922904754,1.4513290237843874,-0.3261812100544943,0.16451451247340815,-0.9904299593666165,-0.20509986559941892,2.3242295216867954,0.459148883712703,0.16451451247340815,1.9686472241530748,-1.6288295041903784,1.26283295216752,1.9765641155655276,-1.1115113038216917,-1.6288295041903784,0.2175836622846213,-0.28735806158198557,1.5123150650080528,0.459148883712703,-0.06704814061248698,-1.1115113038216917,0.4325264058719178,0.424609514459466,0.577972125815475,1.7006353307545652,1.297510012361873,1.2680673708610588,0.941927714828153,0.20962865594292776,0.9153052369873679,0.20962865594292776,0.724126692651586,-0.1114142723375546,-1.387440088632654,-1.387440088632654,0.5536077503269934,-0.8701218882639667,0.9153052369873679,0.12997514322017042,0.4589730778423463,0.9655161082093111,0.1832200989017411,0.7535693341524002,-0.1114142723375546,1.0215812275509106,0.6488107216651163,0.6659989300171907,0.745652442739948,0.9921385860500966,0.9683743867985816,0.424609514459466,0.424609514459466,0.6659989300171907,-0.3528036878952795,-0.24385586556574798,0.7005382992704284,1.2178564996391155,-0.1114142723375546,0.3127866336227447,0.4510561864298944,1.183317130385878,0.6659989300171907,0.9153052369873679,0.3660253517585641,0.4325264058719178,0.5864506807298542,0.1832200989017411,-0.1114142723375546,0.01818413976693949,-0.7490405438088913,-0.8701218882639667,-0.5756633228950282,-0.6021099948654566,-1.387440088632654,-1.387440088632654,-1.387440088632654,-0.8701218882639667,-1.2784922663031224,0.02415602783276226,-1.387440088632654,-0.8701218882639667,0.01832806825380593,-1.3609934166622255,-1.387440088632654,-1.387440088632654,-0.8701218882639667,-0.6021099948654566,-1.387440088632654,-0.6021099948654566,-1.387440088632654,-0.5224564821426991,-0.41930474200863355,-1.387440088632654,-0.6021099948654566,-0.3873430571485168,0.3573324782387883,0.1565976210609556,-0.3873430571485168,-0.8782145855467756,-0.2842231943979417,-0.20456968167518416,-0.3873430571485168,-0.3873430571485168,-0.6022858007358135,-0.3873430571485168,-0.33427390733730333,-0.3873430571485168,0.424433708589109,-0.5490789599834844,-0.3873430571485168,-0.3873430571485168,-0.9453158158970962,0.1565976210609556,-0.3873430571485168,-0.3608963851780884,0.424433708589109,-0.257568839173666,-0.3873430571485168,-0.6287324727062418,-0.3873430571485168,-0.016179423615940963,-1.0428989329408636,0.23625113378371293,-1.0249693286198538,0.39798703661868057,-0.27839523481898515,-0.21319256288222788,-0.45744025702922303,-0.7835799130621287,-0.3873430571485168,-0.15998572212989898,-0.3873430571485168,-0.6287324727062418,0.39798703661868057,0.5987218937965135,-0.4045312655005912,-0.33427390733730333,-0.5490789599834844,0.23625113378371293,-0.8782145855467756,0.39798703661868057,-0.3873430571485168,0.39798703661868057,-0.6287324727062418,0.39798703661868057,-0.3873430571485168,-0.6287324727062418,-0.5785216014842984,-0.8544503862952607,-0.33427390733730333,-0.6287324727062418,-0.3105097080857883,-0.3873430571485168,-0.3873430571485168,0.39798703661868057,-0.3608963851780884,0.39798703661868057,0.39798703661868057,0.206808492282899,-0.3608963851780884,-0.8782145855467756,0.5865883716709696,0.3686653061410626,-0.6287324727062418,-0.3873430571485168,-0.3873430571485168,0.1565976210609556,-0.3873430571485168,-0.3873430571485168,-0.8782145855467756,0.39798703661868057,-0.3873430571485168,-0.8782145855467756,-0.3873430571485168,-0.8782145855467756,-0.6287324727062418,-0.36072057930773166,-1.1460506730749294,-1.1460506730749294,-1.1460506730749294,-0.25760071655715644,-0.010383341420475214,-1.1460506730749294,-1.1460506730749294,-1.1460506730749294,-0.36072057930773166,-1.1460506730749294,-1.1460506730749294,-1.1460506730749294,-1.1460506730749294,-1.1460506730749294,-0.2810670665849744,-1.1460506730749294,-1.1460506730749294,-1.1460506730749294,-1.1460506730749294,-1.1460506730749294,-0.36072057930773166,-1.1460506730749294,-0.36072057930773166,-1.1460506730749294,-0.1193311637500066,-0.1193311637500066,-0.1193311637500066,-0.1193311637500066,-0.8250077447944468,-0.8250077447944468,-0.03967765102724931,-0.8250077447944468,-0.1193311637500066,-0.1193311637500066,-0.11933116375000659,-0.11933116375000659,-0.11933116375000659,-0.11933116375000659,-0.11933116375000659,-0.11933116375000659,-0.11933116375000659,-0.11933116375000659,-0.11933116375000659],\"xaxis\":\"x\",\"y\":[0.35260872939514043,-1.640841723294202,-1.69306511346035,-0.060825484841868734,-0.9720988833720716,0.7593024505156684,1.9067697919675703,0.8213277997053731,0.6582508331716157,0.5205673436688432,1.520585439659614,-1.4629467675474659,-0.26318019776039386,-1.0538292858563023,0.5962254839819106,0.7202761823613208,0.4585419944791381,1.670288260456268,1.9077840205305656,-0.09024272792262454,-1.1548809032003553,0.3574903771350856,2.1938974568807375,0.5571992158275629,1.5358322594939626,-0.30220646591474093,-0.30220646591474093,0.43314851744815286,0.6397532457970896,1.8677435238132223,0.49517386663785795,-1.5917290058622422,-0.30212289731052516,0.29780217188511887,0.631261513263215,1.095098935833502,-1.5917290058622422,1.205793105427873,0.5571992158275629,2.0385909323441287,-0.5549558340047106,-0.1047512025577861,0.5571992158275629,-0.16289133074891662,-1.1115043753234346,1.5358322594939626,1.095098935833502,-0.07705300606248594,-0.1047512025577861,-0.32985351828124854,1.4308954211513363,1.3598437923735691,-0.05608238215311933,0.19441341060132836,0.28458002554955736,0.7689450027659871,-1.3315906608574752,-0.6560074513487637,-1.3315906608574752,-0.4784220101798445,-1.0928555540106506,0.3941222492938055,0.3941222492938055,-0.5272252130339877,-0.26782816909154367,-0.6560074513487637,-1.2559325205444076,-0.32596829728267407,-0.6414989767136022,1.593972387685094,-0.5685886251280735,-1.0928555540106506,0.6932868624529199,0.9435250690498506,1.2678184546175788,1.1921603143045112,0.7834534774011489,0.7728302237645616,1.4308954211513363,1.4308954211513363,1.2678184546175788,-0.9297785874768927,-1.1272338508338473,0.9320219692997449,0.2700715509143958,-1.0928555540106506,1.3078589513349221,1.4347806421499107,0.6058680362322295,1.2678184546175788,-0.6560074513487637,1.4327541439590978,-0.32985351828124854,1.24121059979153,1.593972387685094,-1.0928555540106506,-1.1745304364250044,-0.46519986384428264,-0.26782816909154367,0.9979325394880244,0.9940473184894497,0.3941222492938055,0.3941222492938055,0.3941222492938055,-0.26782816909154367,0.19666698593685045,0.1346416367471456,0.3941222492938055,-0.26782816909154367,0.04209824275535403,0.39800747029237993,0.3941222492938055,0.3941222492938055,-0.26782816909154367,0.9940473184894497,0.3941222492938055,0.9940473184894497,0.3941222492938055,0.9183891781763822,0.8328290747634535,0.3941222492938055,0.9940473184894497,-0.5939821021590587,-0.10400990149546341,0.1690199335703429,-0.5939821021590587,0.07185353722486473,-0.8839807595078052,-0.9596388998208725,-0.5939821021590587,-0.5939821021590587,-0.42701991462672695,-0.5939821021590587,0.8348555729542666,-0.5939821021590587,0.009828188035159767,-0.5065632759383687,-0.5939821021590587,-0.5939821021590587,-0.0419845523057586,0.1690199335703429,-0.5939821021590587,-0.5900968811604842,0.009828188035159767,0.7454102485427634,-0.5939821021590587,-0.43090513562530125,-0.5939821021590587,0.5823332820090056,0.14548517934711913,0.09336179325727563,0.03367358800730871,0.005942967036585339,-0.7914373655160135,0.6374838782015274,-0.6137683557428787,-0.1294033785264489,-0.5939821021590587,0.5579405168898858,-0.5939821021590587,-0.43090513562530125,0.005942967036585339,-0.2670868680292211,-0.9182754877267866,0.8348555729542666,-0.5065632759383687,0.09336179325727563,0.07185353722486473,0.005942967036585339,-0.5939821021590587,0.005942967036585339,-0.43090513562530125,0.005942967036585339,-0.5939821021590587,-0.43090513562530125,-0.4163966609901397,0.08247679086145182,0.8348555729542666,-0.43090513562530125,0.8454788265908535,-0.5939821021590587,-0.5939821021590587,0.005942967036585339,-0.5900968811604842,0.005942967036585339,0.005942967036585339,0.18352840820550445,-0.5900968811604842,0.07185353722486473,-0.2671704366334368,-0.3184339871353586,-0.43090513562530125,-0.5939821021590587,-0.5939821021590587,0.1690199335703429,-0.5939821021590587,-0.5939821021590587,0.07185353722486473,0.005942967036585339,-0.5939821021590587,0.07185353722486473,-0.5939821021590587,0.07185353722486473,-0.43090513562530125,0.830970351955692,0.23104528276004782,0.23104528276004782,0.23104528276004782,0.5409716946069456,0.4704381220649797,0.23104528276004782,0.23104528276004782,0.23104528276004782,0.830970351955692,0.23104528276004782,0.23104528276004782,0.23104528276004782,0.23104528276004782,0.23104528276004782,0.7553122116426249,0.23104528276004782,0.23104528276004782,0.23104528276004782,0.23104528276004782,0.23104528276004782,0.830970351955692,0.23104528276004782,0.830970351955692,0.23104528276004782,0.6678933854219343,0.6678933854219343,0.6678933854219343,0.6678933854219343,-0.007689824086776895,-0.007689824086776895,0.5922352451088672,-0.0076898240867768934,0.6678933854219343,0.6678933854219343,0.6678933854219343,0.6678933854219343,0.6678933854219343,0.6678933854219343,0.6678933854219343,0.6678933854219343,0.6678933854219343,0.6678933854219343,0.6678933854219343],\"yaxis\":\"y\",\"type\":\"scatter\"}],                        {\"template\":{\"data\":{\"histogram2dcontour\":[{\"type\":\"histogram2dcontour\",\"colorbar\":{\"outlinewidth\":0,\"ticks\":\"\"},\"colorscale\":[[0.0,\"#0d0887\"],[0.1111111111111111,\"#46039f\"],[0.2222222222222222,\"#7201a8\"],[0.3333333333333333,\"#9c179e\"],[0.4444444444444444,\"#bd3786\"],[0.5555555555555556,\"#d8576b\"],[0.6666666666666666,\"#ed7953\"],[0.7777777777777778,\"#fb9f3a\"],[0.8888888888888888,\"#fdca26\"],[1.0,\"#f0f921\"]]}],\"choropleth\":[{\"type\":\"choropleth\",\"colorbar\":{\"outlinewidth\":0,\"ticks\":\"\"}}],\"histogram2d\":[{\"type\":\"histogram2d\",\"colorbar\":{\"outlinewidth\":0,\"ticks\":\"\"},\"colorscale\":[[0.0,\"#0d0887\"],[0.1111111111111111,\"#46039f\"],[0.2222222222222222,\"#7201a8\"],[0.3333333333333333,\"#9c179e\"],[0.4444444444444444,\"#bd3786\"],[0.5555555555555556,\"#d8576b\"],[0.6666666666666666,\"#ed7953\"],[0.7777777777777778,\"#fb9f3a\"],[0.8888888888888888,\"#fdca26\"],[1.0,\"#f0f921\"]]}],\"heatmap\":[{\"type\":\"heatmap\",\"colorbar\":{\"outlinewidth\":0,\"ticks\":\"\"},\"colorscale\":[[0.0,\"#0d0887\"],[0.1111111111111111,\"#46039f\"],[0.2222222222222222,\"#7201a8\"],[0.3333333333333333,\"#9c179e\"],[0.4444444444444444,\"#bd3786\"],[0.5555555555555556,\"#d8576b\"],[0.6666666666666666,\"#ed7953\"],[0.7777777777777778,\"#fb9f3a\"],[0.8888888888888888,\"#fdca26\"],[1.0,\"#f0f921\"]]}],\"heatmapgl\":[{\"type\":\"heatmapgl\",\"colorbar\":{\"outlinewidth\":0,\"ticks\":\"\"},\"colorscale\":[[0.0,\"#0d0887\"],[0.1111111111111111,\"#46039f\"],[0.2222222222222222,\"#7201a8\"],[0.3333333333333333,\"#9c179e\"],[0.4444444444444444,\"#bd3786\"],[0.5555555555555556,\"#d8576b\"],[0.6666666666666666,\"#ed7953\"],[0.7777777777777778,\"#fb9f3a\"],[0.8888888888888888,\"#fdca26\"],[1.0,\"#f0f921\"]]}],\"contourcarpet\":[{\"type\":\"contourcarpet\",\"colorbar\":{\"outlinewidth\":0,\"ticks\":\"\"}}],\"contour\":[{\"type\":\"contour\",\"colorbar\":{\"outlinewidth\":0,\"ticks\":\"\"},\"colorscale\":[[0.0,\"#0d0887\"],[0.1111111111111111,\"#46039f\"],[0.2222222222222222,\"#7201a8\"],[0.3333333333333333,\"#9c179e\"],[0.4444444444444444,\"#bd3786\"],[0.5555555555555556,\"#d8576b\"],[0.6666666666666666,\"#ed7953\"],[0.7777777777777778,\"#fb9f3a\"],[0.8888888888888888,\"#fdca26\"],[1.0,\"#f0f921\"]]}],\"surface\":[{\"type\":\"surface\",\"colorbar\":{\"outlinewidth\":0,\"ticks\":\"\"},\"colorscale\":[[0.0,\"#0d0887\"],[0.1111111111111111,\"#46039f\"],[0.2222222222222222,\"#7201a8\"],[0.3333333333333333,\"#9c179e\"],[0.4444444444444444,\"#bd3786\"],[0.5555555555555556,\"#d8576b\"],[0.6666666666666666,\"#ed7953\"],[0.7777777777777778,\"#fb9f3a\"],[0.8888888888888888,\"#fdca26\"],[1.0,\"#f0f921\"]]}],\"mesh3d\":[{\"type\":\"mesh3d\",\"colorbar\":{\"outlinewidth\":0,\"ticks\":\"\"}}],\"scatter\":[{\"fillpattern\":{\"fillmode\":\"overlay\",\"size\":10,\"solidity\":0.2},\"type\":\"scatter\"}],\"parcoords\":[{\"type\":\"parcoords\",\"line\":{\"colorbar\":{\"outlinewidth\":0,\"ticks\":\"\"}}}],\"scatterpolargl\":[{\"type\":\"scatterpolargl\",\"marker\":{\"colorbar\":{\"outlinewidth\":0,\"ticks\":\"\"}}}],\"bar\":[{\"error_x\":{\"color\":\"#2a3f5f\"},\"error_y\":{\"color\":\"#2a3f5f\"},\"marker\":{\"line\":{\"color\":\"#E5ECF6\",\"width\":0.5},\"pattern\":{\"fillmode\":\"overlay\",\"size\":10,\"solidity\":0.2}},\"type\":\"bar\"}],\"scattergeo\":[{\"type\":\"scattergeo\",\"marker\":{\"colorbar\":{\"outlinewidth\":0,\"ticks\":\"\"}}}],\"scatterpolar\":[{\"type\":\"scatterpolar\",\"marker\":{\"colorbar\":{\"outlinewidth\":0,\"ticks\":\"\"}}}],\"histogram\":[{\"marker\":{\"pattern\":{\"fillmode\":\"overlay\",\"size\":10,\"solidity\":0.2}},\"type\":\"histogram\"}],\"scattergl\":[{\"type\":\"scattergl\",\"marker\":{\"colorbar\":{\"outlinewidth\":0,\"ticks\":\"\"}}}],\"scatter3d\":[{\"type\":\"scatter3d\",\"line\":{\"colorbar\":{\"outlinewidth\":0,\"ticks\":\"\"}},\"marker\":{\"colorbar\":{\"outlinewidth\":0,\"ticks\":\"\"}}}],\"scattermapbox\":[{\"type\":\"scattermapbox\",\"marker\":{\"colorbar\":{\"outlinewidth\":0,\"ticks\":\"\"}}}],\"scatterternary\":[{\"type\":\"scatterternary\",\"marker\":{\"colorbar\":{\"outlinewidth\":0,\"ticks\":\"\"}}}],\"scattercarpet\":[{\"type\":\"scattercarpet\",\"marker\":{\"colorbar\":{\"outlinewidth\":0,\"ticks\":\"\"}}}],\"carpet\":[{\"aaxis\":{\"endlinecolor\":\"#2a3f5f\",\"gridcolor\":\"white\",\"linecolor\":\"white\",\"minorgridcolor\":\"white\",\"startlinecolor\":\"#2a3f5f\"},\"baxis\":{\"endlinecolor\":\"#2a3f5f\",\"gridcolor\":\"white\",\"linecolor\":\"white\",\"minorgridcolor\":\"white\",\"startlinecolor\":\"#2a3f5f\"},\"type\":\"carpet\"}],\"table\":[{\"cells\":{\"fill\":{\"color\":\"#EBF0F8\"},\"line\":{\"color\":\"white\"}},\"header\":{\"fill\":{\"color\":\"#C8D4E3\"},\"line\":{\"color\":\"white\"}},\"type\":\"table\"}],\"barpolar\":[{\"marker\":{\"line\":{\"color\":\"#E5ECF6\",\"width\":0.5},\"pattern\":{\"fillmode\":\"overlay\",\"size\":10,\"solidity\":0.2}},\"type\":\"barpolar\"}],\"pie\":[{\"automargin\":true,\"type\":\"pie\"}]},\"layout\":{\"autotypenumbers\":\"strict\",\"colorway\":[\"#636efa\",\"#EF553B\",\"#00cc96\",\"#ab63fa\",\"#FFA15A\",\"#19d3f3\",\"#FF6692\",\"#B6E880\",\"#FF97FF\",\"#FECB52\"],\"font\":{\"color\":\"#2a3f5f\"},\"hovermode\":\"closest\",\"hoverlabel\":{\"align\":\"left\"},\"paper_bgcolor\":\"white\",\"plot_bgcolor\":\"#E5ECF6\",\"polar\":{\"bgcolor\":\"#E5ECF6\",\"angularaxis\":{\"gridcolor\":\"white\",\"linecolor\":\"white\",\"ticks\":\"\"},\"radialaxis\":{\"gridcolor\":\"white\",\"linecolor\":\"white\",\"ticks\":\"\"}},\"ternary\":{\"bgcolor\":\"#E5ECF6\",\"aaxis\":{\"gridcolor\":\"white\",\"linecolor\":\"white\",\"ticks\":\"\"},\"baxis\":{\"gridcolor\":\"white\",\"linecolor\":\"white\",\"ticks\":\"\"},\"caxis\":{\"gridcolor\":\"white\",\"linecolor\":\"white\",\"ticks\":\"\"}},\"coloraxis\":{\"colorbar\":{\"outlinewidth\":0,\"ticks\":\"\"}},\"colorscale\":{\"sequential\":[[0.0,\"#0d0887\"],[0.1111111111111111,\"#46039f\"],[0.2222222222222222,\"#7201a8\"],[0.3333333333333333,\"#9c179e\"],[0.4444444444444444,\"#bd3786\"],[0.5555555555555556,\"#d8576b\"],[0.6666666666666666,\"#ed7953\"],[0.7777777777777778,\"#fb9f3a\"],[0.8888888888888888,\"#fdca26\"],[1.0,\"#f0f921\"]],\"sequentialminus\":[[0.0,\"#0d0887\"],[0.1111111111111111,\"#46039f\"],[0.2222222222222222,\"#7201a8\"],[0.3333333333333333,\"#9c179e\"],[0.4444444444444444,\"#bd3786\"],[0.5555555555555556,\"#d8576b\"],[0.6666666666666666,\"#ed7953\"],[0.7777777777777778,\"#fb9f3a\"],[0.8888888888888888,\"#fdca26\"],[1.0,\"#f0f921\"]],\"diverging\":[[0,\"#8e0152\"],[0.1,\"#c51b7d\"],[0.2,\"#de77ae\"],[0.3,\"#f1b6da\"],[0.4,\"#fde0ef\"],[0.5,\"#f7f7f7\"],[0.6,\"#e6f5d0\"],[0.7,\"#b8e186\"],[0.8,\"#7fbc41\"],[0.9,\"#4d9221\"],[1,\"#276419\"]]},\"xaxis\":{\"gridcolor\":\"white\",\"linecolor\":\"white\",\"ticks\":\"\",\"title\":{\"standoff\":15},\"zerolinecolor\":\"white\",\"automargin\":true,\"zerolinewidth\":2},\"yaxis\":{\"gridcolor\":\"white\",\"linecolor\":\"white\",\"ticks\":\"\",\"title\":{\"standoff\":15},\"zerolinecolor\":\"white\",\"automargin\":true,\"zerolinewidth\":2},\"scene\":{\"xaxis\":{\"backgroundcolor\":\"#E5ECF6\",\"gridcolor\":\"white\",\"linecolor\":\"white\",\"showbackground\":true,\"ticks\":\"\",\"zerolinecolor\":\"white\",\"gridwidth\":2},\"yaxis\":{\"backgroundcolor\":\"#E5ECF6\",\"gridcolor\":\"white\",\"linecolor\":\"white\",\"showbackground\":true,\"ticks\":\"\",\"zerolinecolor\":\"white\",\"gridwidth\":2},\"zaxis\":{\"backgroundcolor\":\"#E5ECF6\",\"gridcolor\":\"white\",\"linecolor\":\"white\",\"showbackground\":true,\"ticks\":\"\",\"zerolinecolor\":\"white\",\"gridwidth\":2}},\"shapedefaults\":{\"line\":{\"color\":\"#2a3f5f\"}},\"annotationdefaults\":{\"arrowcolor\":\"#2a3f5f\",\"arrowhead\":0,\"arrowwidth\":1},\"geo\":{\"bgcolor\":\"white\",\"landcolor\":\"#E5ECF6\",\"subunitcolor\":\"white\",\"showland\":true,\"showlakes\":true,\"lakecolor\":\"white\"},\"title\":{\"x\":0.05},\"mapbox\":{\"style\":\"light\"}}},\"xaxis\":{\"anchor\":\"y\",\"domain\":[0.0,1.0],\"title\":{\"text\":\"PC2 (53.6%)\"}},\"yaxis\":{\"anchor\":\"x\",\"domain\":[0.0,1.0],\"title\":{\"text\":\"PC3 (14.9%)\"}},\"legend\":{\"title\":{\"text\":\"color\"},\"tracegroupgap\":0},\"margin\":{\"t\":60},\"shapes\":[{\"type\":\"line\",\"x0\":0,\"x1\":1.6803803952067655,\"y0\":0,\"y1\":-0.22721401159889493},{\"type\":\"line\",\"x0\":0,\"x1\":-0.03305255824505537,\"y0\":0,\"y1\":0.10254994697784091},{\"type\":\"line\",\"x0\":0,\"x1\":0.17586923399886253,\"y0\":0,\"y1\":0.09706422975071387},{\"type\":\"line\",\"x0\":0,\"x1\":0.16290780182598372,\"y0\":0,\"y1\":0.7392122004268666},{\"type\":\"line\",\"x0\":0,\"x1\":0.23494350244538328,\"y0\":0,\"y1\":0.07497592270922677},{\"type\":\"line\",\"x0\":0,\"x1\":0.4818619965275952,\"y0\":0,\"y1\":0.48693909510204697},{\"type\":\"line\",\"x0\":0,\"x1\":0.0014242160737268545,\"y0\":0,\"y1\":0.047262277220622616},{\"type\":\"line\",\"x0\":0,\"x1\":0.11967413215891028,\"y0\":0,\"y1\":0.02489361191731343},{\"type\":\"line\",\"x0\":0,\"x1\":-0.02353551835407408,\"y0\":0,\"y1\":0.11397093754032617},{\"type\":\"line\",\"x0\":0,\"x1\":-0.05061276309717861,\"y0\":0,\"y1\":0.0970942351598802},{\"type\":\"line\",\"x0\":0,\"x1\":-0.0028418241753126266,\"y0\":0,\"y1\":0.0003338008394895982}],\"annotations\":[{\"ax\":0,\"ay\":0,\"text\":\"CLUMP0\",\"x\":1.6803803952067655,\"xanchor\":\"center\",\"y\":-0.22721401159889493,\"yanchor\":\"bottom\"},{\"ax\":0,\"ay\":0,\"text\":\"CLUMP1\",\"x\":-0.03305255824505537,\"xanchor\":\"center\",\"y\":0.10254994697784091,\"yanchor\":\"bottom\"},{\"ax\":0,\"ay\":0,\"text\":\"CLUMP2\",\"x\":0.17586923399886253,\"xanchor\":\"center\",\"y\":0.09706422975071387,\"yanchor\":\"bottom\"},{\"ax\":0,\"ay\":0,\"text\":\"CLUMP3\",\"x\":0.16290780182598372,\"xanchor\":\"center\",\"y\":0.7392122004268666,\"yanchor\":\"bottom\"},{\"ax\":0,\"ay\":0,\"text\":\"CLUMP4\",\"x\":0.23494350244538328,\"xanchor\":\"center\",\"y\":0.07497592270922677,\"yanchor\":\"bottom\"},{\"ax\":0,\"ay\":0,\"text\":\"CLUMP5\",\"x\":0.4818619965275952,\"xanchor\":\"center\",\"y\":0.48693909510204697,\"yanchor\":\"bottom\"},{\"ax\":0,\"ay\":0,\"text\":\"CLUMP6\",\"x\":0.0014242160737268545,\"xanchor\":\"center\",\"y\":0.047262277220622616,\"yanchor\":\"bottom\"},{\"ax\":0,\"ay\":0,\"text\":\"CLUMP7\",\"x\":0.11967413215891028,\"xanchor\":\"center\",\"y\":0.02489361191731343,\"yanchor\":\"bottom\"},{\"ax\":0,\"ay\":0,\"text\":\"CLUMP8\",\"x\":-0.02353551835407408,\"xanchor\":\"center\",\"y\":0.11397093754032617,\"yanchor\":\"bottom\"},{\"ax\":0,\"ay\":0,\"text\":\"CLUMP9\",\"x\":-0.05061276309717861,\"xanchor\":\"center\",\"y\":0.0970942351598802,\"yanchor\":\"bottom\"},{\"ax\":0,\"ay\":0,\"text\":\"CLUMP10\",\"x\":-0.0028418241753126266,\"xanchor\":\"center\",\"y\":0.0003338008394895982,\"yanchor\":\"bottom\"}]},                        {\"responsive\": true}                    ).then(function(){\n",
       "                            \n",
       "var gd = document.getElementById('4beed6a6-94f3-4002-ab03-8980ae1b6d8d');\n",
       "var x = new MutationObserver(function (mutations, observer) {{\n",
       "        var display = window.getComputedStyle(gd).display;\n",
       "        if (!display || display === 'none') {{\n",
       "            console.log([gd, 'removed!']);\n",
       "            Plotly.purge(gd);\n",
       "            observer.disconnect();\n",
       "        }}\n",
       "}});\n",
       "\n",
       "// Listen for the removal of the full notebook cells\n",
       "var notebookContainer = gd.closest('#notebook-container');\n",
       "if (notebookContainer) {{\n",
       "    x.observe(notebookContainer, {childList: true});\n",
       "}}\n",
       "\n",
       "// Listen for the clearing of the current output cell\n",
       "var outputEl = gd.closest('.output');\n",
       "if (outputEl) {{\n",
       "    x.observe(outputEl, {childList: true});\n",
       "}}\n",
       "\n",
       "                        })                };                });            </script>        </div>"
      ]
     },
     "metadata": {},
     "output_type": "display_data"
    }
   ],
   "source": [
    "# PCA\n",
    "pca = PCA(n_components=4)\n",
    "components = pca.fit_transform(clumps_feature_eff_noneff[list(clumps_feature_eff_noneff.columns)[:-1]])\n",
    "comp_to_vis = [1, 2]\n",
    "loadings = pca.components_.T * np.sqrt(pca.explained_variance_)\n",
    "fig_pca = px.scatter(components, x=comp_to_vis[0]-1, y=comp_to_vis[1]-1, color=clumps_feature_eff_noneff[\"name\"])\n",
    "fig_pca.update_xaxes(title=f\"PC{comp_to_vis[0]} ({pca.explained_variance_ratio_[0] * 100:.1f}%)\")\n",
    "fig_pca.update_yaxes(title=f\"PC{comp_to_vis[1]} ({pca.explained_variance_ratio_[1] * 100:.1f}%)\")\n",
    "\n",
    "for i, feature in enumerate(list(clumps_feature_eff_noneff.columns)[:-1]):\n",
    "    fig_pca.add_shape(type=\"line\", \n",
    "                     x0=0, y0=0,\n",
    "                     x1=loadings[i, 0],\n",
    "                     y1=loadings[i, 1])\n",
    "    fig_pca.add_annotation(x=loadings[i, 0],\n",
    "                          y=loadings[i, 1],\n",
    "                          ax=0, ay=0,\n",
    "                          xanchor=\"center\",\n",
    "                          yanchor=\"bottom\",\n",
    "                          text=feature)\n",
    "\n",
    "fig_pca.show()"
   ]
  },
  {
   "cell_type": "code",
   "execution_count": null,
   "id": "090c55cf",
   "metadata": {},
   "outputs": [],
   "source": []
  }
 ],
 "metadata": {
  "kernelspec": {
   "display_name": "Python 3 (ipykernel)",
   "language": "python",
   "name": "python3"
  },
  "language_info": {
   "codemirror_mode": {
    "name": "ipython",
    "version": 3
   },
   "file_extension": ".py",
   "mimetype": "text/x-python",
   "name": "python",
   "nbconvert_exporter": "python",
   "pygments_lexer": "ipython3",
   "version": "3.8.10"
  }
 },
 "nbformat": 4,
 "nbformat_minor": 5
}
